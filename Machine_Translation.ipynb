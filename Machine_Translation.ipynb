{
 "cells": [
  {
   "cell_type": "code",
   "execution_count": null,
   "outputs": [],
   "source": [
    "#Shubh Sudan\n",
    "#21070126089\n",
    "#AIML B1"
   ],
   "metadata": {
    "collapsed": false
   }
  },
  {
   "cell_type": "code",
   "execution_count": 1,
   "outputs": [
    {
     "name": "stderr",
     "output_type": "stream",
     "text": [
      "2023-09-25 14:23:21.250060: I tensorflow/core/util/port.cc:110] oneDNN custom operations are on. You may see slightly different numerical results due to floating-point round-off errors from different computation orders. To turn them off, set the environment variable `TF_ENABLE_ONEDNN_OPTS=0`.\n",
      "2023-09-25 14:23:21.303736: I tensorflow/core/platform/cpu_feature_guard.cc:182] This TensorFlow binary is optimized to use available CPU instructions in performance-critical operations.\n",
      "To enable the following instructions: AVX2 AVX512F AVX512_VNNI FMA, in other operations, rebuild TensorFlow with the appropriate compiler flags.\n",
      "2023-09-25 14:23:22.218971: W tensorflow/compiler/tf2tensorrt/utils/py_utils.cc:38] TF-TRT Warning: Could not find TensorRT\n",
      "/home/student/anaconda3/lib/python3.9/site-packages/scipy/__init__.py:146: UserWarning: A NumPy version >=1.16.5 and <1.23.0 is required for this version of SciPy (detected version 1.24.3\n",
      "  warnings.warn(f\"A NumPy version >={np_minversion} and <{np_maxversion}\"\n"
     ]
    }
   ],
   "source": [
    "import tensorflow as tf\n",
    "from tensorflow.keras.layers import Embedding, LSTM, Dense, RepeatVector, TimeDistributed,Input\n",
    "from tensorflow.keras.models import Model\n",
    "from tensorflow.keras.losses import sparse_categorical_crossentropy\n",
    "import pandas as pd\n",
    "import re\n",
    "import string\n",
    "from string import digits\n",
    "import numpy as np\n",
    "import warnings\n",
    "warnings.filterwarnings(\"ignore\")"
   ],
   "metadata": {
    "collapsed": false
   }
  },
  {
   "cell_type": "code",
   "execution_count": 4,
   "metadata": {
    "colab": {
     "base_uri": "https://localhost:8080/",
     "height": 206
    },
    "id": "tYn1DFgXhyOs",
    "outputId": "0eaf20ca-ef94-4e2a-e2eb-dd8b2a34e3bf"
   },
   "outputs": [
    {
     "data": {
      "text/html": [
       "<div>\n",
       "<style scoped>\n",
       "    .dataframe tbody tr th:only-of-type {\n",
       "        vertical-align: middle;\n",
       "    }\n",
       "\n",
       "    .dataframe tbody tr th {\n",
       "        vertical-align: top;\n",
       "    }\n",
       "\n",
       "    .dataframe thead th {\n",
       "        text-align: right;\n",
       "    }\n",
       "</style>\n",
       "<table border=\"1\" class=\"dataframe\">\n",
       "  <thead>\n",
       "    <tr style=\"text-align: right;\">\n",
       "      <th></th>\n",
       "      <th>source</th>\n",
       "      <th>english_sentence</th>\n",
       "      <th>hindi_sentence</th>\n",
       "    </tr>\n",
       "  </thead>\n",
       "  <tbody>\n",
       "    <tr>\n",
       "      <th>0</th>\n",
       "      <td>ted</td>\n",
       "      <td>politicians do not have permission to do what ...</td>\n",
       "      <td>राजनीतिज्ञों के पास जो कार्य करना चाहिए, वह कर...</td>\n",
       "    </tr>\n",
       "    <tr>\n",
       "      <th>1</th>\n",
       "      <td>ted</td>\n",
       "      <td>I'd like to tell you about one such child,</td>\n",
       "      <td>मई आपको ऐसे ही एक बच्चे के बारे में बताना चाहू...</td>\n",
       "    </tr>\n",
       "    <tr>\n",
       "      <th>2</th>\n",
       "      <td>indic2012</td>\n",
       "      <td>This percentage is even greater than the perce...</td>\n",
       "      <td>यह प्रतिशत भारत में हिन्दुओं प्रतिशत से अधिक है।</td>\n",
       "    </tr>\n",
       "    <tr>\n",
       "      <th>3</th>\n",
       "      <td>ted</td>\n",
       "      <td>what we really mean is that they're bad at not...</td>\n",
       "      <td>हम ये नहीं कहना चाहते कि वो ध्यान नहीं दे पाते</td>\n",
       "    </tr>\n",
       "    <tr>\n",
       "      <th>4</th>\n",
       "      <td>indic2012</td>\n",
       "      <td>.The ending portion of these Vedas is called U...</td>\n",
       "      <td>इन्हीं वेदों का अंतिम भाग उपनिषद कहलाता है।</td>\n",
       "    </tr>\n",
       "  </tbody>\n",
       "</table>\n",
       "</div>"
      ],
      "text/plain": [
       "      source                                   english_sentence  \\\n",
       "0        ted  politicians do not have permission to do what ...   \n",
       "1        ted         I'd like to tell you about one such child,   \n",
       "2  indic2012  This percentage is even greater than the perce...   \n",
       "3        ted  what we really mean is that they're bad at not...   \n",
       "4  indic2012  .The ending portion of these Vedas is called U...   \n",
       "\n",
       "                                      hindi_sentence  \n",
       "0  राजनीतिज्ञों के पास जो कार्य करना चाहिए, वह कर...  \n",
       "1  मई आपको ऐसे ही एक बच्चे के बारे में बताना चाहू...  \n",
       "2   यह प्रतिशत भारत में हिन्दुओं प्रतिशत से अधिक है।  \n",
       "3     हम ये नहीं कहना चाहते कि वो ध्यान नहीं दे पाते  \n",
       "4        इन्हीं वेदों का अंतिम भाग उपनिषद कहलाता है।  "
      ]
     },
     "execution_count": 4,
     "metadata": {},
     "output_type": "execute_result"
    }
   ],
   "source": [
    "df = pd.read_csv(r\"Hindi_English_Truncated_Corpus (1).csv\")\n",
    "df.head()"
   ]
  },
  {
   "cell_type": "code",
   "execution_count": 5,
   "metadata": {
    "colab": {
     "base_uri": "https://localhost:8080/"
    },
    "id": "0yh2VeLgjc2w",
    "outputId": "b27e2426-33b4-4829-a893-111272bbdfbd"
   },
   "outputs": [
    {
     "data": {
      "text/plain": [
       "(127607, 3)"
      ]
     },
     "execution_count": 5,
     "metadata": {},
     "output_type": "execute_result"
    }
   ],
   "source": [
    "df.shape"
   ]
  },
  {
   "cell_type": "code",
   "execution_count": 6,
   "metadata": {
    "colab": {
     "base_uri": "https://localhost:8080/"
    },
    "id": "IifcRJf2j7Vf",
    "outputId": "68c5edae-0c91-4791-a22d-674fc056bcce"
   },
   "outputs": [
    {
     "data": {
      "text/plain": [
       "tides        50000\n",
       "ted          39881\n",
       "indic2012    37726\n",
       "Name: source, dtype: int64"
      ]
     },
     "execution_count": 6,
     "metadata": {},
     "output_type": "execute_result"
    }
   ],
   "source": [
    "df[\"source\"].value_counts()"
   ]
  },
  {
   "cell_type": "code",
   "execution_count": 7,
   "metadata": {
    "id": "t9MslIzij9YA"
   },
   "outputs": [],
   "source": [
    "# Filtering out the sentence whose length is > 30.\n",
    "data = df[(df.english_sentence.apply(lambda x:len(str(x)) <=30)) &\n",
    "            (df.hindi_sentence.apply(lambda x:len(str(x)) <=30))].reset_index(drop=True)"
   ]
  },
  {
   "cell_type": "code",
   "execution_count": 8,
   "metadata": {
    "colab": {
     "base_uri": "https://localhost:8080/"
    },
    "id": "hVlacR-Vk1Uq",
    "outputId": "54d4597e-d934-438f-a6c3-b0b47557b092"
   },
   "outputs": [
    {
     "data": {
      "text/plain": [
       "(18416, 3)"
      ]
     },
     "execution_count": 8,
     "metadata": {},
     "output_type": "execute_result"
    }
   ],
   "source": [
    "data.shape"
   ]
  },
  {
   "cell_type": "code",
   "execution_count": 9,
   "metadata": {
    "id": "1fCJG1mZk6QS"
   },
   "outputs": [],
   "source": [
    "#Changing uppercase to lowercase\n",
    "data[\"english_sentence\"] = data[\"english_sentence\"].apply(lambda x: str(x).lower()).copy()\n",
    "data[\"hindi_sentence\"] = data[\"hindi_sentence\"].apply(lambda x: str(x).lower()).copy()"
   ]
  },
  {
   "cell_type": "code",
   "execution_count": 10,
   "metadata": {
    "id": "BP6Y0_FilOTL"
   },
   "outputs": [],
   "source": [
    "# Remove quotes\n",
    "data[\"english_sentence\"] = data[\"english_sentence\"].apply(lambda x: re.sub(\"'\",'',x))\n",
    "data[\"hindi_sentence\"] = data[\"hindi_sentence\"].apply(lambda x: re.sub(\"'\",'',x))"
   ]
  },
  {
   "cell_type": "code",
   "execution_count": 11,
   "metadata": {
    "colab": {
     "base_uri": "https://localhost:8080/",
     "height": 206
    },
    "id": "R2yOATHumiSj",
    "outputId": "aaed9b50-05d1-4edc-c98e-816e6a83161e"
   },
   "outputs": [
    {
     "data": {
      "text/html": [
       "<div>\n",
       "<style scoped>\n",
       "    .dataframe tbody tr th:only-of-type {\n",
       "        vertical-align: middle;\n",
       "    }\n",
       "\n",
       "    .dataframe tbody tr th {\n",
       "        vertical-align: top;\n",
       "    }\n",
       "\n",
       "    .dataframe thead th {\n",
       "        text-align: right;\n",
       "    }\n",
       "</style>\n",
       "<table border=\"1\" class=\"dataframe\">\n",
       "  <thead>\n",
       "    <tr style=\"text-align: right;\">\n",
       "      <th></th>\n",
       "      <th>source</th>\n",
       "      <th>english_sentence</th>\n",
       "      <th>hindi_sentence</th>\n",
       "    </tr>\n",
       "  </thead>\n",
       "  <tbody>\n",
       "    <tr>\n",
       "      <th>0</th>\n",
       "      <td>indic2012</td>\n",
       "      <td>category: religious text</td>\n",
       "      <td>श्रेणी:धर्मग्रन्थ</td>\n",
       "    </tr>\n",
       "    <tr>\n",
       "      <th>1</th>\n",
       "      <td>ted</td>\n",
       "      <td>this changed slowly</td>\n",
       "      <td>धीरे धीरे ये सब बदला</td>\n",
       "    </tr>\n",
       "    <tr>\n",
       "      <th>2</th>\n",
       "      <td>ted</td>\n",
       "      <td>were being produced.</td>\n",
       "      <td>उत्पन्न नहीं कि जाती थी.</td>\n",
       "    </tr>\n",
       "    <tr>\n",
       "      <th>3</th>\n",
       "      <td>indic2012</td>\n",
       "      <td>maine</td>\n",
       "      <td>मेन</td>\n",
       "    </tr>\n",
       "    <tr>\n",
       "      <th>4</th>\n",
       "      <td>ted</td>\n",
       "      <td>can you imagine saying that?</td>\n",
       "      <td>क्या आप ये कल्पना कर सकते है</td>\n",
       "    </tr>\n",
       "  </tbody>\n",
       "</table>\n",
       "</div>"
      ],
      "text/plain": [
       "      source              english_sentence                hindi_sentence\n",
       "0  indic2012      category: religious text             श्रेणी:धर्मग्रन्थ\n",
       "1        ted           this changed slowly          धीरे धीरे ये सब बदला\n",
       "2        ted          were being produced.      उत्पन्न नहीं कि जाती थी.\n",
       "3  indic2012                         maine                           मेन\n",
       "4        ted  can you imagine saying that?  क्या आप ये कल्पना कर सकते है"
      ]
     },
     "execution_count": 11,
     "metadata": {},
     "output_type": "execute_result"
    }
   ],
   "source": [
    "data.head()"
   ]
  },
  {
   "cell_type": "code",
   "execution_count": 12,
   "metadata": {
    "id": "pqs5zspAlj-A"
   },
   "outputs": [],
   "source": [
    "punctuation = set(string.punctuation)\n",
    "data[\"english_sentence\"] = data[\"english_sentence\"].apply(lambda x: ''.join(ch for ch in x if ch not in punctuation))\n",
    "data[\"hindi_sentence\"] = data[\"hindi_sentence\"].apply(lambda x: ''.join(ch for ch in x if ch not in punctuation))"
   ]
  },
  {
   "cell_type": "code",
   "execution_count": 13,
   "metadata": {
    "colab": {
     "base_uri": "https://localhost:8080/",
     "height": 206
    },
    "id": "LJweZrXkoffh",
    "outputId": "5fef1f42-24a9-47d9-e256-3dcfe916d9e9"
   },
   "outputs": [
    {
     "data": {
      "text/html": [
       "<div>\n",
       "<style scoped>\n",
       "    .dataframe tbody tr th:only-of-type {\n",
       "        vertical-align: middle;\n",
       "    }\n",
       "\n",
       "    .dataframe tbody tr th {\n",
       "        vertical-align: top;\n",
       "    }\n",
       "\n",
       "    .dataframe thead th {\n",
       "        text-align: right;\n",
       "    }\n",
       "</style>\n",
       "<table border=\"1\" class=\"dataframe\">\n",
       "  <thead>\n",
       "    <tr style=\"text-align: right;\">\n",
       "      <th></th>\n",
       "      <th>source</th>\n",
       "      <th>english_sentence</th>\n",
       "      <th>hindi_sentence</th>\n",
       "    </tr>\n",
       "  </thead>\n",
       "  <tbody>\n",
       "    <tr>\n",
       "      <th>0</th>\n",
       "      <td>indic2012</td>\n",
       "      <td>category religious text</td>\n",
       "      <td>श्रेणीधर्मग्रन्थ</td>\n",
       "    </tr>\n",
       "    <tr>\n",
       "      <th>1</th>\n",
       "      <td>ted</td>\n",
       "      <td>this changed slowly</td>\n",
       "      <td>धीरे धीरे ये सब बदला</td>\n",
       "    </tr>\n",
       "    <tr>\n",
       "      <th>2</th>\n",
       "      <td>ted</td>\n",
       "      <td>were being produced</td>\n",
       "      <td>उत्पन्न नहीं कि जाती थी</td>\n",
       "    </tr>\n",
       "    <tr>\n",
       "      <th>3</th>\n",
       "      <td>indic2012</td>\n",
       "      <td>maine</td>\n",
       "      <td>मेन</td>\n",
       "    </tr>\n",
       "    <tr>\n",
       "      <th>4</th>\n",
       "      <td>ted</td>\n",
       "      <td>can you imagine saying that</td>\n",
       "      <td>क्या आप ये कल्पना कर सकते है</td>\n",
       "    </tr>\n",
       "  </tbody>\n",
       "</table>\n",
       "</div>"
      ],
      "text/plain": [
       "      source             english_sentence                hindi_sentence\n",
       "0  indic2012      category religious text              श्रेणीधर्मग्रन्थ\n",
       "1        ted          this changed slowly          धीरे धीरे ये सब बदला\n",
       "2        ted          were being produced       उत्पन्न नहीं कि जाती थी\n",
       "3  indic2012                        maine                           मेन\n",
       "4        ted  can you imagine saying that  क्या आप ये कल्पना कर सकते है"
      ]
     },
     "execution_count": 13,
     "metadata": {},
     "output_type": "execute_result"
    }
   ],
   "source": [
    "data.head()"
   ]
  },
  {
   "cell_type": "code",
   "execution_count": 14,
   "metadata": {
    "colab": {
     "base_uri": "https://localhost:8080/",
     "height": 363
    },
    "id": "GKXy9gR9msX7",
    "outputId": "e692f9de-3ec6-4d6f-ccad-58a3e983bc2f"
   },
   "outputs": [
    {
     "data": {
      "text/html": [
       "<div>\n",
       "<style scoped>\n",
       "    .dataframe tbody tr th:only-of-type {\n",
       "        vertical-align: middle;\n",
       "    }\n",
       "\n",
       "    .dataframe tbody tr th {\n",
       "        vertical-align: top;\n",
       "    }\n",
       "\n",
       "    .dataframe thead th {\n",
       "        text-align: right;\n",
       "    }\n",
       "</style>\n",
       "<table border=\"1\" class=\"dataframe\">\n",
       "  <thead>\n",
       "    <tr style=\"text-align: right;\">\n",
       "      <th></th>\n",
       "      <th>source</th>\n",
       "      <th>english_sentence</th>\n",
       "      <th>hindi_sentence</th>\n",
       "    </tr>\n",
       "  </thead>\n",
       "  <tbody>\n",
       "    <tr>\n",
       "      <th>18406</th>\n",
       "      <td>indic2012</td>\n",
       "      <td>praja bharat</td>\n",
       "      <td>प्रजा भारत</td>\n",
       "    </tr>\n",
       "    <tr>\n",
       "      <th>18407</th>\n",
       "      <td>indic2012</td>\n",
       "      <td>asamiya</td>\n",
       "      <td>असमिया</td>\n",
       "    </tr>\n",
       "    <tr>\n",
       "      <th>18408</th>\n",
       "      <td>tides</td>\n",
       "      <td>fluoride</td>\n",
       "      <td>फ्ल्युराइड</td>\n",
       "    </tr>\n",
       "    <tr>\n",
       "      <th>18409</th>\n",
       "      <td>indic2012</td>\n",
       "      <td>surdas on wikipedia</td>\n",
       "      <td>सूरदास विकिस्रोत पर</td>\n",
       "    </tr>\n",
       "    <tr>\n",
       "      <th>18410</th>\n",
       "      <td>indic2012</td>\n",
       "      <td>hindustan samacharunicoded</td>\n",
       "      <td>हिन्दुस्थान समाचार यूनिकोडित</td>\n",
       "    </tr>\n",
       "    <tr>\n",
       "      <th>18411</th>\n",
       "      <td>indic2012</td>\n",
       "      <td>google author</td>\n",
       "      <td>गूगल अर्थ</td>\n",
       "    </tr>\n",
       "    <tr>\n",
       "      <th>18412</th>\n",
       "      <td>tides</td>\n",
       "      <td>the die was cast</td>\n",
       "      <td>सांचा ढल गया</td>\n",
       "    </tr>\n",
       "    <tr>\n",
       "      <th>18413</th>\n",
       "      <td>indic2012</td>\n",
       "      <td>devotional period</td>\n",
       "      <td>भक्ति काल</td>\n",
       "    </tr>\n",
       "    <tr>\n",
       "      <th>18414</th>\n",
       "      <td>indic2012</td>\n",
       "      <td>travelling</td>\n",
       "      <td>यात्राएं</td>\n",
       "    </tr>\n",
       "    <tr>\n",
       "      <th>18415</th>\n",
       "      <td>ted</td>\n",
       "      <td>thank you</td>\n",
       "      <td>धन्यवाद</td>\n",
       "    </tr>\n",
       "  </tbody>\n",
       "</table>\n",
       "</div>"
      ],
      "text/plain": [
       "          source            english_sentence                hindi_sentence\n",
       "18406  indic2012                praja bharat                    प्रजा भारत\n",
       "18407  indic2012                     asamiya                        असमिया\n",
       "18408      tides                  fluoride                     फ्ल्युराइड \n",
       "18409  indic2012         surdas on wikipedia           सूरदास विकिस्रोत पर\n",
       "18410  indic2012  hindustan samacharunicoded  हिन्दुस्थान समाचार यूनिकोडित\n",
       "18411  indic2012               google author                     गूगल अर्थ\n",
       "18412      tides           the die was cast                  सांचा ढल गया \n",
       "18413  indic2012           devotional period                    भक्ति काल \n",
       "18414  indic2012                  travelling                      यात्राएं\n",
       "18415        ted                   thank you                      धन्यवाद "
      ]
     },
     "execution_count": 14,
     "metadata": {},
     "output_type": "execute_result"
    }
   ],
   "source": [
    "# Remove digits\n",
    "english = set(digits)\n",
    "hindi =  \tset(['०','१','२','३','४','५','६','७','८','९'])\n",
    "digits = english.union(hindi)\n",
    "data[\"english_sentence\"] = data[\"english_sentence\"].apply(lambda x: ''.join(ch for ch in x if ch not in digits))\n",
    "data[\"hindi_sentence\"] = data[\"hindi_sentence\"].apply(lambda x: ''.join(ch for ch in x if ch not in digits))\n",
    "data.tail(10)"
   ]
  },
  {
   "cell_type": "code",
   "execution_count": 15,
   "metadata": {
    "id": "bKmv0zZ1o1Qo"
   },
   "outputs": [],
   "source": [
    "# Removing extra space\n",
    "data[\"english_sentence\"] = data[\"english_sentence\"].apply(lambda x: x.strip())\n",
    "data[\"hindi_sentence\"] = data[\"hindi_sentence\"].apply(lambda x: x.strip())\n",
    "\n",
    "data[\"english_sentence\"] = data[\"english_sentence\"].apply(lambda x: re.sub(\" +\",\" \",x))\n",
    "data[\"hindi_sentence\"] = data[\"hindi_sentence\"].apply(lambda x: re.sub(\" +\",\" \",x))"
   ]
  },
  {
   "cell_type": "code",
   "execution_count": 16,
   "metadata": {
    "colab": {
     "base_uri": "https://localhost:8080/",
     "height": 424
    },
    "id": "T04dGn90r-oJ",
    "outputId": "4b807453-9d44-4ee3-d85b-ddb8b3594fb8"
   },
   "outputs": [
    {
     "data": {
      "text/html": [
       "<div>\n",
       "<style scoped>\n",
       "    .dataframe tbody tr th:only-of-type {\n",
       "        vertical-align: middle;\n",
       "    }\n",
       "\n",
       "    .dataframe tbody tr th {\n",
       "        vertical-align: top;\n",
       "    }\n",
       "\n",
       "    .dataframe thead th {\n",
       "        text-align: right;\n",
       "    }\n",
       "</style>\n",
       "<table border=\"1\" class=\"dataframe\">\n",
       "  <thead>\n",
       "    <tr style=\"text-align: right;\">\n",
       "      <th></th>\n",
       "      <th>source</th>\n",
       "      <th>english_sentence</th>\n",
       "      <th>hindi_sentence</th>\n",
       "    </tr>\n",
       "  </thead>\n",
       "  <tbody>\n",
       "    <tr>\n",
       "      <th>0</th>\n",
       "      <td>indic2012</td>\n",
       "      <td>category religious text</td>\n",
       "      <td>श्रेणीधर्मग्रन्थ</td>\n",
       "    </tr>\n",
       "    <tr>\n",
       "      <th>1</th>\n",
       "      <td>ted</td>\n",
       "      <td>this changed slowly</td>\n",
       "      <td>धीरे धीरे ये सब बदला</td>\n",
       "    </tr>\n",
       "    <tr>\n",
       "      <th>2</th>\n",
       "      <td>ted</td>\n",
       "      <td>were being produced</td>\n",
       "      <td>उत्पन्न नहीं कि जाती थी</td>\n",
       "    </tr>\n",
       "    <tr>\n",
       "      <th>3</th>\n",
       "      <td>indic2012</td>\n",
       "      <td>maine</td>\n",
       "      <td>मेन</td>\n",
       "    </tr>\n",
       "    <tr>\n",
       "      <th>4</th>\n",
       "      <td>ted</td>\n",
       "      <td>can you imagine saying that</td>\n",
       "      <td>क्या आप ये कल्पना कर सकते है</td>\n",
       "    </tr>\n",
       "    <tr>\n",
       "      <th>...</th>\n",
       "      <td>...</td>\n",
       "      <td>...</td>\n",
       "      <td>...</td>\n",
       "    </tr>\n",
       "    <tr>\n",
       "      <th>18411</th>\n",
       "      <td>indic2012</td>\n",
       "      <td>google author</td>\n",
       "      <td>गूगल अर्थ</td>\n",
       "    </tr>\n",
       "    <tr>\n",
       "      <th>18412</th>\n",
       "      <td>tides</td>\n",
       "      <td>the die was cast</td>\n",
       "      <td>सांचा ढल गया</td>\n",
       "    </tr>\n",
       "    <tr>\n",
       "      <th>18413</th>\n",
       "      <td>indic2012</td>\n",
       "      <td>devotional period</td>\n",
       "      <td>भक्ति काल</td>\n",
       "    </tr>\n",
       "    <tr>\n",
       "      <th>18414</th>\n",
       "      <td>indic2012</td>\n",
       "      <td>travelling</td>\n",
       "      <td>यात्राएं</td>\n",
       "    </tr>\n",
       "    <tr>\n",
       "      <th>18415</th>\n",
       "      <td>ted</td>\n",
       "      <td>thank you</td>\n",
       "      <td>धन्यवाद</td>\n",
       "    </tr>\n",
       "  </tbody>\n",
       "</table>\n",
       "<p>18416 rows × 3 columns</p>\n",
       "</div>"
      ],
      "text/plain": [
       "          source             english_sentence                hindi_sentence\n",
       "0      indic2012      category religious text              श्रेणीधर्मग्रन्थ\n",
       "1            ted          this changed slowly          धीरे धीरे ये सब बदला\n",
       "2            ted          were being produced       उत्पन्न नहीं कि जाती थी\n",
       "3      indic2012                        maine                           मेन\n",
       "4            ted  can you imagine saying that  क्या आप ये कल्पना कर सकते है\n",
       "...          ...                          ...                           ...\n",
       "18411  indic2012                google author                     गूगल अर्थ\n",
       "18412      tides             the die was cast                  सांचा ढल गया\n",
       "18413  indic2012            devotional period                     भक्ति काल\n",
       "18414  indic2012                   travelling                      यात्राएं\n",
       "18415        ted                    thank you                       धन्यवाद\n",
       "\n",
       "[18416 rows x 3 columns]"
      ]
     },
     "execution_count": 16,
     "metadata": {},
     "output_type": "execute_result"
    }
   ],
   "source": [
    "data"
   ]
  },
  {
   "cell_type": "code",
   "execution_count": 17,
   "metadata": {
    "id": "8XoUREeQsAdL"
   },
   "outputs": [],
   "source": [
    "input_text = []\n",
    "target_text = []\n",
    "input_characters = set()\n",
    "target_characters = set()\n",
    "\n",
    "for eng,hin in zip(data.english_sentence,data.hindi_sentence):\n",
    "  target = \"START_ \" + hin + \" _END\"\n",
    "  input_text.append(eng)\n",
    "  target_text.append(target)\n",
    "\n",
    "  for eng_char in eng.split():\n",
    "    if eng_char not in input_characters:\n",
    "      input_characters.add(eng_char)\n",
    "\n",
    "  for hin_char in hin.split():\n",
    "    if hin_char not in input_characters:\n",
    "      target_characters.add(hin_char)"
   ]
  },
  {
   "cell_type": "code",
   "execution_count": 18,
   "metadata": {
    "colab": {
     "base_uri": "https://localhost:8080/"
    },
    "id": "SYz9KjjzuxSR",
    "outputId": "ed5640d7-9504-4eb8-efb1-04ae96581a74"
   },
   "outputs": [
    {
     "name": "stdout",
     "output_type": "stream",
     "text": [
      "input text 18416\n",
      "target text 18416\n",
      "input characters  9232\n",
      "output characters 8575\n"
     ]
    }
   ],
   "source": [
    "print(f\"input text {len(input_text)}\")\n",
    "print(f\"target text {len(target_text)}\")\n",
    "print(f\"input characters  {len(input_characters)}\")\n",
    "print(f\"output characters {len(target_characters)}\")"
   ]
  },
  {
   "cell_type": "code",
   "execution_count": 19,
   "metadata": {
    "colab": {
     "base_uri": "https://localhost:8080/"
    },
    "id": "r4oq4R3yuy3a",
    "outputId": "f978031a-2340-45d5-9ea8-b2871e2a26d7"
   },
   "outputs": [
    {
     "name": "stdout",
     "output_type": "stream",
     "text": [
      "Input Text ->>>>> category religious text ->>>>Output Text ->>>>>START_ श्रेणीधर्मग्रन्थ _END\n"
     ]
    }
   ],
   "source": [
    "print(\"Input Text ->>>>> \"+ input_text[0]+ \" ->>>>Output Text ->>>>>\"+target_text[0])"
   ]
  },
  {
   "cell_type": "code",
   "execution_count": 20,
   "metadata": {
    "id": "sZ0xxVIWvsg3"
   },
   "outputs": [],
   "source": [
    "input_char = sorted(list(input_characters))\n",
    "target_char = sorted(list(target_characters))\n",
    "\n",
    "num_encoder_tokens = len(input_characters)\n",
    "num_decoder_tokens = len(target_characters) + 1 # 1 is for START_ AND _END\n",
    "\n",
    "max_encoder_seq_length = max([len(txt) for txt in input_text])\n",
    "max_decoder_seq_length = max([len(txt) for txt in target_text])"
   ]
  },
  {
   "cell_type": "code",
   "execution_count": 21,
   "metadata": {
    "colab": {
     "base_uri": "https://localhost:8080/"
    },
    "id": "gYRoJR3MwQDa",
    "outputId": "ff5d5140-56ff-4132-f3a5-c4183728d8b6"
   },
   "outputs": [
    {
     "name": "stdout",
     "output_type": "stream",
     "text": [
      "Number of samples: 18416\n",
      "Number of unique input tokens: 9232\n",
      "Number of unique output tokens: 8576\n",
      "Max sequence length for inputs: 30\n",
      "Max sequence length for output: 42\n"
     ]
    }
   ],
   "source": [
    "print(\"Number of samples:\",len(input_text))\n",
    "print(\"Number of unique input tokens:\", num_encoder_tokens)\n",
    "print(\"Number of unique output tokens:\", num_decoder_tokens)\n",
    "print(\"Max sequence length for inputs:\", max_encoder_seq_length)\n",
    "print(\"Max sequence length for output:\", max_decoder_seq_length)"
   ]
  },
  {
   "cell_type": "code",
   "execution_count": 22,
   "metadata": {
    "id": "mE5BE3J6xhv-"
   },
   "outputs": [],
   "source": [
    "# CREATING INDEX FOR EACH AND EVERY WORD AND STORING AS DICTIONARY\n",
    "input_token_index = dict([(word,i+1) for i, word in enumerate(input_char)])\n",
    "target_token_index = dict([(word,i+1) for i, word in enumerate(target_char)])\n",
    "\n",
    "reverse_input_char_index = dict([(i,word) for word, i in input_token_index.items()])\n",
    "reverse_target_char_index = dict([(i,word) for word, i in target_token_index.items()])"
   ]
  },
  {
   "cell_type": "code",
   "execution_count": 23,
   "metadata": {
    "colab": {
     "base_uri": "https://localhost:8080/"
    },
    "id": "Hk0RsfVKyz8V",
    "outputId": "dd072cdb-10f2-4333-92b5-e713bb032447"
   },
   "outputs": [
    {
     "name": "stdout",
     "output_type": "stream",
     "text": [
      "{'a': 1, 'aaaahhh': 2, 'aadikavya': 3, 'aagra': 4, 'aaj': 5, 'aajamgarth': 6, 'aakrnsa': 7, 'aakul': 8, 'aalekh': 9, 'aambat': 10, 'aangaare': 11, 'aanre': 12, 'aanri': 13, 'aarti': 14, 'aarun': 15, 'aaydaho': 16, 'aayouva': 17, 'aazamgad': 18, 'ab': 19, 'abandoned': 20, 'abdictions': 21, 'abhilekh': 22, 'abhinav': 23, 'abhishek': 24, 'abhyagat': 25, 'abidjan': 26, 'ability': 27, 'abinav': 28, 'abject': 29, 'able': 30, 'about': 31, 'about”': 32, 'above': 33, 'abraham': 34, 'absence': 35, 'absent': 36, 'absolute': 37, 'absolutely': 38, 'absorb': 39, 'abstract': 40, 'absurd': 41, 'abu': 42, 'abuse': 43, 'abusive': 44, 'abyogitha': 45, 'academic': 46, 'academy': 47, 'acceleration': 48, 'accept': 49, 'acceptable': 50, 'acceptance': 51, 'accepted': 52, 'access': 53, 'accessories': 54, 'acchyutan': 55, 'accident': 56, 'accidentally': 57, 'accolade': 58, 'accompanied': 59, 'accord': 60, 'according': 61, 'accordingly': 62, 'account': 63, 'accountability': 64, 'accounted': 65, 'accounts': 66, 'accumulated': 67, 'accumulating': 68, 'accuracy': 69, 'achaantar': 70, 'acharya': 71, 'achieve': 72, 'achieved': 73, 'achievement': 74, 'achievements': 75, 'achutan': 76, 'acid': 77, 'acids': 78, 'acknowledged': 79, 'acorn': 80, 'acquaintance': 81, 'acrobat': 82, 'acronym': 83, 'across': 84, 'act': 85, 'acted': 86, 'acting': 87, 'action': 88, 'actionable': 89, 'actions': 90, 'active': 91, 'activism': 92, 'activist': 93, 'activities': 94, 'activity': 95, 'actor': 96, 'acts': 97, 'actual': 98, 'actually': 99, 'actually”': 100, 'actvities': 101, 'acumen': 102, 'acutan': 103, 'ad': 104, 'adam': 105, 'adaptation': 106, 'adarsha': 107, 'add': 108, 'addict': 109, 'addicted': 110, 'adding': 111, 'additional': 112, 'additionally': 113, 'address': 114, 'addresses': 115, 'address”': 116, 'adhiks': 117, 'adhoc': 118, 'adhoonik': 119, 'adhunik': 120, 'aditya': 121, 'adjacent': 122, 'adjustment': 123, 'adjustments': 124, 'administration': 125, 'administrative': 126, 'administrator': 127, 'admiration': 128, 'admire': 129, 'admit': 130, 'admitted': 131, 'admitting': 132, 'adolescence': 133, 'adolescents': 134, 'adoration': 135, 'adornment': 136, 'adult': 137, 'adults': 138, 'advanced': 139, 'advantage': 140, 'advantages': 141, 'adventure': 142, 'advertise': 143, 'advertising': 144, 'advice': 145, 'advised': 146, 'aeisarv': 147, 'aerial': 148, 'aerodynamic': 149, 'affairs': 150, 'affected': 151, 'affiliated': 152, 'affirmatively': 153, 'affliate': 154, 'afflicted': 155, 'afford': 156, 'affordable': 157, 'afghan': 158, 'afghanistan': 159, 'afghans': 160, 'afraid': 161, 'africa': 162, 'africans': 163, 'after': 164, 'aftermath': 165, 'afterwards': 166, 'ag': 167, 'again': 168, 'against': 169, 'agarbattis': 170, 'age': 171, 'aged': 172, 'agencies': 173, 'agency': 174, 'ages': 175, 'aggregater': 176, 'aggregaters': 177, 'aggregates': 178, 'aggregator': 179, 'aggregators': 180, 'aggrigator': 181, 'agile': 182, 'agni': 183, 'agnostic': 184, 'ago': 185, 'agra': 186, 'agraa': 187, 'agrakay': 188, 'agras': 189, 'agree': 190, 'agreed': 191, 'agreegators': 192, 'agreement': 193, 'agrees': 194, 'agricultural': 195, 'agriculture': 196, 'ah': 197, 'aha': 198, 'ahars': 199, 'ahead': 200, 'ahmedabad': 201, 'ahswathama': 202, 'ahyaagatoan': 203, 'aid': 204, 'aids': 205, 'aim': 206, 'aims': 207, 'ain': 208, 'aineaakbari': 209, 'air': 210, 'airpix': 211, 'airport': 212, 'airways': 213, 'akabar': 214, 'akabarnama': 215, 'akabars': 216, 'akal': 217, 'akbal': 218, 'akbar': 219, 'akbarnama': 220, 'akbars': 221, 'akhathan': 222, 'akra': 223, 'akransa': 224, 'aks': 225, 'akul': 226, 'al': 227, 'alabama': 228, 'alacrity': 229, 'alahabad': 230, 'alarm': 231, 'alaska': 232, 'albatina': 233, 'albeit': 234, 'alcohol': 235, 'alert': 236, 'alex': 237, 'alexander': 238, 'alexandria': 239, 'alfa': 240, 'algavwadi': 241, 'algorithm': 242, 'algorithmic': 243, 'algorithms': 244, 'alien': 245, 'aligad': 246, 'aligarh': 247, 'aligarth': 248, 'alive': 249, 'all': 250, 'allah': 251, 'allahabad': 252, 'allahs': 253, 'allah“”s': 254, 'alleviated': 255, 'allies': 256, 'allow': 257, 'allowing': 258, 'allows': 259, 'all”': 260, 'almost': 261, 'alone': 262, 'along': 263, 'alpha': 264, 'alphabets': 265, 'alqaeda': 266, 'already': 267, 'also': 268, 'alteraation': 269, 'alternatives': 270, 'although': 271, 'altitude': 272, 'alto': 273, 'altos': 274, 'alwar': 275, 'always': 276, 'alzheimers': 277, 'am': 278, 'amal': 279, 'amar': 280, 'amateur': 281, 'amazement': 282, 'amazing': 283, 'amazingly': 284, 'amazon': 285, 'ambat': 286, 'ambedkar': 287, 'ambiguities': 288, 'ambiguous': 289, 'ambitions': 290, 'ambitious': 291, 'amejan': 292, 'amendment': 293, 'amercia': 294, 'america': 295, 'american': 296, 'americans': 297, 'americas': 298, 'ames': 299, 'amino': 300, 'amitab': 301, 'amitabh': 302, 'amitabha': 303, 'amithab': 304, 'amjad': 305, 'amma': 306, 'ammonia': 307, 'amoeba': 308, 'among': 309, 'amongst': 310, 'amount': 311, 'amritpur': 312, 'amritsar': 313, 'amrut': 314, 'amrutha': 315, 'amrutsar': 316, 'amrutsor': 317, 'amy': 318, 'an': 319, 'anaasakti': 320, 'analog': 321, 'analogous': 322, 'analogy': 323, 'analysis': 324, 'anarchies': 325, 'anasakthi': 326, 'ancestors': 327, 'ancient': 328, 'and': 329, 'anderson': 330, 'andhra': 331, 'andra': 332, 'anemia': 333, 'anew': 334, 'angaare': 335, 'angare': 336, 'angel': 337, 'angeles': 338, 'angels': 339, 'anger': 340, 'angle': 341, 'angles': 342, 'angry': 343, 'angst': 344, 'animal': 345, 'animals': 346, 'animals”': 347, 'animations': 348, 'anjali': 349, 'anjalis': 350, 'annapoorna': 351, 'annapurna': 352, 'annotate': 353, 'annotation': 354, 'annotationcomment': 355, 'annotations': 356, 'announce': 357, 'annually': 358, 'annum': 359, 'anonymous': 360, 'another': 361, 'answer': 362, 'answered': 363, 'answers': 364, 'antar': 365, 'antarctica': 366, 'anthony': 367, 'anthraxbin': 368, 'anti': 369, 'anticipate': 370, 'anticipated': 371, 'antigovernment': 372, 'anubhoodi': 373, 'anubhooti': 374, 'anuj': 375, 'anupak': 376, 'anupurak': 377, 'anxious': 378, 'any': 379, 'anybody': 380, 'anybodys': 381, 'anykey': 382, 'anymore': 383, 'anyone': 384, 'anything': 385, 'anyway': 386, 'anywhere': 387, 'anywhere”': 388, 'ao': 389, 'apart': 390, 'apartment': 391, 'apathy': 392, 'ape': 393, 'apeshita': 394, 'aphorism': 395, 'aphorisms': 396, 'app': 397, 'appam': 398, 'appeal': 399, 'appear': 400, 'appearances': 401, 'appeared': 402, 'appears': 403, 'appeasement': 404, 'appellate': 405, 'appetite': 406, 'applause': 407, 'apple': 408, 'apples': 409, 'appliances': 410, 'application': 411, 'applications': 412, 'applied': 413, 'apply': 414, 'applying': 415, 'appointment': 416, 'appreciate': 417, 'approach': 418, 'approached': 419, 'approve': 420, 'approx': 421, 'approximate': 422, 'approximately': 423, 'april': 424, 'ap”': 425, 'araanyak': 426, 'arabic': 427, 'arabics': 428, 'arabs': 429, 'aranya': 430, 'aranyakaand': 431, 'aranyakand': 432, 'arbitrary': 433, 'arch': 434, 'architects': 435, 'architectural': 436, 'architecture': 437, 'archive': 438, 'ardhvayavsta': 439, 'arduous': 440, 'are': 441, 'area': 442, 'areas': 443, 'arent': 444, 'argentina': 445, 'argue': 446, 'argued': 447, 'argues': 448, 'arguing': 449, 'argument': 450, 'arial': 451, 'ariel': 452, 'arise': 453, 'arises': 454, 'aristotle': 455, 'arizona': 456, 'arjuna': 457, 'arjunas': 458, 'arjuns': 459, 'arkansa': 460, 'arkansas': 461, 'arm': 462, 'armed': 463, 'arms': 464, 'army': 465, 'army”': 466, 'arnik': 467, 'around': 468, 'arrange': 469, 'arrangement': 470, 'arrest': 471, 'arrested': 472, 'arrive': 473, 'arrived': 474, 'arrows': 475, 'art': 476, 'arthur': 477, 'article': 478, 'articles': 479, 'artist': 480, 'artistic': 481, 'artists': 482, 'arts': 483, 'art”': 484, 'arum': 485, 'aryans': 486, 'as': 487, 'asamiya': 488, 'asembly': 489, 'ashenfaced': 490, 'ashwathama': 491, 'ashwathmas': 492, 'asia': 493, 'asian': 494, 'aside': 495, 'ask': 496, 'asked': 497, 'asking': 498, 'aspartum': 499, 'aspect': 500, 'aspects': 501, 'aspirational': 502, 'aspirations': 503, 'aspire': 504, 'aspired': 505, 'assam': 506, 'assamese': 507, 'assembled': 508, 'assembly': 509, 'assessor': 510, 'associate': 511, 'associated': 512, 'associates': 513, 'association': 514, 'assume': 515, 'assumptions': 516, 'astonishing': 517, 'astrology': 518, 'astronaut': 519, 'at': 520, 'ata': 521, 'ate': 522, 'atheism': 523, 'atheist': 524, 'atheists': 525, 'athello': 526, 'atlantic': 527, 'atma': 528, 'atmosphere': 529, 'atmospheric': 530, 'atomic': 531, 'atommobile': 532, 'atrisk': 533, 'atrocious': 534, 'attack': 535, 'attain': 536, 'attainment': 537, 'attend': 538, 'attendance': 539, 'attendants': 540, 'attends': 541, 'attention': 542, 'attitude': 543, 'attorney': 544, 'attorneygeneral': 545, 'attracted': 546, 'attraction': 547, 'attracts': 548, 'auctions': 549, 'audience': 550, 'auditorily': 551, 'auditory': 552, 'augan': 553, 'augmented': 554, 'august': 555, 'augustine': 556, 'aunicoded': 557, 'aunt': 558, 'auntie': 559, 'aur': 560, 'auraiyya': 561, 'auspicious': 562, 'australia': 563, 'austria': 564, 'authele': 565, 'authentic': 566, 'authenticity': 567, 'author': 568, 'authoritarian': 569, 'authority': 570, 'autism': 571, 'autistic': 572, 'autobiographical': 573, 'automatically': 574, 'autonomous': 575, 'autonomously': 576, 'autumn': 577, 'avadhi': 578, 'availability': 579, 'available': 580, 'avdhi': 581, 'ave': 582, 'average': 583, 'avgirt': 584, 'avial': 585, 'avikistrot': 586, 'aviyal': 587, 'awadhi': 588, 'awaj': 589, 'awakening': 590, 'award': 591, 'awarded': 592, 'awardee': 593, 'awardrespect': 594, 'awards': 595, 'aware': 596, 'awareness': 597, 'away': 598, 'away”': 599, 'awesome': 600, 'awesomethingscom': 601, 'awful': 602, 'awkward': 603, 'awkwardness': 604, 'aww': 605, 'axis': 606, 'ayataho': 607, 'ayodhya': 608, 'ayodhyakanad': 609, 'ayova': 610, 'azam': 611, 'azamgarh': 612, 'b': 613, 'baa': 614, 'baagfour': 615, 'baalkand': 616, 'babies': 617, 'babri': 618, 'baby': 619, 'babyloanonline': 620, 'babylon': 621, 'babylonia': 622, 'babylononline': 623, 'babys': 624, 'bacchan': 625, 'bachan': 626, 'bachchan': 627, 'bachhan': 628, 'bacillus': 629, 'back': 630, 'background': 631, 'backstory': 632, 'backwoods': 633, 'bad': 634, 'badaun': 635, 'badayun': 636, 'badruddin': 637, 'baduan': 638, 'bafla': 639, 'bag': 640, 'bagalpur': 641, 'bagapata': 642, 'bagh': 643, 'baghpat': 644, 'bagpat': 645, 'bahari': 646, 'bahayalo': 647, 'bahraich': 648, 'bahubali': 649, 'bahut': 650, 'bahuth': 651, 'bai': 652, 'baikal': 653, 'bairali': 654, 'bakery': 655, 'bakhs': 656, 'baksh': 657, 'baktapur': 658, 'balakhandchildhood': 659, 'balance': 660, 'balanced': 661, 'balcony': 662, 'baldness': 663, 'balitha': 664, 'baliya': 665, 'balkans': 666, 'ball': 667, 'ballads': 668, 'ballia': 669, 'balling': 670, 'balloon': 671, 'balochi': 672, 'balochistan': 673, 'baloney': 674, 'balrampur': 675, 'baluchi': 676, 'baluchistan': 677, 'bamboos': 678, 'bamot': 679, 'banaras': 680, 'band': 681, 'banda': 682, 'bandwagon': 683, 'bangal': 684, 'bangali': 685, 'bangla': 686, 'banishes': 687, 'bank': 688, 'banking': 689, 'banks': 690, 'banned': 691, 'banner': 692, 'banya': 693, 'baphala': 694, 'bar': 695, 'barabanki': 696, 'barailey': 697, 'barbanki': 698, 'barbecue': 699, 'bare': 700, 'barefoot': 701, 'bareilly': 702, 'bareli': 703, 'barrel': 704, 'bars': 705, 'barón': 706, 'basava': 707, 'base': 708, 'baseball': 709, 'based': 710, 'basera': 711, 'basere': 712, 'basic': 713, 'basically': 714, 'basics': 715, 'basis': 716, 'basisdome': 717, 'basit': 718, 'basksh': 719, 'basti': 720, 'bat': 721, 'batata': 722, 'bate': 723, 'bath': 724, 'bati': 725, 'bating': 726, 'batman': 727, 'battery': 728, 'batting': 729, 'battle': 730, 'baturae': 731, 'baudh': 732, 'baug': 733, 'bayes': 734, 'bayomig': 735, 'bazaar': 736, 'bazooka': 737, 'bbc': 738, 'bbcnepali': 739, 'bc': 740, 'be': 741, 'beak': 742, 'bear': 743, 'bearers': 744, 'beat': 745, 'beatboxing': 746, 'beats': 747, 'beautiful': 748, 'beautifully': 749, 'beauty': 750, 'became': 751, 'because': 752, 'become': 753, 'becomes': 754, 'becoming': 755, 'bed': 756, 'bedroom': 757, 'bee': 758, 'been': 759, 'beer': 760, 'beetay': 761, 'beete': 762, 'befor': 763, 'before': 764, 'began': 765, 'beggars': 766, 'begin': 767, 'beginning': 768, 'begins': 769, 'begs': 770, 'begum': 771, 'begun': 772, 'behave': 773, 'behavior': 774, 'behaviour': 775, 'behind': 776, 'behold': 777, 'being': 778, 'beingness': 779, 'beings': 780, 'belief': 781, 'beliefs': 782, 'believ': 783, 'believe': 784, 'believed': 785, 'believes': 786, 'belivable': 787, 'belong': 788, 'belonged': 789, 'belonging': 790, 'belongs': 791, 'below': 792, 'belts': 793, 'benaras': 794, 'benchmark': 795, 'benefit': 796, 'benefits': 797, 'bengal': 798, 'bengali': 799, 'bengals': 800, 'benzene': 801, 'berlin': 802, 'best': 803, 'beth': 804, 'betrayals': 805, 'bets': 806, 'better': 807, 'better”': 808, 'betty': 809, 'between': 810, 'beverage': 811, 'beyond': 812, 'bezos': 813, 'be”': 814, 'bg': 815, 'bhagalpur': 816, 'bhagavata': 817, 'bhagavath': 818, 'bhagini': 819, 'bhagirathi': 820, 'bhagvad': 821, 'bhagwad': 822, 'bhagwat': 823, 'bhai': 824, 'bhaktapur': 825, 'bhakthi': 826, 'bhakti': 827, 'bhaktpur': 828, 'bhalochi': 829, 'bhappa': 830, 'bharat': 831, 'bharath': 832, 'bharathi': 833, 'bharati': 834, 'bharatpur': 835, 'bhari': 836, 'bharti': 837, 'bhaskar': 838, 'bhatoore': 839, 'bhature': 840, 'bhavagat': 841, 'bhave': 842, 'bhavishya': 843, 'bheesma': 844, 'bhel': 845, 'bhelpuri': 846, 'bhikshus': 847, 'bhimsen': 848, 'bhish': 849, 'bhishma': 850, 'bhisma': 851, 'bhojpuri': 852, 'bhole': 853, 'bholiaanbat': 854, 'bhoomi': 855, 'bhopal': 856, 'bhumi': 857, 'bhurloka': 858, 'bhushan': 859, 'bhutan': 860, 'bias': 861, 'biased': 862, 'bibi': 863, 'bibis': 864, 'bible': 865, 'bibliography': 866, 'bicycle': 867, 'bidding': 868, 'big': 869, 'biggest': 870, 'bihar': 871, 'biharjharkhand': 872, 'biils': 873, 'bijanora': 874, 'bijnaur': 875, 'bijnor': 876, 'bijnore': 877, 'bikaner': 878, 'bike': 879, 'bikener': 880, 'bill': 881, 'billion': 882, 'billions': 883, 'bills': 884, 'bindis': 885, 'bingo': 886, 'biodiversity': 887, 'biography': 888, 'biology': 889, 'biomaterials': 890, 'bionics': 891, 'biostatistics': 892, 'biotechnology': 893, 'bipolar': 894, 'birbal': 895, 'birble': 896, 'bird': 897, 'birds': 898, 'biriani': 899, 'biriyani': 900, 'birth': 901, 'birthday': 902, 'births': 903, 'biryani': 904, 'biseshtc': 905, 'bit': 906, 'bitches': 907, 'bith': 908, 'biurocrowd': 909, 'bjp': 910, 'black': 911, 'blackberry': 912, 'blacklisted': 913, 'blades': 914, 'blame': 915, 'blames': 916, 'blank': 917, 'bleeding': 918, 'bless': 919, 'blessings': 920, 'blind': 921, 'blinding”': 922, 'blindness': 923, 'blithering': 924, 'block': 925, 'blockage': 926, 'blocks': 927, 'blog': 928, 'blogging': 929, 'blogs': 930, 'blood': 931, 'bloodshed': 932, 'bloodstained': 933, 'blow': 934, 'blowing': 935, 'blown': 936, 'blue': 937, 'blueprint': 938, 'blushed': 939, 'bma': 940, 'bmc': 941, 'board': 942, 'boats': 943, 'bodhanath': 944, 'bodhnath': 945, 'bodies': 946, 'body': 947, 'bodyguard': 948, 'boiling': 949, 'bojhpuri': 950, 'bold': 951, 'boldly': 952, 'bomb': 953, 'bombs': 954, 'bonds': 955, 'bone': 956, 'bones': 957, 'bono': 958, 'book': 959, 'booked': 960, 'books': 961, 'boom': 962, 'booming': 963, 'booths': 964, 'borali': 965, 'border': 966, 'borders': 967, 'bored': 968, 'born': 969, 'bose': 970, 'bosnia': 971, 'bosnians': 972, 'boston': 973, 'both': 974, 'bothered': 975, 'bothering': 976, 'bothers': 977, 'bottom': 978, 'bought': 979, 'bouillon': 980, 'bound': 981, 'bounden': 982, 'bourgeois': 983, 'bow': 984, 'bower': 985, 'bowl': 986, 'bowled': 987, 'bowling': 988, 'box': 989, 'boxes': 990, 'box”': 991, 'boy': 992, 'boyhood': 993, 'boys': 994, 'brach': 995, 'braha': 996, 'braham': 997, 'brahamand': 998, 'brahm': 999, 'brahma': 1000, 'brahmaa': 1001, 'brahman': 1002, 'brahmand': 1003, 'brahmaputra': 1004, 'brahmavaivarta': 1005, 'brahmin': 1006, 'brain': 1007, 'braina': 1008, 'brains': 1009, 'braj': 1010, 'bramh': 1011, 'bramha': 1012, 'bramhand': 1013, 'branch': 1014, 'branhamsutra': 1015, 'brash': 1016, 'brave': 1017, 'braver': 1018, 'brazil': 1019, 'bread': 1020, 'breadth': 1021, 'break': 1022, 'breakfast': 1023, 'breakthroughs': 1024, 'breast': 1025, 'breastfed': 1026, 'breastfeeding': 1027, 'breath': 1028, 'breathe': 1029, 'breathtaking': 1030, 'breeds': 1031, 'brevity': 1032, 'bridge': 1033, 'bridges': 1034, 'bridging': 1035, 'brief': 1036, 'briefly': 1037, 'bright': 1038, 'brijs': 1039, 'brilliant': 1040, 'brine': 1041, 'bring': 1042, 'bringing': 1043, 'brings': 1044, 'bristles': 1045, 'britain': 1046, 'british': 1047, 'britishar': 1048, 'brmaha': 1049, 'broadband': 1050, 'broadcasting': 1051, 'broccoli': 1052, 'broke': 1053, 'broken': 1054, 'brooklynbased': 1055, 'brooks': 1056, 'brother': 1057, 'brothers': 1058, 'brought': 1059, 'brownish': 1060, 'bruce': 1061, 'brushes': 1062, 'brutal': 1063, 'bubble': 1064, 'bubbles': 1065, 'bucket': 1066, 'bud': 1067, 'buddh': 1068, 'buddha': 1069, 'buddhist': 1070, 'budge': 1071, 'budget': 1072, 'budgets': 1073, 'budh': 1074, 'bugger': 1075, 'bugle': 1076, 'bugs': 1077, 'buicks': 1078, 'build': 1079, 'building': 1080, 'buildings': 1081, 'builds': 1082, 'built': 1083, 'buisness': 1084, 'bulandshahar': 1085, 'bulandshahr': 1086, 'bulb': 1087, 'bulbs': 1088, 'bulletin': 1089, 'bumped': 1090, 'bunch': 1091, 'bundle': 1092, 'burden': 1093, 'bureau': 1094, 'bureaucrat': 1095, 'bureaucratic': 1096, 'burglars': 1097, 'burial': 1098, 'buried': 1099, 'burma': 1100, 'burning': 1101, 'burns': 1102, 'burqa': 1103, 'burst': 1104, 'burton': 1105, 'bus': 1106, 'bush': 1107, 'business': 1108, 'busy': 1109, 'but': 1110, 'butterfly': 1111, 'buttock': 1112, 'button': 1113, 'buy': 1114, 'buying': 1115, 'buzzsaw': 1116, 'by': 1117, 'byahalo': 1118, 'byahlo': 1119, 'byebye': 1120, 'c': 1121, 'ca': 1122, 'cabinet': 1123, 'cable': 1124, 'cadence': 1125, 'caerolina': 1126, 'cafe': 1127, 'cafehindi': 1128, 'cairo': 1129, 'cakes': 1130, 'calamity': 1131, 'calculate': 1132, 'calculus': 1133, 'calcuttans': 1134, 'caledonian': 1135, 'calendar': 1136, 'california': 1137, 'caliph': 1138, 'call': 1139, 'called': 1140, 'calligraphy': 1141, 'calling': 1142, 'calls': 1143, 'calories': 1144, 'cambodia': 1145, 'came': 1146, 'camel': 1147, 'camels': 1148, 'camera': 1149, 'cameras': 1150, 'campaign': 1151, 'campaigning': 1152, 'campaigns': 1153, 'can': 1154, 'canada': 1155, 'canadian': 1156, 'canal': 1157, 'canary': 1158, 'cancel': 1159, 'cancer': 1160, 'canisters': 1161, 'cannaticut': 1162, 'cannot': 1163, 'canopy': 1164, 'cant': 1165, 'cantinas': 1166, 'canvas': 1167, 'can”': 1168, 'cap': 1169, 'capable': 1170, 'capacity': 1171, 'capital': 1172, 'capitol': 1173, 'caps': 1174, 'captain': 1175, 'capturing': 1176, 'car': 1177, 'caraka': 1178, 'carbon': 1179, 'card': 1180, 'cardiac': 1181, 'cards': 1182, 'care': 1183, 'career': 1184, 'careers': 1185, 'careful': 1186, 'carefully': 1187, 'caretaker': 1188, 'caribou': 1189, 'carlyle': 1190, 'carnival': 1191, 'carolaina': 1192, 'carolina': 1193, 'carreer': 1194, 'carrier': 1195, 'carry': 1196, 'cars': 1197, 'cart': 1198, 'cartoon': 1199, 'cartoonists': 1200, 'cartoons': 1201, 'carved': 1202, 'car”': 1203, 'case': 1204, 'cases': 1205, 'cast': 1206, 'caste': 1207, 'castes': 1208, 'cat': 1209, 'catagory': 1210, 'catagoryislam': 1211, 'catagoryreligious': 1212, 'catalog': 1213, 'catalogue': 1214, 'catastrophe': 1215, 'catch': 1216, 'catching': 1217, 'catchment': 1218, 'cateagory': 1219, 'categories': 1220, 'category': 1221, 'categoryauthor': 1222, 'categorybangla': 1223, 'categorybhakti': 1224, 'categorycomputer': 1225, 'categoryculture': 1226, 'categorycurrent': 1227, 'categoryestablish': 1228, 'categoryfood': 1229, 'categorygateway': 1230, 'categorygeography': 1231, 'categorygodgoddess': 1232, 'categorygoogle': 1233, 'categoryhealth': 1234, 'categoryhindi': 1235, 'categoryhindu': 1236, 'categoryimaginery': 1237, 'categoryindia': 1238, 'categoryindian': 1239, 'categoryinternet': 1240, 'categoryislam': 1241, 'categoryliterature': 1242, 'categorymahabharat': 1243, 'categorymahadevi': 1244, 'categorymemorial': 1245, 'categorymemory': 1246, 'categorymythic': 1247, 'categorymythology': 1248, 'categorynobel': 1249, 'categorypakistan': 1250, 'categorypremchand': 1251, 'categoryregion': 1252, 'categoryreligion': 1253, 'categoryreligious': 1254, 'categorysanskrit': 1255, 'categorysexual': 1256, 'categorysouthwest': 1257, 'categorysouvenir': 1258, 'categoryuttarpradesh': 1259, 'categoryveda': 1260, 'categoryvedic': 1261, 'categoryweb': 1262, 'categroy': 1263, 'catering': 1264, 'caterpillars': 1265, 'cattle': 1266, 'cattle”': 1267, 'cat”': 1268, 'caught': 1269, 'causality': 1270, 'cause': 1271, 'causes': 1272, 'cautious': 1273, 'cave': 1274, 'cbe': 1275, 'ccps': 1276, 'ce': 1277, 'ceased': 1278, 'celebrate': 1279, 'celebration': 1280, 'cell': 1281, 'cells': 1282, 'cellular': 1283, 'cennter': 1284, 'census': 1285, 'center': 1286, 'centers': 1287, 'centerstate': 1288, 'centerwestern': 1289, 'centimeter': 1290, 'centimeters': 1291, 'central': 1292, 'centralgovernment': 1293, 'centrally': 1294, 'centre': 1295, 'centrel': 1296, 'centrifuge': 1297, 'century': 1298, 'ceremoniously': 1299, 'ceremony': 1300, 'certain': 1301, 'certainly': 1302, 'certainty': 1303, 'certifiably': 1304, 'ch': 1305, 'chaar': 1306, 'chacha': 1307, 'chain': 1308, 'chaina': 1309, 'chains': 1310, 'chair': 1311, 'chairs': 1312, 'chakravarty': 1313, 'challenge': 1314, 'challenged': 1315, 'challenges': 1316, 'challenging': 1317, 'chalo': 1318, 'champaran': 1319, 'champions': 1320, 'championships': 1321, 'champselysees': 1322, 'champu': 1323, 'chance': 1324, 'chand': 1325, 'chandauli': 1326, 'chandawli': 1327, 'chandra': 1328, 'chanel': 1329, 'change': 1330, 'changeagents': 1331, 'changed': 1332, 'changemaherab': 1333, 'changer': 1334, 'changes': 1335, 'changing': 1336, 'changu': 1337, 'changunarayan': 1338, 'changunarayana': 1339, 'channel': 1340, 'chaos': 1341, 'chapter': 1342, 'chapters': 1343, 'char': 1344, 'character': 1345, 'characteristics': 1346, 'characterize': 1347, 'characters': 1348, 'charecter': 1349, 'charge': 1350, 'charitable': 1351, 'charles': 1352, 'charmers': 1353, 'chattane': 1354, 'chattisgarh': 1355, 'chaute': 1356, 'chavi': 1357, 'chayavad': 1358, 'chayavadi': 1359, 'cheap': 1360, 'cheaper': 1361, 'chechnya': 1362, 'check': 1363, 'checked': 1364, 'cheeni': 1365, 'cheenikaroja': 1366, 'cheenis': 1367, 'cheering': 1368, 'cheers': 1369, 'cheese': 1370, 'chemical': 1371, 'chemistry”': 1372, 'cherish': 1373, 'chernobyl': 1374, 'chest': 1375, 'chevy”': 1376, 'chhattisgadh': 1377, 'chhattisgarh': 1378, 'chhaviya': 1379, 'chhole': 1380, 'chhoti': 1381, 'chhotikashi': 1382, 'chicago': 1383, 'chicken': 1384, 'chief': 1385, 'chihuahua': 1386, 'chikan': 1387, 'child': 1388, 'childbirth': 1389, 'childhood': 1390, 'childish': 1391, 'children': 1392, 'childrens': 1393, 'childs': 1394, 'chiles': 1395, 'chime': 1396, 'chimldren': 1397, 'china': 1398, 'chinas': 1399, 'chinass': 1400, 'chine': 1401, 'chinese': 1402, 'chini': 1403, 'chinnkuut': 1404, 'chip': 1405, 'chit': 1406, 'chitra': 1407, 'chitrakoot': 1408, 'chitrakut': 1409, 'chitta': 1410, 'chitvan': 1411, 'chitwne': 1412, 'chive': 1413, 'chocolate': 1414, 'choice': 1415, 'choices': 1416, 'choice”': 1417, 'cholae': 1418, 'chole': 1419, 'cholera': 1420, 'choose': 1421, 'chooses': 1422, 'choosing': 1423, 'chooti': 1424, 'chores': 1425, 'chosen': 1426, 'chris': 1427, 'christian': 1428, 'christians': 1429, 'chrome': 1430, 'churma': 1431, 'cigarettes': 1432, 'cinema': 1433, 'circle': 1434, 'circles': 1435, 'circular': 1436, 'circumcision': 1437, 'circumstance': 1438, 'circumstances': 1439, 'cited': 1440, 'citie': 1441, 'cities': 1442, 'citizen': 1443, 'citizens': 1444, 'citizenship': 1445, 'city': 1446, 'civil': 1447, 'civilian': 1448, 'civilization': 1449, 'claim': 1450, 'claiming': 1451, 'claims': 1452, 'clan': 1453, 'clans': 1454, 'clas': 1455, 'clasjambu': 1456, 'class': 1457, 'classaggregator': 1458, 'classagra': 1459, 'classblog': 1460, 'classbodh': 1461, 'classchamal': 1462, 'classcountry': 1463, 'classdemocratic': 1464, 'classdevadi': 1465, 'classes': 1466, 'classgoogle': 1467, 'classgotham': 1468, 'classhindi': 1469, 'classhindu': 1470, 'classic': 1471, 'classification': 1472, 'classified': 1473, 'classillahabad': 1474, 'classindia': 1475, 'classindividual': 1476, 'classinformation': 1477, 'classinternet': 1478, 'classjambudweep': 1479, 'classlife': 1480, 'classliterature': 1481, 'classmanak': 1482, 'classmangal': 1483, 'classmap': 1484, 'classmountain': 1485, 'classnaitrativ': 1486, 'classpadma': 1487, 'classpakistan': 1488, 'classpoetress': 1489, 'classprime': 1490, 'classreligious': 1491, 'classrivers': 1492, 'classroom': 1493, 'classrooms': 1494, 'classsanchika': 1495, 'classsanganak': 1496, 'classscience': 1497, 'classsouth': 1498, 'classsthapatya': 1499, 'classtaj': 1500, 'clay': 1501, 'clean': 1502, 'clear': 1503, 'clearly': 1504, 'clemens': 1505, 'clever': 1506, 'cleverly': 1507, 'cliché': 1508, 'click': 1509, 'client': 1510, 'climate': 1511, 'climatic': 1512, 'climb': 1513, 'climber': 1514, 'clinic': 1515, 'clinton': 1516, 'clipping': 1517, 'clips': 1518, 'close': 1519, 'closed': 1520, 'closeness': 1521, 'closer': 1522, 'closing': 1523, 'clothed': 1524, 'clothes': 1525, 'cloths': 1526, 'clouds': 1527, 'club': 1528, 'clues': 1529, 'cluster': 1530, 'clustered”': 1531, 'cnc': 1532, 'cnn': 1533, 'co': 1534, 'coal': 1535, 'coartem': 1536, 'coast': 1537, 'coastal': 1538, 'coated': 1539, 'cocacola': 1540, 'cocktails': 1541, 'code': 1542, 'codes': 1543, 'coffee': 1544, 'cognitive': 1545, 'cohort': 1546, 'coins': 1547, 'coitus': 1548, 'coke': 1549, 'cokes': 1550, 'colarado': 1551, 'cold': 1552, 'coleman': 1553, 'collapsed': 1554, 'collating': 1555, 'collected': 1556, 'collecting': 1557, 'collection': 1558, 'collections': 1559, 'collective': 1560, 'collector': 1561, 'college': 1562, 'college”': 1563, 'collision': 1564, 'colonization': 1565, 'colony': 1566, 'color': 1567, 'colorado': 1568, 'colorful': 1569, 'colors': 1570, 'colour': 1571, 'column': 1572, 'com': 1573, 'coma': 1574, 'combination': 1575, 'combined': 1576, 'combines': 1577, 'combining': 1578, 'come': 1579, 'comeback': 1580, 'comes': 1581, 'come”': 1582, 'comfortable': 1583, 'coming': 1584, 'cominon': 1585, 'commands': 1586, 'commencement': 1587, 'comment': 1588, 'commentaries': 1589, 'commentary': 1590, 'commentarycomments': 1591, 'comments': 1592, 'commerce': 1593, 'commercial': 1594, 'commissions': 1595, 'committee': 1596, 'common': 1597, 'commtment': 1598, 'communal': 1599, 'communicate': 1600, 'communication': 1601, 'communicators': 1602, 'communique': 1603, 'communist': 1604, 'communities': 1605, 'community': 1606, 'commute': 1607, 'compacted': 1608, 'companies': 1609, 'company': 1610, 'company”': 1611, 'compared': 1612, 'comparing': 1613, 'comparison': 1614, 'compassion': 1615, 'compassionately': 1616, 'compensation': 1617, 'compered': 1618, 'compete': 1619, 'competition': 1620, 'competitive': 1621, 'competitor': 1622, 'compilation': 1623, 'compilations': 1624, 'compiler': 1625, 'compilers': 1626, 'complain': 1627, 'complaining': 1628, 'complaint': 1629, 'complete': 1630, 'completed': 1631, 'completely': 1632, 'complex': 1633, 'complexion': 1634, 'complexities': 1635, 'complexity': 1636, 'compliance': 1637, 'complicated': 1638, 'component': 1639, 'composed': 1640, 'composer': 1641, 'composition': 1642, 'compositions': 1643, 'computation': 1644, 'computer': 1645, 'computerization': 1646, 'computers': 1647, 'computer”': 1648, 'computi': 1649, 'computing': 1650, 'comtext': 1651, 'conceivable': 1652, 'concentrating': 1653, 'concept': 1654, 'concepts': 1655, 'concern': 1656, 'concerned': 1657, 'concerns': 1658, 'concert': 1659, 'concession': 1660, 'concise': 1661, 'conclude': 1662, 'conclusion': 1663, 'concreteness': 1664, 'condenser': 1665, 'condition': 1666, 'conditioning': 1667, 'conditions': 1668, 'confederation': 1669, 'conference': 1670, 'conferences': 1671, 'confidence': 1672, 'confidently': 1673, 'confirms': 1674, 'conflict': 1675, 'conflicts': 1676, 'confluence': 1677, 'confronts': 1678, 'confused': 1679, 'congratulations': 1680, 'congress': 1681, 'conjugal': 1682, 'connect': 1683, 'connected': 1684, 'connecticut': 1685, 'connecting': 1686, 'connection': 1687, 'connections': 1688, 'connectivity': 1689, 'conquered': 1690, 'conquest': 1691, 'consanants': 1692, 'conscious': 1693, 'consciousness': 1694, 'consequences': 1695, 'consequently': 1696, 'consider': 1697, 'considerably': 1698, 'considered': 1699, 'considering': 1700, 'consisted': 1701, 'consolidated': 1702, 'consonants': 1703, 'conspiracy': 1704, 'constipation': 1705, 'constitute': 1706, 'constitution': 1707, 'constitutional': 1708, 'constitutionin': 1709, 'construction': 1710, 'consumer': 1711, 'consumers': 1712, 'consuming': 1713, 'consumption': 1714, 'contact': 1715, 'contacted': 1716, 'contacts': 1717, 'contagious': 1718, 'contain': 1719, 'container': 1720, 'contains': 1721, 'contaminated': 1722, 'contaxt': 1723, 'contemporary': 1724, 'contempt': 1725, 'content': 1726, 'contents': 1727, 'contests': 1728, 'context': 1729, 'contextual': 1730, 'continent': 1731, 'continents': 1732, 'continent”': 1733, 'continue': 1734, 'continued': 1735, 'continues': 1736, 'continuing': 1737, 'continuous': 1738, 'continuum': 1739, 'contitution': 1740, 'contract': 1741, 'contractor': 1742, 'contrary': 1743, 'contrast': 1744, 'contribute': 1745, 'contributed': 1746, 'contribution': 1747, 'contributor': 1748, 'control': 1749, 'controlled': 1750, 'controller': 1751, 'controls': 1752, 'controversial': 1753, 'controversies': 1754, 'controversy': 1755, 'convention': 1756, 'conventions': 1757, 'converge': 1758, 'conversation': 1759, 'conversely': 1760, 'converter': 1761, 'convinced': 1762, 'cook': 1763, 'cooked': 1764, 'cooker': 1765, 'cooking': 1766, 'cooks': 1767, 'cool': 1768, 'cooling': 1769, 'cool”': 1770, 'cooperate': 1771, 'cooperating': 1772, 'coopt': 1773, 'coordinators': 1774, 'copd': 1775, 'copenhagen': 1776, 'copies': 1777, 'copulation': 1778, 'copying': 1779, 'copyright': 1780, 'core': 1781, 'cores': 1782, 'corner': 1783, 'coronation': 1784, 'coronet': 1785, 'corporate': 1786, 'corporation': 1787, 'corpses': 1788, 'correct': 1789, 'corrected': 1790, 'corruption': 1791, 'cosinger': 1792, 'cosmos': 1793, 'cost': 1794, 'costfree': 1795, 'costs': 1796, 'cotonou': 1797, 'cotton': 1798, 'could': 1799, 'couldnt': 1800, 'council': 1801, 'countries': 1802, 'country': 1803, 'country”': 1804, 'coup': 1805, 'couple': 1806, 'couplet': 1807, 'couplets': 1808, 'courage': 1809, 'course': 1810, 'court': 1811, 'courteous': 1812, 'courts': 1813, 'cousin': 1814, 'cover': 1815, 'covered': 1816, 'covering': 1817, 'cowboy': 1818, 'cows': 1819, 'coyote': 1820, 'crab': 1821, 'crackersoatcakes': 1822, 'cracks': 1823, 'craft': 1824, 'crafts': 1825, 'crash': 1826, 'crazy': 1827, 'creaked': 1828, 'cream': 1829, 'crease': 1830, 'create': 1831, 'created': 1832, 'creates': 1833, 'creating': 1834, 'creation': 1835, 'creations': 1836, 'creative': 1837, 'creativity': 1838, 'creator': 1839, 'creature': 1840, 'creatures': 1841, 'credit': 1842, 'crept': 1843, 'cricinfo': 1844, 'cricket': 1845, 'cricketarchive': 1846, 'cricketis': 1847, 'crickinfo': 1848, 'cried': 1849, 'cries': 1850, 'crime': 1851, 'criminal': 1852, 'criminals': 1853, 'crises': 1854, 'crisis': 1855, 'critch': 1856, 'critic': 1857, 'critical': 1858, 'criticism': 1859, 'criticisms': 1860, 'criticized': 1861, 'critics': 1862, 'critisism': 1863, 'crom': 1864, 'cronch': 1865, 'crooked': 1866, 'crops': 1867, 'crores': 1868, 'crossborder': 1869, 'crossed': 1870, 'crossmodal': 1871, 'crow': 1872, 'crowd': 1873, 'crown': 1874, 'crutch': 1875, 'cry': 1876, 'crying': 1877, 'crying”': 1878, 'cryptotheme': 1879, 'cuban': 1880, 'cube': 1881, 'cubic': 1882, 'cuisine': 1883, 'cultural': 1884, 'culture': 1885, 'cultures': 1886, 'cum': 1887, 'cup': 1888, 'curator': 1889, 'cure': 1890, 'curiosity': 1891, 'curious': 1892, 'currency': 1893, 'current': 1894, 'currently': 1895, 'curry': 1896, 'curvaceous': 1897, 'cushing': 1898, 'custom': 1899, 'customer': 1900, 'customs': 1901, 'cut': 1902, 'cute': 1903, 'cuts': 1904, 'cutting': 1905, 'cuttings': 1906, 'cycle': 1907, 'd': 1908, 'daakurji': 1909, 'daal': 1910, 'dad': 1911, 'daily': 1912, 'daily“”madhya': 1913, 'daily“”swatantra': 1914, 'dainik': 1915, 'dairy': 1916, 'dakota': 1917, 'dal': 1918, 'dalai': 1919, 'dalit': 1920, 'dall': 1921, 'dam': 1922, 'damage': 1923, 'damascus': 1924, 'dams': 1925, 'damyanti': 1926, 'dan': 1927, 'dana': 1928, 'dance': 1929, 'danceroom': 1930, 'dances': 1931, 'dancing': 1932, 'danger': 1933, 'dangerous': 1934, 'dangers': 1935, 'daniel': 1936, 'danik': 1937, 'dark': 1938, 'darkness': 1939, 'darmasansar': 1940, 'darpa': 1941, 'darshan': 1942, 'darwin': 1943, 'das': 1944, 'dashdwar': 1945, 'data': 1946, 'datahandling': 1947, 'date': 1948, 'dates': 1949, 'daughter': 1950, 'daunting': 1951, 'davanagri': 1952, 'david': 1953, 'davos': 1954, 'dawarka': 1955, 'dawdle': 1956, 'day': 1957, 'dayri': 1958, 'days': 1959, 'days”': 1960, 'daytoday': 1961, 'de': 1962, 'dead': 1963, 'deaf': 1964, 'deal': 1965, 'dear': 1966, 'dear”': 1967, 'death': 1968, 'deaths': 1969, 'debate': 1970, 'debut': 1971, 'decade': 1972, 'decades': 1973, 'decay': 1974, 'deceit': 1975, 'deceive': 1976, 'deceived': 1977, 'december': 1978, 'decent': 1979, 'decentralized': 1980, 'deception': 1981, 'decide': 1982, 'decided': 1983, 'deciding': 1984, 'decipher': 1985, 'deciphering': 1986, 'decision': 1987, 'decisions': 1988, 'decisive': 1989, 'declarations': 1990, 'deconstructing': 1991, 'decoration': 1992, 'decorations': 1993, 'decota': 1994, 'decrypt': 1995, 'dedicated': 1996, 'dedication': 1997, 'deduction': 1998, 'deed': 1999, 'deeds': 2000, 'deemoz': 2001, 'deen': 2002, 'deep': 2003, 'deepavali': 2004, 'deepawali': 2005, 'deeply': 2006, 'defeat': 2007, 'defects': 2008, 'defenders': 2009, 'defending': 2010, 'defense': 2011, 'deffender': 2012, 'deffrence': 2013, 'deficiency': 2014, 'defies': 2015, 'definable': 2016, 'defination': 2017, 'define': 2018, 'defined': 2019, 'definitely': 2020, 'definition': 2021, 'definitions': 2022, 'defranchisement': 2023, 'defy': 2024, 'degrading': 2025, 'degree': 2026, 'degrees': 2027, 'dehaj': 2028, 'dehradoon': 2029, 'dehradun': 2030, 'deity': 2031, 'dekota': 2032, 'delaware': 2033, 'delhi': 2034, 'delhis': 2035, 'delhi”': 2036, 'delicious': 2037, 'deliver': 2038, 'delivery': 2039, 'deliver”': 2040, 'delta': 2041, 'demanding': 2042, 'demerit': 2043, 'demise': 2044, 'democracy': 2045, 'democratic': 2046, 'demographic': 2047, 'demographics': 2048, 'demography': 2049, 'demoj': 2050, 'demonstrated': 2051, 'demonstrations': 2052, 'demos': 2053, 'denari': 2054, 'denial': 2055, 'dense': 2056, 'dental': 2057, 'dentist': 2058, 'deny': 2059, 'deoria': 2060, 'departed': 2061, 'department': 2062, 'departure': 2063, 'depend': 2064, 'dependent': 2065, 'depending': 2066, 'depends': 2067, 'deployments': 2068, 'deposit': 2069, 'depot': 2070, 'depression': 2071, 'depressions': 2072, 'depth': 2073, 'deputy': 2074, 'derogatoryoffensive': 2075, 'desabhandu': 2076, 'desalinated': 2077, 'desalination': 2078, 'desaturated': 2079, 'descends': 2080, 'describe': 2081, 'describes': 2082, 'description': 2083, 'descriptions': 2084, 'desensitized': 2085, 'desert': 2086, 'desh': 2087, 'deshbhaktipurn': 2088, 'deshbondhu': 2089, 'design': 2090, 'designed': 2091, 'designing': 2092, 'designs': 2093, 'desire': 2094, 'desired': 2095, 'desires': 2096, 'desk': 2097, 'desktop': 2098, 'despair': 2099, 'desperately': 2100, 'desperation': 2101, 'despite': 2102, 'destination': 2103, 'destiny': 2104, 'destroy': 2105, 'destruction': 2106, 'detail': 2107, 'detailed': 2108, 'details': 2109, 'detained': 2110, 'detector': 2111, 'determines': 2112, 'determining': 2113, 'dev': 2114, 'devanagari': 2115, 'devanagiri': 2116, 'devanakri': 2117, 'devaria': 2118, 'devariya': 2119, 'devata': 2120, 'develop': 2121, 'developed': 2122, 'developement': 2123, 'developing': 2124, 'development': 2125, 'developmental': 2126, 'developments': 2127, 'devfont': 2128, 'devi': 2129, 'deviate': 2130, 'device': 2131, 'devices': 2132, 'device”': 2133, 'devnagari': 2134, 'devolving': 2135, 'devoted': 2136, 'devotee': 2137, 'devotion': 2138, 'devotional': 2139, 'dewaneaam': 2140, 'dexterity': 2141, 'dextrose': 2142, 'dhaar': 2143, 'dhall': 2144, 'dhamayanti': 2145, 'dhan': 2146, 'dhanbad': 2147, 'dhansak': 2148, 'dhar': 2149, 'dhara': 2150, 'dharm': 2151, 'dharma': 2152, 'dharmasansar': 2153, 'dharmik': 2154, 'dharmshala': 2155, 'dharo': 2156, 'dhavn': 2157, 'dheergha': 2158, 'dhokla': 2159, 'dhramasala': 2160, 'dhruva': 2161, 'dhruvi': 2162, 'dhulegame': 2163, 'dhulikhel': 2164, 'dhuwani': 2165, 'diagnose': 2166, 'diagnosed': 2167, 'diagnosis': 2168, 'diagram': 2169, 'diagrams': 2170, 'dial': 2171, 'dialect': 2172, 'dialogue': 2173, 'dick': 2174, 'dictation': 2175, 'dictionary': 2176, 'dictionarycom': 2177, 'dictrict': 2178, 'did': 2179, 'didactic': 2180, 'didnt': 2181, 'die': 2182, 'died': 2183, 'diego': 2184, 'dies': 2185, 'differ': 2186, 'difference': 2187, 'differences': 2188, 'different': 2189, 'differential': 2190, 'differently': 2191, 'differs': 2192, 'difficult': 2193, 'difficultioies': 2194, 'difficulty': 2195, 'diffrence': 2196, 'diffrent': 2197, 'digital': 2198, 'dignity': 2199, 'dilemma': 2200, 'diligence': 2201, 'dilma': 2202, 'dim': 2203, 'dime': 2204, 'dimensions': 2205, 'dimming': 2206, 'dimoj': 2207, 'dimoz': 2208, 'din': 2209, 'dineeilahi': 2210, 'dineelahi': 2211, 'dineh': 2212, 'dinner': 2213, 'dioxide': 2214, 'dipawali': 2215, 'dire': 2216, 'direct': 2217, 'direction': 2218, 'directly': 2219, 'director': 2220, 'directorfemale': 2221, 'directory': 2222, 'dirga': 2223, 'disability': 2224, 'disabled': 2225, 'disabled”': 2226, 'disadvantage': 2227, 'disadvantages': 2228, 'disagree': 2229, 'disagreement': 2230, 'disappear': 2231, 'disappeared': 2232, 'disappoint': 2233, 'disappointed': 2234, 'disappointments': 2235, 'disaster': 2236, 'disasters': 2237, 'disbelief': 2238, 'discharge': 2239, 'disciplinary': 2240, 'discipline': 2241, 'discourse': 2242, 'discover': 2243, 'discovered': 2244, 'discoveries': 2245, 'discovers': 2246, 'discovery': 2247, 'discretionary': 2248, 'discriminate': 2249, 'discuss': 2250, 'discussion': 2251, 'disease': 2252, 'diseases': 2253, 'disenfranchisement': 2254, 'disenthrall': 2255, 'disguises': 2256, 'dishes': 2257, 'dishonesty': 2258, 'disinclined': 2259, 'disk': 2260, 'dismay': 2261, 'disorder': 2262, 'disorders': 2263, 'dispersion': 2264, 'displaced': 2265, 'display': 2266, 'disputable': 2267, 'dispute': 2268, 'disputes': 2269, 'disqualified': 2270, 'dissatisfied': 2271, 'dissed': 2272, 'dissensions': 2273, 'dissimissal': 2274, 'dissonance': 2275, 'distances': 2276, 'distantwestside': 2277, 'distilled': 2278, 'distorted': 2279, 'distribution': 2280, 'distributions': 2281, 'district': 2282, 'districts': 2283, 'districtuttarpradesh': 2284, 'ditto': 2285, 'divan': 2286, 'divanaarm': 2287, 'dive': 2288, 'diver': 2289, 'diverse': 2290, 'diversity': 2291, 'diverted': 2292, 'divide': 2293, 'divided': 2294, 'dividend': 2295, 'divide”': 2296, 'divine': 2297, 'divinity': 2298, 'division': 2299, 'divisions': 2300, 'divorced': 2301, 'diwali': 2302, 'diwan': 2303, 'diwanaaam': 2304, 'diwanakhas': 2305, 'diwane': 2306, 'diwanekhaas': 2307, 'dmca': 2308, 'dna': 2309, 'do': 2310, 'doctor': 2311, 'doctors': 2312, 'documented': 2313, 'documenting': 2314, 'does': 2315, 'doesnt': 2316, 'dog': 2317, 'dogmas': 2318, 'dogri': 2319, 'dogs': 2320, 'doing': 2321, 'doings': 2322, 'doing”': 2323, 'doka': 2324, 'dokra': 2325, 'dollar': 2326, 'dollars': 2327, 'domain': 2328, 'dome': 2329, 'domes': 2330, 'domestic': 2331, 'domestics': 2332, 'dominated': 2333, 'donaldson': 2334, 'donated': 2335, 'donation': 2336, 'done': 2337, 'donor': 2338, 'dont': 2339, 'dooddarshan': 2340, 'doodle': 2341, 'doom': 2342, 'doomsday': 2343, 'door': 2344, 'doordarshan': 2345, 'dooropening': 2346, 'doors': 2347, 'doorstep': 2348, 'doorways': 2349, 'doot': 2350, 'dorset': 2351, 'doses': 2352, 'dot': 2353, 'dots': 2354, 'doubt': 2355, 'doubts': 2356, 'down': 2357, 'downfall': 2358, 'downhill': 2359, 'downtown': 2360, 'downtroddents': 2361, 'down”': 2362, 'dowry': 2363, 'do”': 2364, 'dr': 2365, 'drama': 2366, 'dramatically': 2367, 'dramatist': 2368, 'dranatist': 2369, 'drank': 2370, 'draupadi': 2371, 'dravidian': 2372, 'draw': 2373, 'drawbacks': 2374, 'drawing': 2375, 'dreadful': 2376, 'dream': 2377, 'dreams': 2378, 'dress': 2379, 'dried': 2380, 'dries': 2381, 'drill': 2382, 'drink': 2383, 'drinking': 2384, 'drip': 2385, 'drive': 2386, 'driven': 2387, 'driver': 2388, 'drivers': 2389, 'drives': 2390, 'driving': 2391, 'droka': 2392, 'drona': 2393, 'drop': 2394, 'dropped': 2395, 'drop”': 2396, 'drove': 2397, 'drown': 2398, 'drowning': 2399, 'drugs': 2400, 'drum': 2401, 'drunkard': 2402, 'dry': 2403, 'drycleaning': 2404, 'dryer': 2405, 'dubai': 2406, 'ducks': 2407, 'due': 2408, 'dum': 2409, 'dump': 2410, 'dung': 2411, 'duniya': 2412, 'duration': 2413, 'durbar': 2414, 'during': 2415, 'duryodhan': 2416, 'duryodhana': 2417, 'dusk': 2418, 'dust': 2419, 'duties': 2420, 'duty': 2421, 'dvds': 2422, 'dvipa': 2423, 'dwan': 2424, 'dwaraka': 2425, 'dwarka': 2426, 'dweep': 2427, 'dweepka': 2428, 'dwellers': 2429, 'dwivedi': 2430, 'dye': 2431, 'dying': 2432, 'dynamite': 2433, 'dyslexia': 2434, 'dyslexic': 2435, 'e': 2436, 'each': 2437, 'eagles': 2438, 'ear': 2439, 'earlier': 2440, 'earliest': 2441, 'early': 2442, 'earn': 2443, 'ears': 2444, 'earth': 2445, 'earthquake': 2446, 'earthquakes': 2447, 'easier': 2448, 'east': 2449, 'eastern': 2450, 'easy': 2451, 'eat': 2452, 'eating': 2453, 'ebooks': 2454, 'eco': 2455, 'ecommerce': 2456, 'economic': 2457, 'economical': 2458, 'economics': 2459, 'economies': 2460, 'economy': 2461, 'ecosystem': 2462, 'edge': 2463, 'edit': 2464, 'edited': 2465, 'editing': 2466, 'edition': 2467, 'editions': 2468, 'editor': 2469, 'educated': 2470, 'education': 2471, 'educational': 2472, 'educationdotcom': 2473, 'edward': 2474, 'eeg': 2475, 'eference': 2476, 'effect': 2477, 'effective': 2478, 'effectively': 2479, 'effects': 2480, 'efficiency': 2481, 'efficiently': 2482, 'effort': 2483, 'efforts': 2484, 'egalitarianism': 2485, 'eggs': 2486, 'ego': 2487, 'egypt': 2488, 'egyptian': 2489, 'egyptians': 2490, 'eh': 2491, 'eight': 2492, 'eighteen': 2493, 'eignteens': 2494, 'einstein': 2495, 'either': 2496, 'ejaculation': 2497, 'ejucation': 2498, 'ekant': 2499, 'ekanta': 2500, 'ekitvist': 2501, 'ekman': 2502, 'ekya': 2503, 'el': 2504, 'elahi': 2505, 'elated': 2506, 'elders': 2507, 'eldest': 2508, 'elect': 2509, 'elected': 2510, 'election': 2511, 'elections': 2512, 'electoral': 2513, 'electricity': 2514, 'electricity”': 2515, 'electron': 2516, 'electronic': 2517, 'elements': 2518, 'elephant': 2519, 'elephants': 2520, 'elevated': 2521, 'elevation': 2522, 'elevator': 2523, 'elimination': 2524, 'elite': 2525, 'elongate': 2526, 'else': 2527, 'elsewhere': 2528, 'email': 2529, 'embarking': 2530, 'embassy': 2531, 'embedded': 2532, 'embrace': 2533, 'emerge': 2534, 'emergence': 2535, 'emergency': 2536, 'emerges': 2537, 'emerging': 2538, 'emiliano': 2539, 'emission': 2540, 'emissions': 2541, 'emissions”': 2542, 'emitting': 2543, 'emma': 2544, 'emotion': 2545, 'emotional': 2546, 'emotions': 2547, 'empathize': 2548, 'empathy': 2549, 'emperor': 2550, 'emperors': 2551, 'emphasize': 2552, 'empire': 2553, 'employer': 2554, 'employment': 2555, 'empowered': 2556, 'empowerment': 2557, 'empty': 2558, 'en': 2559, 'enable': 2560, 'enables': 2561, 'enacted': 2562, 'enactment': 2563, 'enceladus': 2564, 'encountered': 2565, 'encouragement': 2566, 'end': 2567, 'endangered': 2568, 'endeavor': 2569, 'endgame': 2570, 'ending': 2571, 'endorphin': 2572, 'ends': 2573, 'enduring': 2574, 'enemies': 2575, 'enemy': 2576, 'energy': 2577, 'enews': 2578, 'enforcement': 2579, 'enforcing': 2580, 'engage': 2581, 'engine': 2582, 'engineer': 2583, 'engineering': 2584, 'engineers': 2585, 'engines': 2586, 'england': 2587, 'english': 2588, 'english”': 2589, 'engraved': 2590, 'enjoy': 2591, 'enjoyed': 2592, 'enlighten': 2593, 'enlightened': 2594, 'enlightening': 2595, 'enormous': 2596, 'enough': 2597, 'enough”': 2598, 'enter': 2599, 'entered': 2600, 'entertainment': 2601, 'entire': 2602, 'entirely': 2603, 'entomologist': 2604, 'entrance': 2605, 'entrepreneur': 2606, 'entrepreneurs': 2607, 'entry': 2608, 'entrydoor': 2609, 'enveloped': 2610, 'envelops': 2611, 'environemnt': 2612, 'environment': 2613, 'environmental': 2614, 'envoy': 2615, 'envy': 2616, 'enwrought': 2617, 'epagogix': 2618, 'epaper': 2619, 'epic': 2620, 'epics': 2621, 'epidemic': 2622, 'epiphanies': 2623, 'epiphany': 2624, 'episode': 2625, 'episodes': 2626, 'epistemologically': 2627, 'equal': 2628, 'equality': 2629, 'equally': 2630, 'equates': 2631, 'equations': 2632, 'equestrian': 2633, 'equipment': 2634, 'equivalent': 2635, 'era': 2636, 'eradicate': 2637, 'erect': 2638, 'erectile': 2639, 'erection': 2640, 'ergo': 2641, 'eric': 2642, 'erijona': 2643, 'errand': 2644, 'error': 2645, 'errors': 2646, 'erupting': 2647, 'escape': 2648, 'escaped': 2649, 'eshwar': 2650, 'especially': 2651, 'essay': 2652, 'essayaksanda': 2653, 'essays': 2654, 'essayskhanda': 2655, 'essence': 2656, 'essential': 2657, 'essentially': 2658, 'establish': 2659, 'established': 2660, 'establishing': 2661, 'establishment': 2662, 'etah': 2663, 'etawah': 2664, 'etc': 2665, 'eternal': 2666, 'eternity': 2667, 'etete': 2668, 'ethiopia': 2669, 'ethnic': 2670, 'ethnosphere': 2671, 'europe': 2672, 'european': 2673, 'evaporates': 2674, 'even': 2675, 'evening': 2676, 'event': 2677, 'events': 2678, 'eventually': 2679, 'ever': 2680, 'every': 2681, 'everybody': 2682, 'everyday': 2683, 'everyone': 2684, 'everyones': 2685, 'everything': 2686, 'everywhere': 2687, 'ever”': 2688, 'evict': 2689, 'eviction': 2690, 'evidence': 2691, 'evolution': 2692, 'evolved': 2693, 'exact': 2694, 'exactly': 2695, 'exaltation': 2696, 'examination': 2697, 'examine': 2698, 'example': 2699, 'examples': 2700, 'exam”': 2701, 'excellence': 2702, 'except': 2703, 'exception': 2704, 'excerpt': 2705, 'exchange': 2706, 'excited': 2707, 'excited”': 2708, 'exciting': 2709, 'excursion': 2710, 'execution': 2711, 'executive': 2712, 'exercise': 2713, 'exercises': 2714, 'exhaustion': 2715, 'exhibited': 2716, 'exhibition': 2717, 'exile': 2718, 'exist': 2719, 'existence': 2720, 'existential': 2721, 'exists': 2722, 'expand': 2723, 'expandable': 2724, 'expanded': 2725, 'expands': 2726, 'expansion': 2727, 'expect': 2728, 'expectancies': 2729, 'expectancy': 2730, 'expectations': 2731, 'expected': 2732, 'expedition': 2733, 'expenditure': 2734, 'expenses': 2735, 'expensive': 2736, 'experience': 2737, 'experienced': 2738, 'experiencing': 2739, 'experiment': 2740, 'experimental': 2741, 'experimented': 2742, 'experiments': 2743, 'experts': 2744, 'explain': 2745, 'explained': 2746, 'explanation': 2747, 'explanations': 2748, 'explicit': 2749, 'exploit': 2750, 'exploitation': 2751, 'exploration': 2752, 'exploring': 2753, 'express': 2754, 'expressing': 2755, 'expression': 2756, 'expressions': 2757, 'extended': 2758, 'extending': 2759, 'exteranal': 2760, 'exterior': 2761, 'external': 2762, 'extra': 2763, 'extract': 2764, 'extraordinary': 2765, 'extras': 2766, 'extreme': 2767, 'extremely': 2768, 'extremes': 2769, 'extremism': 2770, 'exyernal': 2771, 'eye': 2772, 'eyebrow': 2773, 'eyes': 2774, 'eyes”': 2775, 'eyewitnesses': 2776, 'faa': 2777, 'faatihah': 2778, 'fabian': 2779, 'fabricate': 2780, 'fabulous': 2781, 'face': 2782, 'facebook': 2783, 'faced': 2784, 'faces': 2785, 'facial': 2786, 'facie': 2787, 'facing': 2788, 'fact': 2789, 'facto': 2790, 'factor': 2791, 'factors': 2792, 'facts': 2793, 'factual': 2794, 'fact”': 2795, 'fail': 2796, 'failed': 2797, 'failure': 2798, 'failures': 2799, 'fainted': 2800, 'fairly': 2801, 'fairness': 2802, 'faith': 2803, 'faizabad': 2804, 'fake': 2805, 'falafel”': 2806, 'fall': 2807, 'fallacies': 2808, 'falls': 2809, 'false': 2810, 'fame': 2811, 'familiar': 2812, 'families': 2813, 'family': 2814, 'familyin': 2815, 'famous': 2816, 'fanakh': 2817, 'fantasies': 2818, 'fantastic': 2819, 'fan”': 2820, 'faq': 2821, 'faqs': 2822, 'far': 2823, 'farewell': 2824, 'farfetched': 2825, 'farflung': 2826, 'farmers': 2827, 'farms': 2828, 'farookhabad': 2829, 'farrukhabad': 2830, 'farsi': 2831, 'farukhabad': 2832, 'faruthabad': 2833, 'farwestern': 2834, 'fashionable': 2835, 'fast': 2836, 'faster': 2837, 'fastforward': 2838, 'fasts': 2839, 'fast”': 2840, 'fat': 2841, 'fatal': 2842, 'fate': 2843, 'fateful': 2844, 'fatehpur': 2845, 'fatepur': 2846, 'fathehpur': 2847, 'fathepur': 2848, 'father': 2849, 'fathers': 2850, 'fatigue': 2851, 'fats': 2852, 'fatwa': 2853, 'fault': 2854, 'faults': 2855, 'favelas': 2856, 'favorite': 2857, 'favorites': 2858, 'fax': 2859, 'fear': 2860, 'fearless': 2861, 'fears': 2862, 'features': 2863, 'fecundity': 2864, 'federal': 2865, 'federation': 2866, 'feed': 2867, 'feedback': 2868, 'feeds': 2869, 'feel': 2870, 'feeling': 2871, 'feelings': 2872, 'feels': 2873, 'fees': 2874, 'feet': 2875, 'fell': 2876, 'fellow': 2877, 'felt': 2878, 'female': 2879, 'females': 2880, 'feminine': 2881, 'feminism': 2882, 'ferozabad': 2883, 'ferry': 2884, 'festival': 2885, 'festivals': 2886, 'fever': 2887, 'few': 2888, 'fewer': 2889, 'feynman': 2890, 'feynmans': 2891, 'fhsa': 2892, 'fiber': 2893, 'fide': 2894, 'field': 2895, 'fielding': 2896, 'fields': 2897, 'fifth': 2898, 'fifty': 2899, 'fig': 2900, 'fight': 2901, 'fighter': 2902, 'fighters': 2903, 'fighting': 2904, 'figuration': 2905, 'figure': 2906, 'figured': 2907, 'figures': 2908, 'figuring': 2909, 'fiji': 2910, 'fijis': 2911, 'filament': 2912, 'file': 2913, 'fill': 2914, 'filled': 2915, 'filling': 2916, 'film': 2917, 'filmcinema': 2918, 'filmography': 2919, 'films': 2920, 'filter': 2921, 'filtering': 2922, 'filters': 2923, 'filth': 2924, 'final': 2925, 'finale': 2926, 'finally': 2927, 'finance': 2928, 'financial': 2929, 'find': 2930, 'finding': 2931, 'fine': 2932, 'fingers': 2933, 'finish': 2934, 'finished': 2935, 'fire': 2936, 'fireballs': 2937, 'firozabad': 2938, 'first': 2939, 'fischer': 2940, 'fish': 2941, 'fishermen': 2942, 'fishes': 2943, 'fishing': 2944, 'fissure': 2945, 'fit': 2946, 'fitness': 2947, 'fitzherbert': 2948, 'five': 2949, 'fix': 2950, 'fixated': 2951, 'flag': 2952, 'flames': 2953, 'flapping': 2954, 'flash': 2955, 'flashforward': 2956, 'flat': 2957, 'flawless': 2958, 'flew': 2959, 'flexible': 2960, 'flies': 2961, 'flight': 2962, 'floods': 2963, 'floor': 2964, 'floppy': 2965, 'flora': 2966, 'florida': 2967, 'flow': 2968, 'flower': 2969, 'flowers': 2970, 'flu': 2971, 'fluctuations': 2972, 'fluidly': 2973, 'fluids': 2974, 'fluoride': 2975, 'flute': 2976, 'fly': 2977, 'flying': 2978, 'focus': 2979, 'focused': 2980, 'focusing': 2981, 'fog': 2982, 'fold': 2983, 'folk': 2984, 'folkart': 2985, 'folks': 2986, 'follow': 2987, 'followed': 2988, 'follows': 2989, 'font': 2990, 'food': 2991, 'foodgrade': 2992, 'foods': 2993, 'fool': 2994, 'foolae': 2995, 'fooled': 2996, 'fools': 2997, 'foot': 2998, 'footage': 2999, 'footing': 3000, 'footnote': 3001, 'footprint': 3002, 'footsteps': 3003, 'for': 3004, 'force': 3005, 'forces': 3006, 'forefathers': 3007, 'forefront': 3008, 'forehead': 3009, 'foreign': 3010, 'foreigners': 3011, 'foreing': 3012, 'foreman': 3013, 'foremost': 3014, 'forest': 3015, 'forester': 3016, 'forests': 3017, 'forever': 3018, 'forfeiture': 3019, 'forget': 3020, 'forgot': 3021, 'forgotten': 3022, 'foriegn': 3023, 'form': 3024, 'formal': 3025, 'format': 3026, 'formation': 3027, 'formations': 3028, 'formed': 3029, 'former': 3030, 'forms': 3031, 'formula': 3032, 'fort': 3033, 'forth': 3034, 'fortunate': 3035, 'fortunately': 3036, 'fortune': 3037, 'forty': 3038, 'forum': 3039, 'forward': 3040, 'forwardleaning': 3041, 'found': 3042, 'foundation': 3043, 'four': 3044, 'fourday': 3045, 'foursquare': 3046, 'fourstory': 3047, 'fourth': 3048, 'frame': 3049, 'framed': 3050, 'framework': 3051, 'france': 3052, 'frances': 3053, 'franchise': 3054, 'francisco': 3055, 'frank': 3056, 'freak': 3057, 'freckles': 3058, 'free': 3059, 'freedom': 3060, 'frees': 3061, 'freezing': 3062, 'french': 3063, 'frequently': 3064, 'fresh': 3065, 'freud': 3066, 'friday': 3067, 'friend': 3068, 'friendly': 3069, 'friends': 3070, 'friendship': 3071, 'frightened': 3072, 'frightening': 3073, 'froggy': 3074, 'frogs': 3075, 'from': 3076, 'from”': 3077, 'front': 3078, 'frontier': 3079, 'frowning': 3080, 'frozen': 3081, 'fruit': 3082, 'frustrated': 3083, 'frustration': 3084, 'fu': 3085, 'fucked': 3086, 'fucking': 3087, 'fueling': 3088, 'fuels': 3089, 'fulfillment': 3090, 'full': 3091, 'fully': 3092, 'fun': 3093, 'function': 3094, 'functions': 3095, 'functions”': 3096, 'fund': 3097, 'fundamental': 3098, 'fundamentalist': 3099, 'fundamentally': 3100, 'funded': 3101, 'funding': 3102, 'funds': 3103, 'funny': 3104, 'furniture': 3105, 'furnitures': 3106, 'further': 3107, 'fury': 3108, 'fuse': 3109, 'future': 3110, 'futures': 3111, 'fuzzy': 3112, 'g': 3113, 'ga': 3114, 'gaandib': 3115, 'gaandiv': 3116, 'gaazipur': 3117, 'gabriel': 3118, 'gadhyakar': 3119, 'gadyapadya': 3120, 'gag': 3121, 'gagas': 3122, 'gahhkar': 3123, 'gaining': 3124, 'gains': 3125, 'galaxy': 3126, 'gallery': 3127, 'gallon': 3128, 'gallows': 3129, 'gam': 3130, 'gambia': 3131, 'game': 3132, 'games': 3133, 'game”': 3134, 'gandhi': 3135, 'gandhiji': 3136, 'ganesh': 3137, 'ganesha': 3138, 'ganga': 3139, 'ganges': 3140, 'gangotri': 3141, 'gangs': 3142, 'gangsters': 3143, 'gap': 3144, 'gappa': 3145, 'garage': 3146, 'garden': 3147, 'gardens': 3148, 'garg': 3149, 'gargantuan': 3150, 'garud': 3151, 'garuda': 3152, 'garv': 3153, 'gas': 3154, 'gaseous': 3155, 'gases': 3156, 'gasps': 3157, 'gate': 3158, 'gates': 3159, 'gateshead': 3160, 'gathered': 3161, 'gatherer': 3162, 'gators': 3163, 'gaund': 3164, 'gautam': 3165, 'gave': 3166, 'gaziyabad': 3167, 'gdp': 3168, 'gear': 3169, 'gearing': 3170, 'gears': 3171, 'gecko': 3172, 'geeta': 3173, 'geetanjali': 3174, 'geetanjalienglish': 3175, 'geetayi': 3176, 'geeth': 3177, 'geetha': 3178, 'geethaievinobhabhave': 3179, 'geethanjali': 3180, 'gem': 3181, 'gender': 3182, 'general': 3183, 'generally': 3184, 'generate': 3185, 'generation': 3186, 'generations': 3187, 'generous': 3188, 'genetic': 3189, 'genetics': 3190, 'genius': 3191, 'genocide': 3192, 'genre': 3193, 'gentle': 3194, 'gentleman': 3195, 'gentlemen': 3196, 'gents': 3197, 'genuinely': 3198, 'geographical': 3199, 'geography': 3200, 'geology': 3201, 'geometry': 3202, 'george': 3203, 'georgia': 3204, 'germ': 3205, 'german': 3206, 'germany': 3207, 'gestures': 3208, 'get': 3209, 'getai': 3210, 'gets': 3211, 'getting': 3212, 'gg': 3213, 'gha': 3214, 'gham': 3215, 'ghana': 3216, 'ghandis': 3217, 'ghandiv': 3218, 'ghatak': 3219, 'ghazaiabad': 3220, 'ghaziabad': 3221, 'ghazipur': 3222, 'ghdh': 3223, 'ghdhykar': 3224, 'ghorakhpur': 3225, 'ghulikhel': 3226, 'ghustava': 3227, 'gialloo': 3228, 'gibraltar': 3229, 'gift': 3230, 'gigantic': 3231, 'gigaton': 3232, 'gilauri': 3233, 'gill': 3234, 'gilori': 3235, 'ginger': 3236, 'ginormous': 3237, 'girl': 3238, 'girlfriend': 3239, 'girlfriendsaturday': 3240, 'girls': 3241, 'girls”': 3242, 'gita': 3243, 'gitai': 3244, 'give': 3245, 'given': 3246, 'giving': 3247, 'glance': 3248, 'gleeful': 3249, 'global': 3250, 'globalization': 3251, 'globally': 3252, 'globe': 3253, 'gloom': 3254, 'glorious': 3255, 'glory': 3256, 'glossary': 3257, 'glossy': 3258, 'glouri': 3259, 'gloves': 3260, 'glue': 3261, 'gmail': 3262, 'gmgoogle': 3263, 'gn': 3264, 'go': 3265, 'goal': 3266, 'goanese': 3267, 'goats': 3268, 'god': 3269, 'goddess': 3270, 'goddesses': 3271, 'goden': 3272, 'godess': 3273, 'godgodess': 3274, 'godhra': 3275, 'godhuli': 3276, 'gods': 3277, 'god”': 3278, 'goes': 3279, 'gogoi': 3280, 'going': 3281, 'gold': 3282, 'golden': 3283, 'golf': 3284, 'gomateshwara': 3285, 'gonda': 3286, 'gone': 3287, 'gonne': 3288, 'good': 3289, 'goodness': 3290, 'goods': 3291, 'google': 3292, 'googlechrome': 3293, 'googleface': 3294, 'googlemeaning': 3295, 'googles': 3296, 'googletalk': 3297, 'googlevideo': 3298, 'gorakhpur': 3299, 'gore': 3300, 'gores': 3301, 'gosain': 3302, 'gosaree': 3303, 'goserai': 3304, 'gosht': 3305, 'gosrai': 3306, 'gosth': 3307, 'got': 3308, 'gothaghor': 3309, 'gothakhoor': 3310, 'gotten': 3311, 'gounda': 3312, 'goutam': 3313, 'governance': 3314, 'government': 3315, 'governmental': 3316, 'governments': 3317, 'governor': 3318, 'govinda': 3319, 'govt': 3320, 'go”': 3321, 'gps': 3322, 'grace': 3323, 'grade': 3324, 'gradealter': 3325, 'gradecountry': 3326, 'gradedevidevta': 3327, 'gradeformer': 3328, 'gradehindi': 3329, 'gradehindu': 3330, 'gradeindia': 3331, 'gradememory': 3332, 'gradeold': 3333, 'gradeplonkspace': 3334, 'gradepremchand': 3335, 'gradesanskrit': 3336, 'grades”': 3337, 'gradethere': 3338, 'gradeunited': 3339, 'gradeutter': 3340, 'gradevedic': 3341, 'gradeweb': 3342, 'gradually': 3343, 'graduate': 3344, 'graduated': 3345, 'grain': 3346, 'grammar': 3347, 'grammer': 3348, 'grammy': 3349, 'grams': 3350, 'grand': 3351, 'grandfather': 3352, 'grandh': 3353, 'grandma': 3354, 'grandmother': 3355, 'grandmothers': 3356, 'grandstand': 3357, 'granny': 3358, 'grant': 3359, 'granted': 3360, 'granth': 3361, 'grantha': 3362, 'graph': 3363, 'graphs': 3364, 'grasp': 3365, 'grass': 3366, 'grasshopper': 3367, 'grate': 3368, 'gratitude': 3369, 'grave': 3370, 'graveyard': 3371, 'gray': 3372, 'grease': 3373, 'great': 3374, 'greater': 3375, 'greatest': 3376, 'greatness': 3377, 'greedy': 3378, 'greek': 3379, 'green': 3380, 'greenhouse': 3381, 'grew': 3382, 'grief': 3383, 'grier': 3384, 'grieve': 3385, 'grind': 3386, 'grinder': 3387, 'ground': 3388, 'group': 3389, 'grouped': 3390, 'groupfear': 3391, 'grouphindi': 3392, 'groups': 3393, 'groupthe': 3394, 'grow': 3395, 'growers': 3396, 'growing': 3397, 'grown': 3398, 'grownup': 3399, 'grows': 3400, 'growth': 3401, 'guarantees': 3402, 'guard': 3403, 'guess': 3404, 'guesser': 3405, 'guidance': 3406, 'guide': 3407, 'guidelines': 3408, 'guilt': 3409, 'guilty': 3410, 'guinea': 3411, 'guitar': 3412, 'gujarathi': 3413, 'gujarati': 3414, 'gujrati': 3415, 'gulfstream': 3416, 'gulp': 3417, 'gum': 3418, 'gun': 3419, 'gunfire': 3420, 'gunjan': 3421, 'gupta': 3422, 'guru': 3423, 'gurupreacher': 3424, 'gushtava': 3425, 'gustava': 3426, 'guy': 3427, 'guys': 3428, 'gwalior': 3429, 'gy': 3430, 'gyanamratam': 3431, 'gyanashris': 3432, 'gyanpeeth': 3433, 'gyanpith': 3434, 'gymnast': 3435, 'gymnosophist': 3436, 'gyros': 3437, 'ha': 3438, 'haaa': 3439, 'haar': 3440, 'habitants': 3441, 'habitat': 3442, 'hackers': 3443, 'had': 3444, 'hadees': 3445, 'hadis': 3446, 'hadish': 3447, 'hadith': 3448, 'hadnt': 3449, 'hague': 3450, 'hahahaha': 3451, 'hahahahaha': 3452, 'hahahahahahahaha': 3453, 'hai': 3454, 'hain': 3455, 'hair': 3456, 'haiti': 3457, 'hajj': 3458, 'hajjes': 3459, 'hal': 3460, 'halahal': 3461, 'haldani': 3462, 'haldwani': 3463, 'haleem': 3464, 'half': 3465, 'halfcuts': 3466, 'halfenglish': 3467, 'halim': 3468, 'hall': 3469, 'halt': 3470, 'haltertop': 3471, 'halva': 3472, 'ham': 3473, 'hamirpur': 3474, 'hamlet': 3475, 'hampshire': 3476, 'hancock': 3477, 'hand': 3478, 'handbags': 3479, 'handicraft': 3480, 'handicrafts': 3481, 'handing': 3482, 'handle': 3483, 'handling': 3484, 'handmade': 3485, 'hands': 3486, 'handset': 3487, 'handsome': 3488, 'handson': 3489, 'handtied': 3490, 'handwriting': 3491, 'handy': 3492, 'hang': 3493, 'hanging': 3494, 'hanifa': 3495, 'hanoi': 3496, 'hans': 3497, 'hanuman': 3498, 'happen': 3499, 'happened': 3500, 'happening': 3501, 'happens': 3502, 'happens”': 3503, 'happiness': 3504, 'happiness”': 3505, 'happy': 3506, 'haq': 3507, 'har': 3508, 'harassment': 3509, 'hard': 3510, 'harder': 3511, 'hardhoi': 3512, 'hardoi': 3513, 'hardoyee': 3514, 'hardship': 3515, 'hardward': 3516, 'hardware': 3517, 'hardworking': 3518, 'hari': 3519, 'harivamsh': 3520, 'harivansh': 3521, 'harivanshrai': 3522, 'harivanshray': 3523, 'hariyana': 3524, 'harm': 3525, 'harmful': 3526, 'harmony': 3527, 'harran': 3528, 'harry': 3529, 'harsh': 3530, 'harsha': 3531, 'harvard': 3532, 'harvest': 3533, 'harvesting': 3534, 'harvey': 3535, 'haryana': 3536, 'has': 3537, 'hassle': 3538, 'hatching': 3539, 'hate': 3540, 'hated': 3541, 'hats': 3542, 'haunting': 3543, 'have': 3544, 'havent': 3545, 'having': 3546, 'hawai': 3547, 'hawaii': 3548, 'hay': 3549, 'hayat': 3550, 'hazard': 3551, 'hazards': 3552, 'he': 3553, 'head': 3554, 'header': 3555, 'heading': 3556, 'headline': 3557, 'headlines': 3558, 'headoffice': 3559, 'headquarters': 3560, 'heads': 3561, 'headset': 3562, 'health': 3563, 'healthier': 3564, 'healthy': 3565, 'hear': 3566, 'heard': 3567, 'hearing': 3568, 'heart': 3569, 'hearts': 3570, 'heat': 3571, 'heater': 3572, 'heath': 3573, 'heating': 3574, 'heats': 3575, 'heaven': 3576, 'heavy': 3577, 'hebron': 3578, 'hed': 3579, 'hee': 3580, 'height': 3581, 'heights': 3582, 'heitrayniy': 3583, 'hejaz': 3584, 'held': 3585, 'helianthemum': 3586, 'helicodiceros': 3587, 'hell': 3588, 'hellhole': 3589, 'helmet': 3590, 'help': 3591, 'helped': 3592, 'helpful': 3593, 'helping': 3594, 'helpless': 3595, 'helps': 3596, 'help”': 3597, 'hemangioblastoma': 3598, 'hemoglobin': 3599, 'hempshayar': 3600, 'heppel': 3601, 'her': 3602, 'herbal': 3603, 'herbie': 3604, 'here': 3605, 'heres': 3606, 'here”': 3607, 'hero': 3608, 'heroes': 3609, 'heros': 3610, 'herself': 3611, 'hes': 3612, 'hetain': 3613, 'hey': 3614, 'hh': 3615, 'hi': 3616, 'hian': 3617, 'hidden': 3618, 'hide': 3619, 'hierarchical': 3620, 'hierarchies': 3621, 'high': 3622, 'highenergy': 3623, 'higher': 3624, 'highest': 3625, 'highline': 3626, 'highly': 3627, 'highs': 3628, 'hight': 3629, 'highways': 3630, 'hijabs': 3631, 'hill': 3632, 'him': 3633, 'himal': 3634, 'himala': 3635, 'himalalya': 3636, 'himalaya': 3637, 'himalayan': 3638, 'himali': 3639, 'himar': 3640, 'himlat': 3641, 'hind': 3642, 'hindatar': 3643, 'hindi': 3644, 'hindihindi': 3645, 'hindikunj': 3646, 'hindipaper': 3647, 'hindis': 3648, 'hindu': 3649, 'hinduism': 3650, 'hindustan': 3651, 'hindustaneletter': 3652, 'hinges': 3653, 'hingog': 3654, 'hinkhoj': 3655, 'hips': 3656, 'his': 3657, 'hisar': 3658, 'hissar': 3659, 'histor': 3660, 'historian': 3661, 'historic': 3662, 'historical': 3663, 'historically': 3664, 'history': 3665, 'hit': 3666, 'hits': 3667, 'hiv': 3668, 'hivaids': 3669, 'hkathykaals': 3670, 'hmm': 3671, 'hobbyists': 3672, 'hockey': 3673, 'hocky': 3674, 'hold': 3675, 'holding': 3676, 'holds': 3677, 'holes': 3678, 'holiday': 3679, 'hollywood': 3680, 'holy': 3681, 'homage': 3682, 'home': 3683, 'homeland': 3684, 'homelands': 3685, 'homemaker': 3686, 'homeowner': 3687, 'homer': 3688, 'homes': 3689, 'homework': 3690, 'home”': 3691, 'homo': 3692, 'honest': 3693, 'honesty': 3694, 'honey': 3695, 'honey”': 3696, 'hong': 3697, 'honk': 3698, 'honking': 3699, 'honor': 3700, 'honored': 3701, 'honors': 3702, 'honour': 3703, 'honouraeronautical': 3704, 'honoured': 3705, 'honourindian': 3706, 'honourpeoples': 3707, 'hope': 3708, 'hopeful': 3709, 'hope”': 3710, 'horizontal': 3711, 'horrible': 3712, 'horror': 3713, 'horse': 3714, 'horsepower': 3715, 'horserider': 3716, 'horseriding': 3717, 'horses': 3718, 'hosni': 3719, 'hospital': 3720, 'hospitality': 3721, 'hospitalized': 3722, 'hospitals': 3723, 'hospitals”': 3724, 'host': 3725, 'hostage': 3726, 'hostile': 3727, 'hostility': 3728, 'hot': 3729, 'hota': 3730, 'hotdogs': 3731, 'hotel': 3732, 'hour': 3733, 'houris': 3734, 'hours': 3735, 'house': 3736, 'housearrest': 3737, 'household': 3738, 'houses': 3739, 'house”': 3740, 'hovers': 3741, 'how': 3742, 'howard': 3743, 'however': 3744, 'hp': 3745, 'hru': 3746, 'hubandspoke': 3747, 'hudson': 3748, 'huge': 3749, 'hugging': 3750, 'huh': 3751, 'hum': 3752, 'human': 3753, 'humanity': 3754, 'humans': 3755, 'humauns': 3756, 'humaus': 3757, 'humayun': 3758, 'humayuns': 3759, 'humble': 3760, 'humbled': 3761, 'humility': 3762, 'hummingbird': 3763, 'hundred': 3764, 'hundreds': 3765, 'hungary': 3766, 'hunger': 3767, 'hungry': 3768, 'hunted': 3769, 'hunuman': 3770, 'hurdles': 3771, 'hurricanes': 3772, 'hurt': 3773, 'hurts': 3774, 'husband': 3775, 'hyderabad': 3776, 'hyderabadi': 3777, 'hyderbad': 3778, 'hydrabad': 3779, 'hydrabadi': 3780, 'hydras': 3781, 'hydrass': 3782, 'hymn': 3783, 'hymns': 3784, 'hypocrisy': 3785, 'hypothesis': 3786, 'i': 3787, 'ian': 3788, 'iaq': 3789, 'ibm': 3790, 'iced': 3791, 'iconic': 3792, 'iconography': 3793, 'icons': 3794, 'id': 3795, 'idaho': 3796, 'idaly': 3797, 'idea': 3798, 'ideal': 3799, 'ideas': 3800, 'identification': 3801, 'identifying': 3802, 'identity': 3803, 'idhar': 3804, 'idiots': 3805, 'idli': 3806, 'idol': 3807, 'idolatry': 3808, 'idolworship': 3809, 'if': 3810, 'ifidienet': 3811, 'igloo': 3812, 'ignant': 3813, 'ii': 3814, 'iib': 3815, 'iii': 3816, 'ilahi': 3817, 'ilinay': 3818, 'ilish': 3819, 'ill': 3820, 'illaha': 3821, 'illahabad': 3822, 'illegal': 3823, 'illegible': 3824, 'illesh': 3825, 'illinois': 3826, 'illish': 3827, 'illiterate': 3828, 'illness': 3829, 'illogical': 3830, 'illusion': 3831, 'illusionist': 3832, 'im': 3833, 'image': 3834, 'imagery': 3835, 'images': 3836, 'imagination': 3837, 'imagine': 3838, 'imagined': 3839, 'imaging': 3840, 'ime': 3841, 'imei“”': 3842, 'ime“”': 3843, 'imi': 3844, 'immediate': 3845, 'immediately': 3846, 'immense': 3847, 'immensely': 3848, 'immensity': 3849, 'immersed': 3850, 'immigrant': 3851, 'imminent': 3852, 'immortal': 3853, 'impact': 3854, 'impacts': 3855, 'impaired': 3856, 'impass': 3857, 'impatient': 3858, 'imperfect': 3859, 'imperial': 3860, 'imperialism': 3861, 'implementation': 3862, 'implemented': 3863, 'implication': 3864, 'importan': 3865, 'importance': 3866, 'important': 3867, 'importantly': 3868, 'importence': 3869, 'impossible': 3870, 'impression': 3871, 'impressions': 3872, 'impressive': 3873, 'imprisonment': 3874, 'improve': 3875, 'improved': 3876, 'improvement': 3877, 'improvements': 3878, 'impulse': 3879, 'in': 3880, 'inadequacy': 3881, 'inadequate': 3882, 'inauguration': 3883, 'incantatory': 3884, 'incaranation': 3885, 'incarcerated': 3886, 'incarnation': 3887, 'incentive': 3888, 'incentives': 3889, 'inch': 3890, 'incidents': 3891, 'inclined': 3892, 'include': 3893, 'including': 3894, 'inclusiveness': 3895, 'income': 3896, 'incomebased': 3897, 'incomes': 3898, 'incomparable': 3899, 'incompatible': 3900, 'incomplete': 3901, 'incompleted': 3902, 'incomprehensible': 3903, 'increase': 3904, 'increased': 3905, 'increases': 3906, 'increasing': 3907, 'increasingly': 3908, 'incredible': 3909, 'indeed': 3910, 'independence': 3911, 'independent': 3912, 'inderaprastha': 3913, 'index': 3914, 'indexgoddess': 3915, 'indexremembrance': 3916, 'india': 3917, 'indian': 3918, 'indiana': 3919, 'indians': 3920, 'indiapakistan': 3921, 'indias': 3922, 'india”': 3923, 'indic': 3924, 'indication': 3925, 'indigo': 3926, 'indik': 3927, 'indirectly': 3928, 'individual': 3929, 'individuals': 3930, 'indopedea': 3931, 'indopedia': 3932, 'indor': 3933, 'indore': 3934, 'indra': 3935, 'indraprastha': 3936, 'induc': 3937, 'induct': 3938, 'indus': 3939, 'industrial': 3940, 'industrialization': 3941, 'industrialized': 3942, 'industries': 3943, 'industry': 3944, 'inequality': 3945, 'inevitable': 3946, 'inexpensive': 3947, 'infant': 3948, 'infatuation': 3949, 'infect': 3950, 'infected': 3951, 'infection': 3952, 'infections': 3953, 'infinitely': 3954, 'inflexible': 3955, 'influence': 3956, 'influences': 3957, 'influenza': 3958, 'info': 3959, 'informal': 3960, 'information': 3961, 'informational': 3962, 'informed': 3963, 'informer': 3964, 'infrastructure': 3965, 'infrastructures': 3966, 'infrequently': 3967, 'ingenious': 3968, 'ingredients': 3969, 'inherent': 3970, 'inhibition': 3971, 'inidac': 3972, 'inidak': 3973, 'initial': 3974, 'initiative': 3975, 'ink': 3976, 'inkalaab': 3977, 'inkling': 3978, 'inner': 3979, 'inning': 3980, 'innings': 3981, 'innocent': 3982, 'innovate': 3983, 'innovation': 3984, 'innovations': 3985, 'innovative': 3986, 'innovators': 3987, 'input': 3988, 'insane': 3989, 'insanity': 3990, 'inscribed': 3991, 'inscription': 3992, 'insect': 3993, 'insects': 3994, 'inside': 3995, 'insides': 3996, 'insist': 3997, 'inspiration': 3998, 'inspire': 3999, 'inspired': 4000, 'inspiring': 4001, 'installed': 4002, 'instance': 4003, 'instances': 4004, 'instant': 4005, 'instead': 4006, 'institute': 4007, 'institution': 4008, 'institutions': 4009, 'instruction': 4010, 'instrument': 4011, 'instruments': 4012, 'insult': 4013, 'insulting': 4014, 'insurers': 4015, 'intact': 4016, 'integrals': 4017, 'integrated': 4018, 'integration': 4019, 'intellectual': 4020, 'intellectuals': 4021, 'intelligence': 4022, 'intelligent': 4023, 'intending': 4024, 'intense': 4025, 'intensive': 4026, 'intention': 4027, 'intentional': 4028, 'interaction': 4029, 'interactive': 4030, 'interconnected': 4031, 'intercourse': 4032, 'interest': 4033, 'interesting': 4034, 'interestingly': 4035, 'interface': 4036, 'interference': 4037, 'interferences': 4038, 'interior': 4039, 'internal': 4040, 'international': 4041, 'internet': 4042, 'internships': 4043, 'interpret': 4044, 'interpretation”': 4045, 'interrupts': 4046, 'intervention': 4047, 'interview': 4048, 'interwestside': 4049, 'intestine': 4050, 'into': 4051, 'intolerance': 4052, 'intonation': 4053, 'intranet': 4054, 'intrepid': 4055, 'intrigue': 4056, 'intrigued': 4057, 'introduced': 4058, 'introducing': 4059, 'introduction': 4060, 'introductionbbc': 4061, 'introductory': 4062, 'intuitive': 4063, 'intuitively': 4064, 'invaded': 4065, 'invasion': 4066, 'invented': 4067, 'invention': 4068, 'invert': 4069, 'invest': 4070, 'investigate': 4071, 'investigating': 4072, 'investigation': 4073, 'investment': 4074, 'investor': 4075, 'invisible': 4076, 'invitation': 4077, 'invited': 4078, 'inviting': 4079, 'invoice': 4080, 'invoke': 4081, 'involves': 4082, 'inward': 4083, 'iowa': 4084, 'ipad': 4085, 'iphone': 4086, 'iq': 4087, 'iran': 4088, 'iranian': 4089, 'iranians': 4090, 'irans': 4091, 'iraq': 4092, 'iraqi': 4093, 'ireland': 4094, 'ironclad': 4095, 'ironic': 4096, 'ironically': 4097, 'irrespective': 4098, 'irreverent': 4099, 'irreversible': 4100, 'irrigation': 4101, 'is': 4102, 'isaac': 4103, 'isbn': 4104, 'islam': 4105, 'islami': 4106, 'islamic': 4107, 'islamin': 4108, 'islamist': 4109, 'islams': 4110, 'island': 4111, 'islands': 4112, 'isnt': 4113, 'isolate': 4114, 'isolation': 4115, 'ispy': 4116, 'israel': 4117, 'israels': 4118, 'israelterrorism': 4119, 'issue': 4120, 'issues': 4121, 'is”': 4122, 'it': 4123, 'ita': 4124, 'italian': 4125, 'itava': 4126, 'item': 4127, 'itemaadulla': 4128, 'itihas': 4129, 'itll': 4130, 'itmeans': 4131, 'its': 4132, 'itself': 4133, 'ittawa': 4134, 'ittemadulla': 4135, 'ittemadullah': 4136, 'it”': 4137, 'ive': 4138, 'ivory': 4139, 'i”': 4140, 'jaalon': 4141, 'jabbar': 4142, 'jack': 4143, 'jagaran': 4144, 'jagipur': 4145, 'jagran': 4146, 'jai': 4147, 'jaiahankar': 4148, 'jail': 4149, 'jaimini': 4150, 'jaiminia': 4151, 'jain': 4152, 'jaipur': 4153, 'jaisalmer': 4154, 'jaisamare': 4155, 'jaiselmer': 4156, 'jaishankar': 4157, 'jaisurya': 4158, 'jal': 4159, 'jalandhar': 4160, 'jalaun': 4161, 'jalawn': 4162, 'jalvayu': 4163, 'jama': 4164, 'jamboodveep': 4165, 'jamboodweep': 4166, 'jambu': 4167, 'jambudweep': 4168, 'jaminie': 4169, 'jammu': 4170, 'jamsadpur': 4171, 'jamshedpur': 4172, 'janaana': 4173, 'janab': 4174, 'janageeta': 4175, 'janajeevan': 4176, 'janaloka': 4177, 'janana': 4178, 'jang': 4179, 'jangita': 4180, 'jangunarayan': 4181, 'janitors': 4182, 'jansi': 4183, 'jansy': 4184, 'january': 4185, 'janveeruththa': 4186, 'japan': 4187, 'japanese': 4188, 'jar': 4189, 'jargon': 4190, 'jaroke': 4191, 'jarring': 4192, 'jarshaped': 4193, 'jarsi': 4194, 'jason': 4195, 'jaunpur': 4196, 'jay': 4197, 'jayasurya': 4198, 'jayatu': 4199, 'jean': 4200, 'jeeu': 4201, 'jeeuu': 4202, 'jeeves': 4203, 'jeopardy': 4204, 'jerk': 4205, 'jersey': 4206, 'jerusalem': 4207, 'jesus': 4208, 'jesus”': 4209, 'jet': 4210, 'jets': 4211, 'jew': 4212, 'jewels': 4213, 'jhaansi': 4214, 'jhankaar': 4215, 'jhansi': 4216, 'jhol': 4217, 'jhunjhunu': 4218, 'jihad': 4219, 'jill': 4220, 'jimmy': 4221, 'jinnah': 4222, 'jiu': 4223, 'jivan': 4224, 'job': 4225, 'jobs': 4226, 'jodha': 4227, 'jodhpur': 4228, 'joe': 4229, 'joggers': 4230, 'john': 4231, 'johnny': 4232, 'join': 4233, 'joined': 4234, 'joining': 4235, 'joint': 4236, 'joke': 4237, 'jokhim': 4238, 'jole': 4239, 'jolted': 4240, 'jonepur': 4241, 'jones': 4242, 'jonikodith': 4243, 'jose': 4244, 'joseph': 4245, 'josh': 4246, 'joshua': 4247, 'joshwednesday': 4248, 'jotha': 4249, 'journalism': 4250, 'journalist': 4251, 'journey': 4252, 'journeys': 4253, 'joy': 4254, 'joyful': 4255, 'jr': 4256, 'jsa': 4257, 'judaism': 4258, 'judge': 4259, 'judgment': 4260, 'judicial': 4261, 'judiciary': 4262, 'juice': 4263, 'juicy': 4264, 'july': 4265, 'jump': 4266, 'jumped': 4267, 'june': 4268, 'jury': 4269, 'just': 4270, 'justice': 4271, 'justin': 4272, 'jwala': 4273, 'jyanamritam': 4274, 'jyothiba': 4275, 'jyotiba': 4276, 'k': 4277, 'ka': 4278, 'kaadiyaa': 4279, 'kaand': 4280, 'kaandhirsaaseeth': 4281, 'kaantipur': 4282, 'kaanv': 4283, 'kaashi': 4284, 'kabaab': 4285, 'kabab': 4286, 'kabeer': 4287, 'kabeers': 4288, 'kabhi': 4289, 'kabi': 4290, 'kabir': 4291, 'kabirdas': 4292, 'kabirs': 4293, 'kabul': 4294, 'kadiya': 4295, 'kaho': 4296, 'kaife': 4297, 'kaifi': 4298, 'kakani': 4299, 'kakori': 4300, 'kalaam': 4301, 'kalam': 4302, 'kalash': 4303, 'kaleredo': 4304, 'kalinga': 4305, 'kallikuppam': 4306, 'kals': 4307, 'kam': 4308, 'kamar': 4309, 'kamasutra': 4310, 'kamkwamba': 4311, 'kamsutra': 4312, 'kamukata': 4313, 'kanada': 4314, 'kanak': 4315, 'kanb': 4316, 'kangaroos': 4317, 'kannada': 4318, 'kannauj': 4319, 'kannoj': 4320, 'kannouj': 4321, 'kanpur': 4322, 'kansas': 4323, 'kantipur': 4324, 'kanva': 4325, 'kapiblah': 4326, 'kapishtal': 4327, 'kapishtala': 4328, 'karachi': 4329, 'karibs': 4330, 'kariyan': 4331, 'karma': 4332, 'karmakand': 4333, 'karmapa': 4334, 'karmavad': 4335, 'karmkand': 4336, 'karna': 4337, 'kartikeya': 4338, 'kasba': 4339, 'kashi': 4340, 'kashmir': 4341, 'kashmiri': 4342, 'kashmirraised': 4343, 'kashmirs': 4344, 'kat': 4345, 'katauti': 4346, 'kath': 4347, 'katha': 4348, 'kathak': 4349, 'kathamandu': 4350, 'kathas': 4351, 'kathmandu': 4352, 'katmaado': 4353, 'kattarpanthi': 4354, 'katti': 4355, 'kaurava': 4356, 'kausalya': 4357, 'kaushalya': 4358, 'kaushambi': 4359, 'kaushmbi': 4360, 'kauthum': 4361, 'kavitayen': 4362, 'kavya': 4363, 'kay': 4364, 'kbs': 4365, 'ke': 4366, 'keep': 4367, 'keeps': 4368, 'kendall': 4369, 'kennedy': 4370, 'kentucky': 4371, 'kenya': 4372, 'kenyan': 4373, 'kepler': 4374, 'kept': 4375, 'kerala': 4376, 'kerosene': 4377, 'kesari': 4378, 'kesariprinted': 4379, 'kesri': 4380, 'kettle': 4381, 'key': 4382, 'keyboard': 4383, 'keyloggers': 4384, 'keys': 4385, 'keyword': 4386, 'kha': 4387, 'khaas': 4388, 'khabar': 4389, 'khadi': 4390, 'khaiyyam': 4391, 'khaled': 4392, 'khan': 4393, 'khana': 4394, 'khandavi': 4395, 'khandvi': 4396, 'khara': 4397, 'kharidenge': 4398, 'khas': 4399, 'khayam': 4400, 'khayyums': 4401, 'khchyam': 4402, 'kher': 4403, 'kheri': 4404, 'khooge': 4405, 'khuran': 4406, 'khushi': 4407, 'khusi': 4408, 'khyber': 4409, 'ki': 4410, 'kibera': 4411, 'kickback': 4412, 'kid': 4413, 'kidding': 4414, 'kidnapping': 4415, 'kids': 4416, 'kid”': 4417, 'kill': 4418, 'killed': 4419, 'killers': 4420, 'killing': 4421, 'kilometer': 4422, 'kimmel': 4423, 'kind': 4424, 'kinds': 4425, 'kinematics': 4426, 'king': 4427, 'kingdom': 4428, 'kingdoms': 4429, 'kiosks': 4430, 'kipling': 4431, 'kipp': 4432, 'kirit': 4433, 'kishikandhakand': 4434, 'kishkandhakaand': 4435, 'kishkind': 4436, 'kishkindha': 4437, 'kisses': 4438, 'kitchen': 4439, 'kiteshaped': 4440, 'km': 4441, 'kms': 4442, 'knew': 4443, 'knife': 4444, 'knitting': 4445, 'knocked': 4446, 'knocks': 4447, 'knot': 4448, 'knots': 4449, 'know': 4450, 'knowledge': 4451, 'knowlegde': 4452, 'known': 4453, 'knows': 4454, 'know”': 4455, 'kokanigoanee': 4456, 'kolkataborn': 4457, 'konektikat': 4458, 'kong': 4459, 'konkani': 4460, 'konkanigoan': 4461, 'koran': 4462, 'korea': 4463, 'koro': 4464, 'korwas': 4465, 'kosh': 4466, 'koshambi': 4467, 'kosovo': 4468, 'kousalya': 4469, 'kps': 4470, 'krishinagar': 4471, 'krishna': 4472, 'kriti': 4473, 'kritidev': 4474, 'kru': 4475, 'krushan': 4476, 'kruthidevfont': 4477, 'kruthiya': 4478, 'kruti': 4479, 'kshamal': 4480, 'kshaml': 4481, 'kshaonada': 4482, 'kudala': 4483, 'kum': 4484, 'kumar': 4485, 'kund': 4486, 'kunda': 4487, 'kung': 4488, 'kuppam': 4489, 'kuraan': 4490, 'kuran': 4491, 'kurm': 4492, 'kurma': 4493, 'kuru': 4494, 'kurunandan': 4495, 'kushi': 4496, 'kushinagar': 4497, 'kusum': 4498, 'kuwait': 4499, 'l': 4500, 'la': 4501, 'laboratory': 4502, 'lace': 4503, 'lack': 4504, 'lacking': 4505, 'ladakh': 4506, 'ladakhi': 4507, 'laddaki': 4508, 'ladder': 4509, 'ladders': 4510, 'laden': 4511, 'ladhaki': 4512, 'ladies': 4513, 'ladkhpan': 4514, 'lady': 4515, 'lajpat': 4516, 'lake': 4517, 'lakh': 4518, 'lakhimpur': 4519, 'lakhimpurghari': 4520, 'lala': 4521, 'lalalajpath': 4522, 'lalitpur': 4523, 'lalkila': 4524, 'lalkiladelhi': 4525, 'lama': 4526, 'lame': 4527, 'lamp': 4528, 'land': 4529, 'landed': 4530, 'landlords': 4531, 'landmark': 4532, 'landmines': 4533, 'lands': 4534, 'landscape': 4535, 'lane': 4536, 'language': 4537, 'languages': 4538, 'lanka': 4539, 'lankakand': 4540, 'lantern': 4541, 'lapsi': 4542, 'laptop': 4543, 'large': 4544, 'largely': 4545, 'largest': 4546, 'last': 4547, 'lasting': 4548, 'late': 4549, 'lately': 4550, 'later': 4551, 'latest': 4552, 'laugh': 4553, 'laughed': 4554, 'laughing': 4555, 'laughter': 4556, 'laugh”': 4557, 'launching': 4558, 'laundry': 4559, 'laureate': 4560, 'laureates': 4561, 'lavish': 4562, 'law': 4563, 'lawful': 4564, 'laws': 4565, 'lawyer': 4566, 'lay': 4567, 'layer': 4568, 'laying': 4569, 'layoffs': 4570, 'lazy': 4571, 'le': 4572, 'lead': 4573, 'leader': 4574, 'leaders': 4575, 'leaflet': 4576, 'leaflets': 4577, 'leag': 4578, 'league': 4579, 'leak': 4580, 'leaks': 4581, 'leapt': 4582, 'lear': 4583, 'learn': 4584, 'learned': 4585, 'learning': 4586, 'learnt': 4587, 'leases': 4588, 'least': 4589, 'leave': 4590, 'leaves': 4591, 'lebanese': 4592, 'lebanon': 4593, 'lecture': 4594, 'lectures': 4595, 'led': 4596, 'leela': 4597, 'left': 4598, 'leg': 4599, 'legacy': 4600, 'legal': 4601, 'legionella': 4602, 'legislation': 4603, 'legislative': 4604, 'legislature': 4605, 'legitimacy': 4606, 'legs': 4607, 'legs”': 4608, 'lehman': 4609, 'leica': 4610, 'lekh': 4611, 'lend': 4612, 'lens': 4613, 'leone': 4614, 'less': 4615, 'lesson': 4616, 'lessons': 4617, 'lest': 4618, 'let': 4619, 'lets': 4620, 'letter': 4621, 'letters': 4622, 'level': 4623, 'levels': 4624, 'li': 4625, 'liam': 4626, 'liberation': 4627, 'liberia': 4628, 'liberties': 4629, 'libraries': 4630, 'library': 4631, 'libya': 4632, 'lice': 4633, 'lie': 4634, 'lied': 4635, 'lier': 4636, 'lies': 4637, 'life': 4638, 'lifegiving': 4639, 'lifeless': 4640, 'lifespring': 4641, 'lifestyle': 4642, 'lifetime': 4643, 'life”': 4644, 'lifing': 4645, 'lift': 4646, 'lifted': 4647, 'lifting': 4648, 'light': 4649, 'lightbulb': 4650, 'lighter': 4651, 'lighting': 4652, 'lights': 4653, 'lightweight': 4654, 'likampur': 4655, 'like': 4656, 'liked': 4657, 'likely': 4658, 'likes': 4659, 'likings': 4660, 'likns': 4661, 'limit': 4662, 'limited': 4663, 'limitless': 4664, 'limits': 4665, 'lindag': 4666, 'line': 4667, 'linear': 4668, 'linearity': 4669, 'lines': 4670, 'ling': 4671, 'linga': 4672, 'lingapitha': 4673, 'linguistic': 4674, 'link': 4675, 'linked': 4676, 'links': 4677, 'linux': 4678, 'lion”': 4679, 'lipikaar': 4680, 'lipikar': 4681, 'list': 4682, 'listed': 4683, 'listen': 4684, 'listening': 4685, 'litaratory': 4686, 'literacy': 4687, 'literal': 4688, 'literalistic': 4689, 'literally': 4690, 'literary': 4691, 'literate': 4692, 'literatue': 4693, 'literature': 4694, 'literatures': 4695, 'little': 4696, 'littérateur': 4697, 'liturature': 4698, 'live': 4699, 'lived': 4700, 'livelihoods': 4701, 'lively': 4702, 'lives': 4703, 'living': 4704, 'livingfauna': 4705, 'liyar': 4706, 'll': 4707, 'lo': 4708, 'load': 4709, 'loaded': 4710, 'loak': 4711, 'loans': 4712, 'local': 4713, 'localisation': 4714, 'localization': 4715, 'localize': 4716, 'located': 4717, 'location': 4718, 'locations': 4719, 'lock': 4720, 'locks': 4721, 'logic': 4722, 'logical': 4723, 'logo': 4724, 'lok': 4725, 'lokrang': 4726, 'loksabha': 4727, 'lokshabha': 4728, 'lokshabhalower': 4729, 'loktej': 4730, 'loktez': 4731, 'london': 4732, 'londontrained': 4733, 'lone': 4734, 'long': 4735, 'longer': 4736, 'longing': 4737, 'longterm': 4738, 'lonless': 4739, 'loo': 4740, 'look': 4741, 'lookcomputer': 4742, 'looked': 4743, 'looking': 4744, 'looks': 4745, 'looms': 4746, 'looped': 4747, 'loops': 4748, 'lord': 4749, 'los': 4750, 'lose': 4751, 'loser': 4752, 'loses': 4753, 'losing': 4754, 'loss': 4755, 'losses': 4756, 'lost': 4757, 'lot': 4758, 'lots': 4759, 'lottery”': 4760, 'loud': 4761, 'loudspeakers': 4762, 'louis': 4763, 'louisiana': 4764, 'lounge': 4765, 'loushalya': 4766, 'love': 4767, 'loved': 4768, 'lovely': 4769, 'lover': 4770, 'low': 4771, 'lower': 4772, 'lowest': 4773, 'lowincome': 4774, 'lrb': 4775, 'lru': 4776, 'lu': 4777, 'luamvinee': 4778, 'luck': 4779, 'lucknow': 4780, 'lucks': 4781, 'lucky': 4782, 'ludhiana': 4783, 'ludhiyana': 4784, 'ludicrous': 4785, 'luigiyana': 4786, 'lumbini': 4787, 'lunch': 4788, 'lung': 4789, 'luther': 4790, 'lying': 4791, 'lyrical': 4792, 'm': 4793, 'maaia': 4794, 'macebeth': 4795, 'macedonian': 4796, 'mach': 4797, 'machh': 4798, 'machine': 4799, 'machinery': 4800, 'machines': 4801, 'macho': 4802, 'maculatum': 4803, 'mad': 4804, 'made': 4805, 'madhayantineey': 4806, 'madhubaala': 4807, 'madhubala': 4808, 'madhukalash': 4809, 'madhushaala': 4810, 'madhushala': 4811, 'madhya': 4812, 'madhyandhaniya': 4813, 'madhyandhineya': 4814, 'madhyapacchimachal': 4815, 'madhyaraj': 4816, 'mafia': 4817, 'magazine': 4818, 'magic': 4819, 'magical': 4820, 'magicmaujja': 4821, 'maginot': 4822, 'magnet': 4823, 'magnetic': 4824, 'magnetoencephalography': 4825, 'magnets': 4826, 'magnitude': 4827, 'maha': 4828, 'mahaaly': 4829, 'mahabhar': 4830, 'mahabharat': 4831, 'mahabharata': 4832, 'mahabharath': 4833, 'mahabharatha': 4834, 'mahadevi': 4835, 'mahadevis': 4836, 'mahakavya': 4837, 'mahakavyaepic': 4838, 'mahal': 4839, 'mahan': 4840, 'mahanagar': 4841, 'maharab': 4842, 'maharaj': 4843, 'maharajganj': 4844, 'maharana': 4845, 'maharanaa': 4846, 'maharashtra': 4847, 'maharloka': 4848, 'mahatma': 4849, 'mahoba': 4850, 'mahurkar': 4851, 'mail': 4852, 'mailgoogles': 4853, 'main': 4854, 'mainarch': 4855, 'mainbranch': 4856, 'maine': 4857, 'mainline': 4858, 'mainpuri': 4859, 'mainstream': 4860, 'maintain': 4861, 'maithil': 4862, 'maithraniya': 4863, 'maitrayaneya': 4864, 'majhal': 4865, 'majlis': 4866, 'major': 4867, 'majority': 4868, 'makbara': 4869, 'make': 4870, 'maker': 4871, 'makes': 4872, 'makesup': 4873, 'makeup': 4874, 'makhdal': 4875, 'makhdalni': 4876, 'making': 4877, 'makkhan': 4878, 'mala': 4879, 'malai': 4880, 'malaria': 4881, 'malayalam': 4882, 'malayali': 4883, 'malcontent': 4884, 'male': 4885, 'malefemale': 4886, 'maltose': 4887, 'malyalam': 4888, 'mamata': 4889, 'mammogram': 4890, 'mammography': 4891, 'man': 4892, 'manage': 4893, 'managed': 4894, 'management': 4895, 'manager': 4896, 'manan': 4897, 'manchester': 4898, 'mandarin': 4899, 'mangal': 4900, 'mangala': 4901, 'mangalfont': 4902, 'mangla': 4903, 'manhattan': 4904, 'manic': 4905, 'manipuri': 4906, 'mankind': 4907, 'mannan': 4908, 'manner': 4909, 'mano': 4910, 'mans': 4911, 'mansoon': 4912, 'mantra': 4913, 'manual': 4914, 'manufacturing': 4915, 'many': 4916, 'maoo': 4917, 'map': 4918, 'mapped': 4919, 'mapping': 4920, 'maps': 4921, 'mar': 4922, 'marat': 4923, 'marathi': 4924, 'marathon': 4925, 'marati': 4926, 'march': 4927, 'marco': 4928, 'marcus': 4929, 'marginal': 4930, 'mariam': 4931, 'mariyam': 4932, 'mark': 4933, 'markandeya': 4934, 'markandya': 4935, 'markat': 4936, 'markcountry': 4937, 'markendey': 4938, 'marker': 4939, 'market': 4940, 'marketers': 4941, 'marketing': 4942, 'markets': 4943, 'marks': 4944, 'markus': 4945, 'maroge': 4946, 'marooned': 4947, 'marple': 4948, 'marriage': 4949, 'married': 4950, 'martial': 4951, 'martin': 4952, 'martyrdom': 4953, 'mary': 4954, 'maryam': 4955, 'maryland': 4956, 'masjid': 4957, 'mason': 4958, 'masons': 4959, 'mass': 4960, 'massachusetts': 4961, 'massive': 4962, 'masterbation': 4963, 'masterpiece': 4964, 'masterpieces': 4965, 'masters': 4966, 'masturbation': 4967, 'masturbationwebdunia': 4968, 'masturbationwebworld': 4969, 'mat': 4970, 'match': 4971, 'matched': 4972, 'matches': 4973, 'material': 4974, 'materials': 4975, 'maternity': 4976, 'math': 4977, 'mathare': 4978, 'mathematical': 4979, 'mathematics': 4980, 'mathura': 4981, 'matsy': 4982, 'matsya': 4983, 'matter': 4984, 'mattered': 4985, 'matters': 4986, 'mat“”': 4987, 'mau': 4988, 'mauajja': 4989, 'maud': 4990, 'mauritius': 4991, 'mausoleum': 4992, 'maximum': 4993, 'may': 4994, 'mayans': 4995, 'maybe': 4996, 'maython': 4997, 'mayur': 4998, 'mazda': 4999, 'mazila': 5000, 'mazliseamal': 5001, 'ma”': 5002, 'mcbeth': 5003, 'mcchrystal': 5004, 'me': 5005, 'mean': 5006, 'meaning': 5007, 'meaningful': 5008, 'meaningless': 5009, 'means': 5010, 'meant': 5011, 'meantime': 5012, 'measles': 5013, 'measure': 5014, 'measured': 5015, 'measurement': 5016, 'measurements': 5017, 'measures': 5018, 'meat': 5019, 'mecca': 5020, 'mechanical': 5021, 'medal': 5022, 'medals': 5023, 'medha': 5024, 'media': 5025, 'mediator': 5026, 'medications': 5027, 'medicine': 5028, 'mediocre': 5029, 'meditate': 5030, 'meditated': 5031, 'meditating': 5032, 'medium': 5033, 'meen”': 5034, 'meerat': 5035, 'meerut': 5036, 'meet': 5037, 'meeting': 5038, 'meg': 5039, 'megha': 5040, 'meharab': 5041, 'mehrab': 5042, 'mehtab': 5043, 'melody': 5044, 'melting': 5045, 'member': 5046, 'members': 5047, 'membrane': 5048, 'memmorial': 5049, 'memoir': 5050, 'memoria': 5051, 'memorial': 5052, 'memorials': 5053, 'memories': 5054, 'memory': 5055, 'men': 5056, 'mental': 5057, 'mentally': 5058, 'mention': 5059, 'mentioned': 5060, 'mentor': 5061, 'mentors': 5062, 'merath': 5063, 'merbers': 5064, 'mercedes': 5065, 'mercedesbenz': 5066, 'merchants': 5067, 'merciful': 5068, 'mercy': 5069, 'mere': 5070, 'meri': 5071, 'mero': 5072, 'meru': 5073, 'mesh': 5074, 'meshpage': 5075, 'mesmerized': 5076, 'mesoamericana': 5077, 'mess': 5078, 'message': 5079, 'messenger': 5080, 'messengernabiand': 5081, 'messengers': 5082, 'met': 5083, 'metabolizes': 5084, 'metallic': 5085, 'metals': 5086, 'metaphor': 5087, 'metcalf': 5088, 'meters': 5089, 'methial': 5090, 'method': 5091, 'methodisms': 5092, 'methodology': 5093, 'methods': 5094, 'meticulous': 5095, 'metre': 5096, 'metrynith': 5097, 'mexican': 5098, 'mexicans': 5099, 'mexico': 5100, 'me”': 5101, 'mice': 5102, 'michael': 5103, 'michanary': 5104, 'michigan': 5105, 'microbes': 5106, 'microorganisms': 5107, 'microseconds': 5108, 'microsoft': 5109, 'microsofts': 5110, 'mid': 5111, 'midcentury': 5112, 'middle': 5113, 'middleclass': 5114, 'midges': 5115, 'mids': 5116, 'midwife': 5117, 'might': 5118, 'migrated': 5119, 'migrating': 5120, 'migratory': 5121, 'miklos': 5122, 'milaap': 5123, 'milan': 5124, 'milap': 5125, 'milch': 5126, 'mile': 5127, 'miles': 5128, 'military': 5129, 'milk': 5130, 'milking': 5131, 'milkyield': 5132, 'milkyielders': 5133, 'mill': 5134, 'miller': 5135, 'million': 5136, 'millions': 5137, 'millisecond': 5138, 'mimic': 5139, 'mimicked': 5140, 'mimicking': 5141, 'minaret': 5142, 'minars': 5143, 'mind': 5144, 'minds': 5145, 'mine': 5146, 'mineral': 5147, 'minerals': 5148, 'mines': 5149, 'minicom': 5150, 'minimizes': 5151, 'minister': 5152, 'ministers': 5153, 'ministry': 5154, 'minnesota': 5155, 'minorities': 5156, 'minus': 5157, 'minute': 5158, 'minutes': 5159, 'miracle': 5160, 'miraculously': 5161, 'mirjapur': 5162, 'mirror': 5163, 'mirzapur': 5164, 'misanary': 5165, 'miscellaneous': 5166, 'misery': 5167, 'mishegas': 5168, 'misleading': 5169, 'misnari': 5170, 'miss': 5171, 'missed': 5172, 'missing': 5173, 'mission': 5174, 'missionary': 5175, 'missionery': 5176, 'mississippi': 5177, 'missouri': 5178, 'mist': 5179, 'mistake': 5180, 'mistaken': 5181, 'misunderstand': 5182, 'mithili': 5183, 'mitigation': 5184, 'mixed': 5185, 'mixture': 5186, 'mm': 5187, 'mmhmm': 5188, 'mmmmm”': 5189, 'mmr': 5190, 'mob': 5191, 'mobile': 5192, 'mobiles': 5193, 'mobility': 5194, 'mobilize': 5195, 'mobilizing': 5196, 'mobutu': 5197, 'mock': 5198, 'model': 5199, 'modeling': 5200, 'models': 5201, 'modern': 5202, 'modernity': 5203, 'modifications': 5204, 'mohaajir': 5205, 'mohajer': 5206, 'mohajir': 5207, 'mohandas': 5208, 'mohini': 5209, 'moisture': 5210, 'molecular': 5211, 'molly': 5212, 'molotov': 5213, 'mom': 5214, 'momathupkatungtapaari': 5215, 'moment': 5216, 'moments': 5217, 'momentum': 5218, 'momo': 5219, 'momos': 5220, 'momothupka': 5221, 'moms': 5222, 'monapuri': 5223, 'monday': 5224, 'money': 5225, 'money”': 5226, 'monitor': 5227, 'monk': 5228, 'monkey': 5229, 'monogamy': 5230, 'monotheism': 5231, 'montana': 5232, 'month': 5233, 'months': 5234, 'monument': 5235, 'monumental': 5236, 'mood': 5237, 'moon': 5238, 'moong': 5239, 'moradabad': 5240, 'moral': 5241, 'morality': 5242, 'more': 5243, 'moreover': 5244, 'morning': 5245, 'morphed': 5246, 'mortality': 5247, 'mortgage': 5248, 'moses': 5249, 'mosque': 5250, 'mossadegh': 5251, 'most': 5252, 'mostly': 5253, 'mother': 5254, 'mothers': 5255, 'mother”': 5256, 'moti': 5257, 'motihari': 5258, 'motion': 5259, 'motions': 5260, 'motivated': 5261, 'motivates': 5262, 'motor': 5263, 'mougal': 5264, 'mount': 5265, 'mountain': 5266, 'mounted': 5267, 'mourn': 5268, 'mouse': 5269, 'mouth': 5270, 'mouths': 5271, 'move': 5272, 'moved': 5273, 'movement': 5274, 'movements': 5275, 'movements”': 5276, 'moves': 5277, 'movie': 5278, 'movies': 5279, 'moving': 5280, 'mp': 5281, 'mppost': 5282, 'mr': 5283, 'ms': 5284, 'mt': 5285, 'mts': 5286, 'mtter': 5287, 'mu': 5288, 'mubarak': 5289, 'much': 5290, 'mud': 5291, 'mugal': 5292, 'mugalaajam': 5293, 'mugale': 5294, 'mughal': 5295, 'mughals': 5296, 'muhal': 5297, 'mujaffarnagar': 5298, 'mujaffarpur': 5299, 'mujahir': 5300, 'mujapharnagar': 5301, 'mujaphur': 5302, 'mujjliseamal': 5303, 'muktabodha': 5304, 'muktbodh': 5305, 'multani': 5306, 'multhani': 5307, 'multinational': 5308, 'multiple': 5309, 'multitasking': 5310, 'mum': 5311, 'mumbai': 5312, 'mumbaibased': 5313, 'muni': 5314, 'municipal': 5315, 'munshi': 5316, 'muradabad': 5317, 'muradhabad': 5318, 'muradhabadh': 5319, 'murdabad': 5320, 'murder': 5321, 'murmuring': 5322, 'musalman': 5323, 'musawwira': 5324, 'muscat': 5325, 'muscles': 5326, 'museum': 5327, 'music': 5328, 'musical': 5329, 'musicsaturday': 5330, 'muslim': 5331, 'muslims': 5332, 'must': 5333, 'mustache': 5334, 'mustard': 5335, 'must”': 5336, 'muthitha': 5337, 'muttahida': 5338, 'muttaihida': 5339, 'mutthida': 5340, 'mutton': 5341, 'mutual': 5342, 'muzaffarnagar': 5343, 'muzaffarpur': 5344, 'muzapur': 5345, 'my': 5346, 'myself': 5347, 'mysore': 5348, 'mystery': 5349, 'mystical': 5350, 'myth': 5351, 'mythological': 5352, 'mythologies': 5353, 'mythology': 5354, 'mythrayaniya': 5355, 'myths': 5356, 'n': 5357, 'na': 5358, 'naachghar': 5359, 'naarada': 5360, 'naazehind': 5361, 'nabi': 5362, 'nachgar': 5363, 'nadir': 5364, 'nagaland': 5365, 'nagar': 5366, 'nagr': 5367, 'nahar': 5368, 'naharebahisht': 5369, 'nai': 5370, 'naicker': 5371, 'nailed': 5372, 'najjar': 5373, 'nakkarkhana': 5374, 'nal': 5375, 'nala': 5376, 'naldamyanti': 5377, 'namaaz': 5378, 'namaste': 5379, 'name': 5380, 'named': 5381, 'nameless': 5382, 'names': 5383, 'naming': 5384, 'nandan': 5385, 'narad': 5386, 'narada': 5387, 'narayan': 5388, 'narkendey': 5389, 'narrative': 5390, 'narukt': 5391, 'nasa': 5392, 'nashville': 5393, 'nathan': 5394, 'nation': 5395, 'national': 5396, 'nationalism': 5397, 'nationalistsecessionist': 5398, 'nationalistterrorist': 5399, 'nationals': 5400, 'nations': 5401, 'native': 5402, 'natural': 5403, 'naturally': 5404, 'nature': 5405, 'nav': 5406, 'navabharath': 5407, 'navaratna': 5408, 'navbharat': 5409, 'navin': 5410, 'navjot': 5411, 'navratna': 5412, 'naye': 5413, 'nayee': 5414, 'nayi': 5415, 'nazis': 5416, 'nba': 5417, 'nd': 5418, 'ndtv': 5419, 'near': 5420, 'nearby': 5421, 'nearest': 5422, 'nearly': 5423, 'neat': 5424, 'nebraska': 5425, 'necessary': 5426, 'neck': 5427, 'necklace': 5428, 'necks': 5429, 'necktie': 5430, 'nectar': 5431, 'need': 5432, 'needam': 5433, 'needed': 5434, 'needham': 5435, 'needs': 5436, 'neer': 5437, 'negated': 5438, 'negative': 5439, 'neglect': 5440, 'neglected': 5441, 'nehru': 5442, 'nehyu': 5443, 'neighborhood': 5444, 'neighbors': 5445, 'neil': 5446, 'neither': 5447, 'nekkra': 5448, 'nepal': 5449, 'nepalbbc': 5450, 'nepalese': 5451, 'nepali': 5452, 'nepalintroductionbbc': 5453, 'nepalnews': 5454, 'nepalnewscom': 5455, 'nepals': 5456, 'nervous': 5457, 'net': 5458, 'nets': 5459, 'network': 5460, 'networkblank': 5461, 'neurological': 5462, 'neuroscience': 5463, 'nevada': 5464, 'never': 5465, 'nevertheless': 5466, 'new': 5467, 'newcastle': 5468, 'newdelhi': 5469, 'newindia': 5470, 'newly': 5471, 'news': 5472, 'newshindi': 5473, 'newspapeclr': 5474, 'newspaper': 5475, 'newspapers': 5476, 'newstyle': 5477, 'newton': 5478, 'newunicoded': 5479, 'next': 5480, 'nfb': 5481, 'ngos': 5482, 'nhs': 5483, 'ni': 5484, 'nice': 5485, 'niche': 5486, 'nicoli': 5487, 'nidd': 5488, 'night': 5489, 'niketan': 5490, 'nimantran': 5491, 'nine': 5492, 'nineyearolds': 5493, 'ninth': 5494, 'nipple': 5495, 'nirala': 5496, 'nirvana': 5497, 'nisha': 5498, 'nitrutya': 5499, 'no': 5500, 'noaa': 5501, 'noaas': 5502, 'nobel': 5503, 'noble': 5504, 'nobody': 5505, 'noise': 5506, 'nomad': 5507, 'nomadic': 5508, 'non': 5509, 'none': 5510, 'nonetheless': 5511, 'nonreligious': 5512, 'nonsense': 5513, 'nonstick': 5514, 'nonviolence': 5515, 'noor': 5516, 'noora': 5517, 'nor': 5518, 'normal': 5519, 'north': 5520, 'northeast': 5521, 'northern': 5522, 'northpole': 5523, 'northwestern': 5524, 'nostalgia': 5525, 'not': 5526, 'notable': 5527, 'notation': 5528, 'note': 5529, 'notebook': 5530, 'notecomment': 5531, 'noted': 5532, 'notes': 5533, 'nothing': 5534, 'notice': 5535, 'noticed': 5536, 'notified': 5537, 'notion': 5538, 'not”': 5539, 'nov': 5540, 'novel': 5541, 'novelist': 5542, 'novels': 5543, 'november': 5544, 'now': 5545, 'nowadays': 5546, 'nowhere': 5547, 'ns': 5548, 'nt': 5549, 'nuclear': 5550, 'nude': 5551, 'numb': 5552, 'number': 5553, 'numbered': 5554, 'numbers': 5555, 'numerous': 5556, 'nutrition': 5557, 'nutritious': 5558, 'nuts': 5559, 'nylon': 5560, 'o': 5561, 'oak': 5562, 'oaxaca': 5563, 'obama': 5564, 'obamas': 5565, 'obe': 5566, 'obese': 5567, 'obiang': 5568, 'object': 5569, 'objective': 5570, 'objects': 5571, 'oblation': 5572, 'observable': 5573, 'observation': 5574, 'observations': 5575, 'observatory': 5576, 'observe': 5577, 'observed': 5578, 'observing': 5579, 'obsession': 5580, 'obstacle': 5581, 'obstacles': 5582, 'obstracle': 5583, 'obstructions': 5584, 'obvious': 5585, 'obviously': 5586, 'occasion': 5587, 'occassion': 5588, 'occation': 5589, 'occupation': 5590, 'occupied': 5591, 'occupy': 5592, 'occur': 5593, 'occurred': 5594, 'occurs': 5595, 'ocean': 5596, 'ockrive': 5597, 'ocr': 5598, 'ocrs': 5599, 'october': 5600, 'odd': 5601, 'oddly': 5602, 'odissa': 5603, 'odiya': 5604, 'of': 5605, 'ofakbar': 5606, 'off': 5607, 'offender': 5608, 'offends': 5609, 'offer': 5610, 'offered': 5611, 'offering': 5612, 'office': 5613, 'officer': 5614, 'official': 5615, 'officially': 5616, 'officials': 5617, 'often': 5618, 'oh': 5619, 'ohay': 5620, 'ohayo': 5621, 'ohhhh': 5622, 'ohhhhh': 5623, 'ohio': 5624, 'oil': 5625, 'ok': 5626, 'okay': 5627, 'okay”': 5628, 'oklahoma': 5629, 'okorus': 5630, 'ol': 5631, 'old': 5632, 'olden': 5633, 'older': 5634, 'oldham': 5635, 'oldhand': 5636, 'olds': 5637, 'olivia': 5638, 'ombudsman': 5639, 'on': 5640, 'onboard': 5641, 'once': 5642, 'one': 5643, 'onebuttock': 5644, 'oneistoone': 5645, 'oneness': 5646, 'ones': 5647, 'onethird': 5648, 'oneupmanship': 5649, 'online': 5650, 'only': 5651, 'ontime': 5652, 'onto': 5653, 'on”': 5654, 'ooh': 5655, 'open': 5656, 'opened': 5657, 'openness': 5658, 'opera': 5659, 'operable': 5660, 'operanet': 5661, 'operate': 5662, 'operation': 5663, 'operators': 5664, 'opinion': 5665, 'opinions': 5666, 'opium': 5667, 'opossums': 5668, 'opportunities': 5669, 'opportunity': 5670, 'opposed': 5671, 'opposite': 5672, 'opposition': 5673, 'opranet': 5674, 'opt': 5675, 'optic': 5676, 'optimist': 5677, 'optimistic': 5678, 'option': 5679, 'optional': 5680, 'options': 5681, 'optometrist': 5682, 'or': 5683, 'oraiya': 5684, 'oral': 5685, 'oratory': 5686, 'orchid': 5687, 'orchids': 5688, 'order': 5689, 'ordering': 5690, 'ordinance': 5691, 'ordinary': 5692, 'oregan': 5693, 'oregon': 5694, 'oreilly': 5695, 'organ': 5696, 'organic': 5697, 'organisation': 5698, 'organisations': 5699, 'organism': 5700, 'organizations': 5701, 'organize': 5702, 'organized': 5703, 'organizing': 5704, 'organs': 5705, 'oriented': 5706, 'origin': 5707, 'original': 5708, 'originated': 5709, 'originates': 5710, 'origins': 5711, 'oriya': 5712, 'osmosis': 5713, 'osteoarthritis': 5714, 'ostrovsky': 5715, 'othello': 5716, 'othelo': 5717, 'other': 5718, 'others': 5719, 'otherwise': 5720, 'our': 5721, 'ourselves': 5722, 'out': 5723, 'outcome': 5724, 'outdoor': 5725, 'outdoors': 5726, 'outer': 5727, 'outerexternal': 5728, 'outfit': 5729, 'outline': 5730, 'outpatient': 5731, 'outraged': 5732, 'outrageous': 5733, 'outside': 5734, 'outsider': 5735, 'outsides': 5736, 'outstanding': 5737, 'outward': 5738, 'ovation': 5739, 'over': 5740, 'overconfidence': 5741, 'overdo': 5742, 'overglorified': 5743, 'overruns': 5744, 'overs': 5745, 'overscheduled': 5746, 'overseas': 5747, 'oversight': 5748, 'overstated': 5749, 'overturned': 5750, 'overwhelm': 5751, 'own': 5752, 'owner': 5753, 'oxfam': 5754, 'oxus': 5755, 'ozone': 5756, 'p': 5757, 'paarptrtors': 5758, 'pace': 5759, 'pacemaker': 5760, 'pacifists': 5761, 'pack': 5762, 'packets': 5763, 'pad': 5764, 'padak': 5765, 'paddy': 5766, 'padm': 5767, 'padma': 5768, 'padmabhushan': 5769, 'paediatrician': 5770, 'page': 5771, 'pages': 5772, 'paid': 5773, 'paige': 5774, 'pain': 5775, 'painfully': 5776, 'pains': 5777, 'paint': 5778, 'painted': 5779, 'painting': 5780, 'paintings': 5781, 'paipaladarecession': 5782, 'paippalāda': 5783, 'pair': 5784, 'paisa': 5785, 'pak': 5786, 'pakistaan': 5787, 'pakistan': 5788, 'pakistand': 5789, 'pakistani': 5790, 'pakistanis': 5791, 'pakistanruled': 5792, 'pakistans': 5793, 'pakisthaan': 5794, 'pak“”': 5795, 'palace': 5796, 'palestine': 5797, 'palestinians': 5798, 'palm': 5799, 'palo': 5800, 'pan': 5801, 'pancreatic': 5802, 'pandavas': 5803, 'pandoras': 5804, 'panic': 5805, 'panini': 5806, 'panipat': 5807, 'panjab': 5808, 'panjabi': 5809, 'panjub': 5810, 'panosian': 5811, 'pant': 5812, 'pantha': 5813, 'pants': 5814, 'papataratos': 5815, 'papau': 5816, 'paper': 5817, 'papers': 5818, 'papusay': 5819, 'para': 5820, 'parabaas': 5821, 'parabass': 5822, 'paradigm': 5823, 'paradise': 5824, 'paragraph': 5825, 'paragraphs': 5826, 'paralysis': 5827, 'param': 5828, 'parasar': 5829, 'parashar': 5830, 'parbramh': 5831, 'pardon': 5832, 'parent': 5833, 'parents': 5834, 'paris': 5835, 'pariya': 5836, 'park': 5837, 'parked': 5838, 'parkinson': 5839, 'parks': 5840, 'parliament': 5841, 'parliamentary': 5842, 'parlimantary': 5843, 'parol': 5844, 'parota': 5845, 'parraivton': 5846, 'parsi': 5847, 'parsian': 5848, 'parsipur': 5849, 'parsis': 5850, 'part': 5851, 'partayarnyakaand': 5852, 'partclimate': 5853, 'participants': 5854, 'participate': 5855, 'participation': 5856, 'particles': 5857, 'particles”': 5858, 'particular': 5859, 'particularly': 5860, 'parties': 5861, 'partition': 5862, 'partly': 5863, 'partner': 5864, 'partners': 5865, 'partons': 5866, 'parts': 5867, 'partuzra': 5868, 'party': 5869, 'paryag': 5870, 'pasadena': 5871, 'pashthoonpathan': 5872, 'pashtun': 5873, 'pashupathinath': 5874, 'pashupatinath': 5875, 'pass': 5876, 'passable': 5877, 'passed': 5878, 'passengers': 5879, 'passes': 5880, 'passing': 5881, 'passion': 5882, 'pass”': 5883, 'past': 5884, 'paste': 5885, 'pasted': 5886, 'pasthuun': 5887, 'pasting': 5888, 'pataan': 5889, 'patel': 5890, 'patent': 5891, 'path': 5892, 'pathan': 5893, 'paths': 5894, 'pathways': 5895, 'patience': 5896, 'patna': 5897, 'patra': 5898, 'patrika': 5899, 'patriotic': 5900, 'patroness': 5901, 'pattern': 5902, 'patterns': 5903, 'pau': 5904, 'paul': 5905, 'pause': 5906, 'paused': 5907, 'pav': 5908, 'pavaktha': 5909, 'pay': 5910, 'paycheck': 5911, 'paying': 5912, 'payloads': 5913, 'paypalad': 5914, 'pc': 5915, 'pdnya': 5916, 'peace': 5917, 'peacock': 5918, 'peak': 5919, 'pedhma': 5920, 'peeippalad': 5921, 'peelibheet': 5922, 'peertopeer': 5923, 'peje': 5924, 'pen': 5925, 'penan': 5926, 'pencilveniya': 5927, 'pendulum': 5928, 'penetration': 5929, 'pennsylvania': 5930, 'penny': 5931, 'people': 5932, 'peoplearticle': 5933, 'peoples': 5934, 'people”': 5935, 'pepetrose': 5936, 'per': 5937, 'pera': 5938, 'percent': 5939, 'percentage': 5940, 'perception': 5941, 'perfect': 5942, 'perfection': 5943, 'perfectly': 5944, 'perform': 5945, 'performed': 5946, 'performer': 5947, 'performing': 5948, 'performs': 5949, 'perhaps': 5950, 'period': 5951, 'periodbefore': 5952, 'periodontal': 5953, 'periods': 5954, 'permanent': 5955, 'permission': 5956, 'permits': 5957, 'permitted': 5958, 'persian': 5959, 'person': 5960, 'personal': 5961, 'personality': 5962, 'personalize': 5963, 'personalizing': 5964, 'personalty': 5965, 'personnal': 5966, 'persons': 5967, 'perspective': 5968, 'perspectives': 5969, 'perverse': 5970, 'pet': 5971, 'peter': 5972, 'petersburg': 5973, 'petition': 5974, 'petitions': 5975, 'petrified': 5976, 'petrol': 5977, 'pews': 5978, 'phallic': 5979, 'pharermchand': 5980, 'pharisee': 5981, 'pharmacist': 5982, 'pharsee': 5983, 'pharsi': 5984, 'phase': 5985, 'phased': 5986, 'phenomena': 5987, 'phenomenal': 5988, 'phenomenon': 5989, 'philippines': 5990, 'philmography': 5991, 'philosopher': 5992, 'philosophy': 5993, 'phone': 5994, 'phones': 5995, 'phonetic': 5996, 'phoniness': 5997, 'phool': 5998, 'photo': 5999, 'photocopying': 6000, 'photograph': 6001, 'photographic': 6002, 'photographing': 6003, 'photographs': 6004, 'photography': 6005, 'photorealism': 6006, 'photos': 6007, 'phrase': 6008, 'phule': 6009, 'physical': 6010, 'physicists': 6011, 'physiology': 6012, 'piano': 6013, 'pick': 6014, 'picked': 6015, 'picks': 6016, 'picnic': 6017, 'picture': 6018, 'picturebig': 6019, 'pictures': 6020, 'piece': 6021, 'pieces': 6022, 'pigs': 6023, 'piled': 6024, 'pilgrim': 6025, 'pilgrimage': 6026, 'pilgrimsites': 6027, 'pilibhit': 6028, 'pillar': 6029, 'pillars': 6030, 'pinched': 6031, 'pink': 6032, 'pipa': 6033, 'pishtaaqs': 6034, 'pitch': 6035, 'pittsburgh': 6036, 'pity': 6037, 'piuu': 6038, 'place': 6039, 'placed': 6040, 'places': 6041, 'plagiarism': 6042, 'plains': 6043, 'plaiting': 6044, 'plan': 6045, 'planar': 6046, 'plane': 6047, 'planet': 6048, 'planets': 6049, 'planning': 6050, 'plans': 6051, 'plant': 6052, 'plantation': 6053, 'plants': 6054, 'plaque': 6055, 'plate': 6056, 'plateaus': 6057, 'platform': 6058, 'platforms': 6059, 'play': 6060, 'playback': 6061, 'played': 6062, 'player': 6063, 'players': 6064, 'playing': 6065, 'playwright': 6066, 'playwrights': 6067, 'plc': 6068, 'please': 6069, 'pleasure': 6070, 'pleasyre': 6071, 'plenty': 6072, 'plese': 6073, 'plugged': 6074, 'plunger': 6075, 'pluralism': 6076, 'plus': 6077, 'pm': 6078, 'po': 6079, 'poartle': 6080, 'pochampally': 6081, 'pockets': 6082, 'poem': 6083, 'poems': 6084, 'poet': 6085, 'poetesses': 6086, 'poetic': 6087, 'poetry': 6088, 'poets': 6089, 'point': 6090, 'pointed': 6091, 'pointless”': 6092, 'points': 6093, 'poision': 6094, 'poison': 6095, 'pokhara': 6096, 'pokhra': 6097, 'poland': 6098, 'pole': 6099, 'polemic': 6100, 'polemics': 6101, 'poli': 6102, 'police': 6103, 'policies': 6104, 'policing': 6105, 'policy': 6106, 'policymakers': 6107, 'polio': 6108, 'political': 6109, 'politically': 6110, 'politics': 6111, 'polka': 6112, 'pollinator': 6113, 'pollutant': 6114, 'polluted': 6115, 'polluter': 6116, 'pollution': 6117, 'polynesian': 6118, 'polyurethane': 6119, 'pond': 6120, 'ponytail': 6121, 'pool': 6122, 'poop': 6123, 'poor': 6124, 'poorvothar': 6125, 'poorwanchal': 6126, 'poovi': 6127, 'pop': 6128, 'popular': 6129, 'popularity': 6130, 'populatin': 6131, 'population': 6132, 'populations': 6133, 'pores': 6134, 'portal': 6135, 'portions': 6136, 'portland': 6137, 'porto': 6138, 'portraits': 6139, 'portugal': 6140, 'portugese': 6141, 'portuguese': 6142, 'pose': 6143, 'position': 6144, 'positions': 6145, 'positive': 6146, 'positivity': 6147, 'possessing': 6148, 'possibility': 6149, 'possible': 6150, 'possibly': 6151, 'post': 6152, 'postal': 6153, 'posted': 6154, 'poster': 6155, 'posthumous': 6156, 'posting': 6157, 'postion': 6158, 'posture': 6159, 'pot': 6160, 'pota': 6161, 'potential': 6162, 'poto': 6163, 'pound': 6164, 'pounds': 6165, 'poured': 6166, 'poverty': 6167, 'power': 6168, 'powered': 6169, 'powerful': 6170, 'powers': 6171, 'ppd': 6172, 'prabanan': 6173, 'prabha': 6174, 'prabhasakshi': 6175, 'prabhat': 6176, 'prabhath': 6177, 'practicable': 6178, 'practical': 6179, 'practice': 6180, 'practices': 6181, 'practicing': 6182, 'pradeep': 6183, 'pradesh': 6184, 'pradhash': 6185, 'pradip': 6186, 'prague': 6187, 'praja': 6188, 'praksanik': 6189, 'prambaanan': 6190, 'prambanan': 6191, 'pranav': 6192, 'pranay': 6193, 'pranitha': 6194, 'pranya': 6195, 'praroop': 6196, 'prasad': 6197, 'prataap': 6198, 'pratap': 6199, 'pratapgad': 6200, 'pratapgarh': 6201, 'pratimao': 6202, 'pravas': 6203, 'prayag': 6204, 'prayas': 6205, 'prayer': 6206, 'prayers': 6207, 'prayogik': 6208, 'preaasakshaie': 6209, 'preacher': 6210, 'preamble': 6211, 'precalculus': 6212, 'precious': 6213, 'precise': 6214, 'precisely': 6215, 'preconceived': 6216, 'precursor': 6217, 'predestined': 6218, 'predict': 6219, 'predictable': 6220, 'predicts': 6221, 'preface': 6222, 'prefer': 6223, 'preindependence': 6224, 'preliminary': 6225, 'prem': 6226, 'premchand': 6227, 'prepaid': 6228, 'preparation': 6229, 'preparing': 6230, 'prepping': 6231, 'prescribed': 6232, 'presence': 6233, 'present': 6234, 'presentation': 6235, 'presentations': 6236, 'presented': 6237, 'presents': 6238, 'preserve': 6239, 'president': 6240, 'press': 6241, 'pressure': 6242, 'pressures': 6243, 'pretends': 6244, 'pretense': 6245, 'pretty': 6246, 'prevalent': 6247, 'prevent': 6248, 'preventable': 6249, 'prevention': 6250, 'previous': 6251, 'price': 6252, 'priceless': 6253, 'prices': 6254, 'pride': 6255, 'prideofindia': 6256, 'priest': 6257, 'priestly': 6258, 'primary': 6259, 'primates': 6260, 'prime': 6261, 'princess': 6262, 'principal': 6263, 'principle': 6264, 'principles': 6265, 'print': 6266, 'printed': 6267, 'printer': 6268, 'printing': 6269, 'prints': 6270, 'prior': 6271, 'priorities': 6272, 'prison': 6273, 'prisoners': 6274, 'privacy': 6275, 'private': 6276, 'privatization': 6277, 'prize': 6278, 'prja': 6279, 'probability': 6280, 'probably': 6281, 'probe': 6282, 'problem': 6283, 'problems': 6284, 'problemsolving': 6285, 'problem”': 6286, 'procedure': 6287, 'proceed': 6288, 'proceedings': 6289, 'process': 6290, 'processes': 6291, 'processor': 6292, 'produce': 6293, 'produced': 6294, 'producer': 6295, 'producing': 6296, 'product': 6297, 'production': 6298, 'products': 6299, 'prof': 6300, 'profa': 6301, 'profaachuthan': 6302, 'professional': 6303, 'professor': 6304, 'profit': 6305, 'profits': 6306, 'profoundly': 6307, 'profusely': 6308, 'progovernment': 6309, 'program': 6310, 'programme': 6311, 'programs': 6312, 'progress': 6313, 'prohibition': 6314, 'prohibitive': 6315, 'project': 6316, 'projects': 6317, 'promise': 6318, 'promote': 6319, 'promoter': 6320, 'promoting': 6321, 'prompt': 6322, 'proof': 6323, 'propaganda': 6324, 'propagandist': 6325, 'propane': 6326, 'propeller': 6327, 'properties': 6328, 'property': 6329, 'prophecy': 6330, 'prophet': 6331, 'prophets': 6332, 'proposal': 6333, 'proposals': 6334, 'proposed': 6335, 'proposition': 6336, 'prose': 6337, 'proser': 6338, 'prosewriter': 6339, 'prospect”': 6340, 'prosper': 6341, 'prosthetic': 6342, 'prostitute': 6343, 'prostituted': 6344, 'protection': 6345, 'protein': 6346, 'protem': 6347, 'protest': 6348, 'protesters': 6349, 'protesting': 6350, 'proton': 6351, 'prototype': 6352, 'prototypes': 6353, 'proud': 6354, 'prove': 6355, 'proven': 6356, 'proves': 6357, 'provide': 6358, 'provided': 6359, 'providence': 6360, 'provider': 6361, 'providing': 6362, 'province': 6363, 'provision': 6364, 'provisioning': 6365, 'prubottar': 6366, 'pry': 6367, 'psych': 6368, 'psychiatrist': 6369, 'psychiatrists': 6370, 'psychological': 6371, 'psycho”': 6372, 'puberty': 6373, 'public': 6374, 'publications': 6375, 'publicity': 6376, 'publish': 6377, 'published': 6378, 'publisher': 6379, 'publishing': 6380, 'pudong': 6381, 'puja': 6382, 'pukht': 6383, 'pukt': 6384, 'pulao': 6385, 'pulav': 6386, 'pull': 6387, 'pulled': 6388, 'pulse': 6389, 'pump': 6390, 'punctuated': 6391, 'punctured': 6392, 'pune': 6393, 'puni': 6394, 'punis': 6395, 'punish': 6396, 'punjab': 6397, 'punjabi': 6398, 'puppets': 6399, 'puraan': 6400, 'puran': 6401, 'purana': 6402, 'puranas': 6403, 'purane': 6404, 'puranic': 6405, 'purbanchal': 6406, 'pure': 6407, 'puri': 6408, 'purity': 6409, 'purpose': 6410, 'purse': 6411, 'purthgalli': 6412, 'puru': 6413, 'purvanchal': 6414, 'purvi': 6415, 'push': 6416, 'pushed': 6417, 'pushing': 6418, 'put': 6419, 'putia': 6420, 'puts': 6421, 'putting': 6422, 'puzzle': 6423, 'puzzles': 6424, 'q': 6425, 'qamar': 6426, 'qualities': 6427, 'quality': 6428, 'quantum': 6429, 'quarans': 6430, 'quarrel': 6431, 'quarters': 6432, 'quartile': 6433, 'quentin': 6434, 'question': 6435, 'questions': 6436, 'quick': 6437, 'quickly': 6438, 'quiet': 6439, 'quik': 6440, 'quit': 6441, 'quite': 6442, 'quote': 6443, 'quran': 6444, 'qurans': 6445, 'r': 6446, 'raahen': 6447, 'raajtilak': 6448, 'raasleela': 6449, 'rabindar': 6450, 'race': 6451, 'radiation': 6452, 'radical': 6453, 'radio': 6454, 'radios': 6455, 'rafting': 6456, 'rage': 6457, 'raghu': 6458, 'raghufont': 6459, 'raging': 6460, 'rags': 6461, 'rahen': 6462, 'rai': 6463, 'raibaraili': 6464, 'raibareli': 6465, 'railways': 6466, 'rain': 6467, 'rainfall': 6468, 'rains': 6469, 'raipur': 6470, 'raise': 6471, 'raised': 6472, 'raises': 6473, 'raising': 6474, 'raisins”': 6475, 'raj': 6476, 'raja': 6477, 'rajasthan': 6478, 'rajasthani': 6479, 'rajasthans': 6480, 'rajdhani': 6481, 'rajdhni': 6482, 'rajsabha': 6483, 'rajsthani': 6484, 'rajya': 6485, 'rajyasabha': 6486, 'rajyashabha': 6487, 'rajya“”': 6488, 'ram': 6489, 'rama': 6490, 'ramakavya': 6491, 'ramallah': 6492, 'ramayan': 6493, 'ramayana': 6494, 'rambagh': 6495, 'ramleela': 6496, 'rampur': 6497, 'ramrajya': 6498, 'rams': 6499, 'ramyana': 6500, 'ran': 6501, 'ranchi': 6502, 'random': 6503, 'randomness': 6504, 'ranga': 6505, 'range': 6506, 'rangerajasthan': 6507, 'rangestates': 6508, 'rangoli': 6509, 'ranjani': 6510, 'rank': 6511, 'ranking': 6512, 'rankings': 6513, 'ransom': 6514, 'rapid': 6515, 'rapists': 6516, 'rapur': 6517, 'raqib': 6518, 'rare': 6519, 'rarely': 6520, 'rarity': 6521, 'ras': 6522, 'rasa': 6523, 'rasagulla': 6524, 'rasgulla': 6525, 'rash': 6526, 'rashani': 6527, 'rashdwar': 6528, 'rashidun': 6529, 'rashtriya': 6530, 'rashul': 6531, 'rasleela': 6532, 'rasool': 6533, 'rastrawadi': 6534, 'rasul': 6535, 'rat': 6536, 'rate': 6537, 'rated': 6538, 'rates': 6539, 'rather': 6540, 'ratio': 6541, 'rational': 6542, 'rationed': 6543, 'rats': 6544, 'ravendra': 6545, 'ravidas': 6546, 'ravidass': 6547, 'ravidra': 6548, 'ravindra': 6549, 'ravindranath': 6550, 'raw': 6551, 'ray': 6552, 'rayan': 6553, 'raybareli': 6554, 're': 6555, 'reach': 6556, 'reached': 6557, 'reaction': 6558, 'reactor': 6559, 'read': 6560, 'readability': 6561, 'reader': 6562, 'readers': 6563, 'readily': 6564, 'reading': 6565, 'ready': 6566, 'real': 6567, 'realism': 6568, 'realistic': 6569, 'reality': 6570, 'realize': 6571, 'realized': 6572, 'realizing': 6573, 'really': 6574, 'realm': 6575, 'realtime': 6576, 'rear': 6577, 'reason': 6578, 'reasonable': 6579, 'reasons': 6580, 'reassure': 6581, 'rebellious': 6582, 'recall': 6583, 'receive': 6584, 'received': 6585, 'receiving': 6586, 'recent': 6587, 'recently': 6588, 'recepient': 6589, 'recession': 6590, 'recipe': 6591, 'reciprocal': 6592, 'reckless': 6593, 'recognise': 6594, 'recognitions': 6595, 'recognize': 6596, 'recommend': 6597, 'recommendation': 6598, 'reconnect': 6599, 'reconstruction': 6600, 'record': 6601, 'recorder': 6602, 'records': 6603, 'recors': 6604, 'recoup': 6605, 'recovering': 6606, 'rectangle': 6607, 'recut': 6608, 'red': 6609, 'redditcom': 6610, 'redefine': 6611, 'redefining': 6612, 'redemption': 6613, 'rediscovery': 6614, 'reduce': 6615, 'reduced': 6616, 'reducing': 6617, 'reduction': 6618, 'reeva': 6619, 'refer': 6620, 'referance': 6621, 'reference': 6622, 'referenced': 6623, 'references': 6624, 'referencescontexts': 6625, 'referred': 6626, 'reflect': 6627, 'reform': 6628, 'reforms': 6629, 'reframed': 6630, 'refrigeration': 6631, 'refugee': 6632, 'regalia': 6633, 'regard': 6634, 'regarding': 6635, 'regardless': 6636, 'regards': 6637, 'regime': 6638, 'region': 6639, 'regional': 6640, 'regisred': 6641, 'registered': 6642, 'regret': 6643, 'regular': 6644, 'regularly': 6645, 'rehabiliation': 6646, 'rehabilitation': 6647, 'reintroduction': 6648, 'rejoice': 6649, 'rekhi': 6650, 'related': 6651, 'relates': 6652, 'relating': 6653, 'relation': 6654, 'relations': 6655, 'relationship': 6656, 'relationships': 6657, 'relative': 6658, 'relatives': 6659, 'relaxed': 6660, 'release': 6661, 'released': 6662, 'releasing': 6663, 'relentlessly': 6664, 'relevant': 6665, 'reliable': 6666, 'reliant': 6667, 'relic': 6668, 'relief': 6669, 'relieve': 6670, 'religeous': 6671, 'religion': 6672, 'religions': 6673, 'religious': 6674, 'religon': 6675, 'relocation': 6676, 'remain': 6677, 'remained': 6678, 'remark': 6679, 'remarkable': 6680, 'remarkably': 6681, 'rembrandt': 6682, 'remedy': 6683, 'remember': 6684, 'remembered': 6685, 'remi': 6686, 'reminded': 6687, 'reminder': 6688, 'reminds': 6689, 'remixes': 6690, 'remixing': 6691, 'remote': 6692, 'remotely': 6693, 'removed”': 6694, 'remya': 6695, 'rendered': 6696, 'renewable': 6697, 'rent': 6698, 'rented': 6699, 'repairs': 6700, 'repeat': 6701, 'repeats': 6702, 'replacement': 6703, 'replies': 6704, 'reply': 6705, 'report': 6706, 'reported': 6707, 'reporter': 6708, 'reporting': 6709, 'reports': 6710, 'represent': 6711, 'representative': 6712, 'represented': 6713, 'represents': 6714, 'reproduction': 6715, 'republic': 6716, 'republican': 6717, 'reputable': 6718, 'reputation': 6719, 'request': 6720, 'require': 6721, 'required': 6722, 'rereading': 6723, 'rescue': 6724, 'research': 6725, 'researchers': 6726, 'resembles': 6727, 'reset': 6728, 'reside': 6729, 'resin': 6730, 'resist': 6731, 'resolutions': 6732, 'resources': 6733, 'respect': 6734, 'respectable': 6735, 'respectful': 6736, 'respectively': 6737, 'respectnobel': 6738, 'respiration': 6739, 'respond': 6740, 'responding': 6741, 'response': 6742, 'responses': 6743, 'responsibilities': 6744, 'responsibility': 6745, 'responsible': 6746, 'rest': 6747, 'restaurant': 6748, 'restaurants': 6749, 'resting': 6750, 'restless': 6751, 'restoration': 6752, 'restrictions': 6753, 'result': 6754, 'resulted': 6755, 'results': 6756, 'retention': 6757, 'rethink': 6758, 'retirement': 6759, 'retirements': 6760, 'retuning': 6761, 'return': 6762, 'returned': 6763, 'reuters': 6764, 'reva': 6765, 'revealed': 6766, 'revenue': 6767, 'revenues': 6768, 'reverberation': 6769, 'revered': 6770, 'reverend': 6771, 'reverie': 6772, 'reverse': 6773, 'reversing': 6774, 'review': 6775, 'reviews': 6776, 'revitalize': 6777, 'revoke': 6778, 'revolting': 6779, 'revolution': 6780, 'revolutionaries': 6781, 'revolutionary': 6782, 'reward': 6783, 'rewards': 6784, 'rewrote': 6785, 'rhode': 6786, 'rhythm': 6787, 'rhythmic': 6788, 'rib': 6789, 'riccobono': 6790, 'rich': 6791, 'richard': 6792, 'richness': 6793, 'rid': 6794, 'ride': 6795, 'rider': 6796, 'ridiculous': 6797, 'riding': 6798, 'rifting': 6799, 'right': 6800, 'righteous': 6801, 'rights': 6802, 'right”': 6803, 'rigid': 6804, 'rigorous': 6805, 'rings': 6806, 'rinse': 6807, 'rio': 6808, 'riot': 6809, 'rioting': 6810, 'riots': 6811, 'ripened': 6812, 'ripper': 6813, 'rise': 6814, 'rises': 6815, 'rising': 6816, 'risk': 6817, 'risks': 6818, 'risky': 6819, 'rite': 6820, 'riti': 6821, 'ritual': 6822, 'rituals': 6823, 'riva': 6824, 'river': 6825, 'rivers': 6826, 'riversunion': 6827, 'rm': 6828, 'road': 6829, 'roads': 6830, 'roberthoudin': 6831, 'robot': 6832, 'robotics': 6833, 'robots': 6834, 'rock': 6835, 'rocks': 6836, 'rocky': 6837, 'rod': 6838, 'rodeo': 6839, 'rodio': 6840, 'rogan': 6841, 'roja': 6842, 'roja“”': 6843, 'role': 6844, 'roles': 6845, 'roll': 6846, 'rollbacks': 6847, 'rollers': 6848, 'romance': 6849, 'romantic': 6850, 'romantism': 6851, 'romela': 6852, 'roof': 6853, 'roofs': 6854, 'rooftops': 6855, 'room': 6856, 'rooms': 6857, 'root': 6858, 'rope': 6859, 'rosa': 6860, 'rosey': 6861, 'rosogulla': 6862, 'rotated': 6863, 'rotors': 6864, 'round': 6865, 'rousseau': 6866, 'rousseff': 6867, 'route': 6868, 'row': 6869, 'rowdiness': 6870, 'roy': 6871, 'royal': 6872, 'roza': 6873, 'rrb': 6874, 'rs': 6875, 'rss': 6876, 'rubaiya': 6877, 'rubayiyn': 6878, 'rubber': 6879, 'rubella': 6880, 'rudyard': 6881, 'rug': 6882, 'rughal': 6883, 'ruins': 6884, 'rule': 6885, 'rulebook': 6886, 'ruled': 6887, 'ruler': 6888, 'rulers': 6889, 'rules': 6890, 'rulling': 6891, 'rumi': 6892, 'run': 6893, 'running': 6894, 'runs': 6895, 'runs”': 6896, 'run”': 6897, 'rupees': 6898, 'rural': 6899, 'rus': 6900, 'rush': 6901, 'russia': 6902, 'russian': 6903, 'rusty': 6904, 'rwanda': 6905, 's': 6906, 'saag': 6907, 'saahi': 6908, 'saakal': 6909, 'saaseeth': 6910, 'sabah': 6911, 'sabha': 6912, 'sabhas': 6913, 'sachin': 6914, 'sacred': 6915, 'sacredness': 6916, 'sacrifice': 6917, 'sad': 6918, 'saddest': 6919, 'sadly': 6920, 'sadness': 6921, 'saeed': 6922, 'safe': 6923, 'safeguards': 6924, 'safer': 6925, 'safety': 6926, 'sag': 6927, 'sagaranpur': 6928, 'sahara': 6929, 'saharanpur': 6930, 'sahib': 6931, 'said': 6932, 'saidulluh': 6933, 'saikandara': 6934, 'sailed': 6935, 'sainani': 6936, 'saint': 6937, 'sair': 6938, 'sak': 6939, 'sake': 6940, 'sakshi': 6941, 'salaam': 6942, 'salad': 6943, 'sale': 6944, 'sales': 6945, 'salinas': 6946, 'sally': 6947, 'salmon': 6948, 'salt': 6949, 'salts': 6950, 'salvation': 6951, 'sam': 6952, 'samachar': 6953, 'samacharunicoded': 6954, 'samalochana': 6955, 'sambar': 6956, 'sambhar': 6957, 'same': 6958, 'sameta': 6959, 'sample': 6960, 'sampled': 6961, 'samples': 6962, 'samskritham': 6963, 'samuel': 6964, 'samvad': 6965, 'samwad': 6966, 'san': 6967, 'sanchika': 6968, 'sanction': 6969, 'sanctions': 6970, 'sanctuary': 6971, 'sand': 6972, 'sanderme': 6973, 'sandesh': 6974, 'sandeshmitthai': 6975, 'sandeshsweet': 6976, 'sandhesh': 6977, 'sandwich': 6978, 'sandwiches': 6979, 'sandy': 6980, 'sangama': 6981, 'sanganak': 6982, 'sangara': 6983, 'sangeet': 6984, 'sangeetha': 6985, 'sangha': 6986, 'sangini': 6987, 'sanginisaturday': 6988, 'sangit': 6989, 'sanhita': 6990, 'sanitation': 6991, 'sankalak': 6992, 'sankrit': 6993, 'sanlak': 6994, 'sansar': 6995, 'sanskrir': 6996, 'sanskrit': 6997, 'sanskritam': 6998, 'sanskritum': 6999, 'sanskrut': 7000, 'sant': 7001, 'sanwad': 7002, 'sapiens': 7003, 'sarasvati': 7004, 'saraswathi': 7005, 'saraswati': 7006, 'sarawak': 7007, 'saree': 7008, 'sarees': 7009, 'sariyat': 7010, 'sarson': 7011, 'sat': 7012, 'satan': 7013, 'satarangini': 7014, 'satdelhi': 7015, 'satelite': 7016, 'satellite': 7017, 'satgeography': 7018, 'sathyavati': 7019, 'satisfaction': 7020, 'satisfying': 7021, 'satmahabharata': 7022, 'satr': 7023, 'satrangini': 7024, 'satreligious': 7025, 'saturday': 7026, 'satyavathis': 7027, 'satyawati': 7028, 'sau': 7029, 'saupun': 7030, 'saurahal': 7031, 'savarkar': 7032, 'save': 7033, 'saved': 7034, 'saves': 7035, 'saving': 7036, 'savory': 7037, 'savoury': 7038, 'savvy': 7039, 'saw': 7040, 'saws': 7041, 'say': 7042, 'sayantan': 7043, 'sayanthr': 7044, 'saying': 7045, 'sayings': 7046, 'says': 7047, 'scaffolding': 7048, 'scale': 7049, 'scaled': 7050, 'scales': 7051, 'scaling': 7052, 'scan': 7053, 'scans': 7054, 'scarce': 7055, 'scare': 7056, 'scared': 7057, 'scarlett': 7058, 'scary': 7059, 'scene': 7060, 'scenes': 7061, 'scenic': 7062, 'scheme': 7063, 'scholarships': 7064, 'school': 7065, 'schools': 7066, 'school”': 7067, 'science': 7068, 'scientific': 7069, 'scientist': 7070, 'scientists': 7071, 'score': 7072, 'scorer': 7073, 'scores': 7074, 'scorpions': 7075, 'scotch': 7076, 'scott': 7077, 'screamed': 7078, 'screen': 7079, 'screened': 7080, 'screening': 7081, 'screw': 7082, 'scribe': 7083, 'script': 7084, 'scripts': 7085, 'scripture': 7086, 'scriptures': 7087, 'scrivener': 7088, 'scroll': 7089, 'sculpture': 7090, 'sculptures': 7091, 'sd': 7092, 'se': 7093, 'sea': 7094, 'seadragon': 7095, 'sealant': 7096, 'sealants': 7097, 'seamless': 7098, 'search': 7099, 'searched': 7100, 'searchengine': 7101, 'searches': 7102, 'seasonal': 7103, 'seat': 7104, 'seattle': 7105, 'seawater': 7106, 'second': 7107, 'secondhand': 7108, 'secondly': 7109, 'seconds': 7110, 'secracy': 7111, 'secrecy': 7112, 'secret': 7113, 'secrete': 7114, 'sect': 7115, 'sectinal': 7116, 'section': 7117, 'sectioneast': 7118, 'sectionislam': 7119, 'sectionreligion': 7120, 'sections': 7121, 'sectionwaterside': 7122, 'sector': 7123, 'sectors': 7124, 'secure': 7125, 'security': 7126, 'sedimenting': 7127, 'see': 7128, 'seeing': 7129, 'seek': 7130, 'seeligudi': 7131, 'seem': 7132, 'seemed': 7133, 'seems': 7134, 'seen': 7135, 'sees': 7136, 'seetapur': 7137, 'seethanagar': 7138, 'seethapur': 7139, 'seethis': 7140, 'see”': 7141, 'segregation': 7142, 'selected': 7143, 'selection': 7144, 'self': 7145, 'selfblame': 7146, 'selfconfidence': 7147, 'selfestablished': 7148, 'selfexcited': 7149, 'selfinterest': 7150, 'selfish': 7151, 'selfishness': 7152, 'selfportrait': 7153, 'sell': 7154, 'selling': 7155, 'semicirclular': 7156, 'sen': 7157, 'sena': 7158, 'senate': 7159, 'send': 7160, 'sends': 7161, 'senegal': 7162, 'seng': 7163, 'senigar': 7164, 'seniority': 7165, 'sensation': 7166, 'sense': 7167, 'sensitive': 7168, 'sensors': 7169, 'sensory': 7170, 'sensuality': 7171, 'sensus': 7172, 'sent': 7173, 'sentence': 7174, 'september': 7175, 'septicaemia': 7176, 'sequester': 7177, 'serenity': 7178, 'serial': 7179, 'series': 7180, 'seriesagra': 7181, 'seriesakbar': 7182, 'seriesamerica': 7183, 'seriesbuddhism': 7184, 'seriescities': 7185, 'seriescity': 7186, 'seriesdelhi': 7187, 'seriesgautham': 7188, 'serieshistory': 7189, 'seriesindia': 7190, 'seriesindian': 7191, 'seriesland': 7192, 'seriesliterature': 7193, 'seriesmountain': 7194, 'seriesmugals': 7195, 'seriespresident': 7196, 'seriesrajniti': 7197, 'seriesreligious': 7198, 'seriesriver': 7199, 'seriesrivers': 7200, 'seriesromantic': 7201, 'seriestaj': 7202, 'seriesuttar': 7203, 'seriesworld': 7204, 'serious': 7205, 'sermons': 7206, 'served': 7207, 'server': 7208, 'service': 7209, 'services': 7210, 'services”': 7211, 'serving': 7212, 'servings': 7213, 'session': 7214, 'sessions': 7215, 'set': 7216, 'setbacks': 7217, 'sets': 7218, 'setting': 7219, 'settlement': 7220, 'settling': 7221, 'seu': 7222, 'seva': 7223, 'seven': 7224, 'seventh': 7225, 'several': 7226, 'severe': 7227, 'sew': 7228, 'sewing': 7229, 'sex': 7230, 'sexual': 7231, 'sexuality': 7232, 'sexually': 7233, 'sexy': 7234, 'sgrahaaly': 7235, 'shaakal': 7236, 'shaami': 7237, 'shabdha': 7238, 'shabdkoshcom': 7239, 'shack': 7240, 'shadow': 7241, 'shadowy': 7242, 'shah': 7243, 'shahajanpur': 7244, 'shaheen': 7245, 'shahjahanpur': 7246, 'shahjahans': 7247, 'shahrnush': 7248, 'shaileshkumar': 7249, 'shaka': 7250, 'shakal': 7251, 'shake': 7252, 'shakthi': 7253, 'shaky': 7254, 'shall': 7255, 'shalom': 7256, 'shalya': 7257, 'shamal': 7258, 'shaman': 7259, 'shame': 7260, 'shame”': 7261, 'shami': 7262, 'shanghai': 7263, 'shankayan': 7264, 'shanker': 7265, 'shanti': 7266, 'shantiniketan': 7267, 'shape': 7268, 'shaped': 7269, 'sharad': 7270, 'sharavasthi': 7271, 'share': 7272, 'shared': 7273, 'sharing': 7274, 'sharma': 7275, 'sharmeen': 7276, 'sharp': 7277, 'sharston': 7278, 'shaunak': 7279, 'shaw': 7280, 'she': 7281, 'shearing': 7282, 'shed': 7283, 'sheep': 7284, 'sheila': 7285, 'shell': 7286, 'shells': 7287, 'sheltered': 7288, 'shelters': 7289, 'sheneei': 7290, 'shepherd': 7291, 'shes': 7292, 'shettar': 7293, 'shia': 7294, 'shift': 7295, 'shines': 7296, 'shining': 7297, 'shiny': 7298, 'ship': 7299, 'shipping': 7300, 'ships': 7301, 'shiv': 7302, 'shiva': 7303, 'shocked': 7304, 'shocking': 7305, 'shoeing': 7306, 'shoes': 7307, 'shoes”': 7308, 'shoot': 7309, 'shop': 7310, 'shopan': 7311, 'shopping': 7312, 'shops': 7313, 'short': 7314, 'shortcomings': 7315, 'shorter': 7316, 'shot': 7317, 'should': 7318, 'shouldnt': 7319, 'shounak': 7320, 'shounikrecession': 7321, 'shout': 7322, 'show': 7323, 'showed': 7324, 'showered': 7325, 'showers': 7326, 'showing': 7327, 'showman': 7328, 'shown': 7329, 'shows': 7330, 'shrani': 7331, 'shravasthi': 7332, 'shravasti': 7333, 'shreekhand': 7334, 'shreni': 7335, 'shresth': 7336, 'shri': 7337, 'shrikhand': 7338, 'shroatindian': 7339, 'shrunk': 7340, 'shuffler': 7341, 'shut': 7342, 'shuts': 7343, 'shy': 7344, 'siberia': 7345, 'sick': 7346, 'sickening': 7347, 'sickness': 7348, 'siddharthnagar': 7349, 'side': 7350, 'sidebyside': 7351, 'sidedish': 7352, 'sides': 7353, 'sidharthnagar': 7354, 'sidhu': 7355, 'sidney': 7356, 'siemens': 7357, 'sierra': 7358, 'sight': 7359, 'sign': 7360, 'signal': 7361, 'signature': 7362, 'signed': 7363, 'significance': 7364, 'significant': 7365, 'signposting': 7366, 'signs': 7367, 'sikandara': 7368, 'sikandaramausoleum': 7369, 'sikandra': 7370, 'sikaree': 7371, 'sikari': 7372, 'sikhri': 7373, 'sikri': 7374, 'silence': 7375, 'silenced': 7376, 'silent': 7377, 'siligudi': 7378, 'siliguri': 7379, 'silva': 7380, 'silver': 7381, 'sim': 7382, 'similar': 7383, 'similarly': 7384, 'simple': 7385, 'simply': 7386, 'since': 7387, 'sincere': 7388, 'sind': 7389, 'sinddha': 7390, 'sindh': 7391, 'sindhi': 7392, 'sindu': 7393, 'singapore': 7394, 'singer': 7395, 'singh': 7396, 'singing': 7397, 'single': 7398, 'singular': 7399, 'sink': 7400, 'sinkadra': 7401, 'sinks': 7402, 'sir': 7403, 'siren': 7404, 'sisir': 7405, 'sister': 7406, 'sisterhood': 7407, 'sit': 7408, 'sita': 7409, 'sitapur': 7410, 'site': 7411, 'sites': 7412, 'sitin': 7413, 'sitting': 7414, 'situation': 7415, 'situations': 7416, 'six': 7417, 'sixfigure': 7418, 'sixliter': 7419, 'sixmonther': 7420, 'sixth': 7421, 'sixtytwoyears': 7422, 'size': 7423, 'sk': 7424, 'skand': 7425, 'skanda': 7426, 'skayyar': 7427, 'sketch': 7428, 'skier': 7429, 'skill': 7430, 'skilled': 7431, 'skillness': 7432, 'skin': 7433, 'skkalidas': 7434, 'skoyyar': 7435, 'sky': 7436, 'skype': 7437, 'skyscrapers': 7438, 'slapstick': 7439, 'sleep': 7440, 'sleepdeprived': 7441, 'sleeping': 7442, 'sleight': 7443, 'slick': 7444, 'slide': 7445, 'slightly': 7446, 'slippers': 7447, 'slipping': 7448, 'slogan': 7449, 'slope': 7450, 'slow': 7451, 'slowdown': 7452, 'slowly': 7453, 'slugfest': 7454, 'slums': 7455, 'sm': 7456, 'small': 7457, 'smaller': 7458, 'smallest': 7459, 'smartbird': 7460, 'smarter': 7461, 'smdhmd': 7462, 'smell': 7463, 'smell”': 7464, 'smile': 7465, 'smiled': 7466, 'smiler': 7467, 'smiling': 7468, 'smiths': 7469, 'smoke': 7470, 'smokefree': 7471, 'smoking': 7472, 'smoldering': 7473, 'smooth': 7474, 'smriti': 7475, 'sms': 7476, 'snake': 7477, 'snakes': 7478, 'snap': 7479, 'sneaking': 7480, 'sniffing': 7481, 'sniffs': 7482, 'snobbery': 7483, 'snow': 7484, 'so': 7485, 'soaami': 7486, 'soami': 7487, 'sober': 7488, 'sobule': 7489, 'socalled': 7490, 'social': 7491, 'socialistic': 7492, 'societal': 7493, 'society': 7494, 'sociology”': 7495, 'sofa': 7496, 'sofomo': 7497, 'soft': 7498, 'softbristle': 7499, 'softer': 7500, 'softly': 7501, 'software': 7502, 'soham': 7503, 'soi': 7504, 'soil': 7505, 'soil”': 7506, 'solamorales': 7507, 'solar': 7508, 'solarelectrified': 7509, 'sold': 7510, 'soldier': 7511, 'soldiers': 7512, 'sole': 7513, 'soles': 7514, 'solid': 7515, 'solution': 7516, 'solutions': 7517, 'solve': 7518, 'solved': 7519, 'solvent': 7520, 'solves': 7521, 'solving': 7522, 'somber': 7523, 'some': 7524, 'somebody': 7525, 'somebodys': 7526, 'somehow': 7527, 'someone': 7528, 'someplace': 7529, 'something': 7530, 'sometime': 7531, 'sometimes': 7532, 'sometime”': 7533, 'somewhat': 7534, 'somewhere': 7535, 'some”': 7536, 'son': 7537, 'sonbhadra': 7538, 'song': 7539, 'songs': 7540, 'sonh': 7541, 'sonmanthru': 7542, 'sons': 7543, 'son”': 7544, 'soon': 7545, 'soor': 7546, 'soordas': 7547, 'soors': 7548, 'soorsaravali': 7549, 'soot': 7550, 'sopa': 7551, 'sopaan': 7552, 'sopan': 7553, 'sopana': 7554, 'sophistication': 7555, 'sorrow': 7556, 'sorry': 7557, 'sort': 7558, 'sorting': 7559, 'sorts': 7560, 'soul': 7561, 'soullike': 7562, 'sound': 7563, 'soundbites': 7564, 'sounding': 7565, 'sounds': 7566, 'soundscapes': 7567, 'soundscripts': 7568, 'soura': 7569, 'source': 7570, 'sources': 7571, 'sourcing': 7572, 'south': 7573, 'southern': 7574, 'sovereigns': 7575, 'soviet': 7576, 'so”': 7577, 'space': 7578, 'spacial': 7579, 'spaek': 7580, 'spain': 7581, 'spamming': 7582, 'span': 7583, 'spanish': 7584, 'spans': 7585, 'spatial': 7586, 'speak': 7587, 'speaker': 7588, 'speakernews': 7589, 'speaking': 7590, 'speaks': 7591, 'speared': 7592, 'special': 7593, 'specialities': 7594, 'specialness': 7595, 'species': 7596, 'specific': 7597, 'specimen': 7598, 'specimens': 7599, 'spectacular': 7600, 'spectrum': 7601, 'speech': 7602, 'speeches': 7603, 'speed': 7604, 'speeddriven': 7605, 'speeding': 7606, 'speeds': 7607, 'spells': 7608, 'spend': 7609, 'spending': 7610, 'spent': 7611, 'sphere': 7612, 'spiderman': 7613, 'spiked': 7614, 'spill': 7615, 'spin': 7616, 'spinning': 7617, 'spins': 7618, 'spirit': 7619, 'spirits': 7620, 'spiritual': 7621, 'spiritually': 7622, 'spiritwednesday': 7623, 'splashed': 7624, 'splendorous': 7625, 'split': 7626, 'spoil': 7627, 'spoiled': 7628, 'spoke': 7629, 'spoken': 7630, 'sponsors': 7631, 'sponsorship': 7632, 'spontaneous': 7633, 'sport': 7634, 'sports': 7635, 'spot': 7636, 'spotlight': 7637, 'spots': 7638, 'spotting': 7639, 'sprayfrisogjmgsfiu': 7640, 'spread': 7641, 'spreading': 7642, 'spreads': 7643, 'spring': 7644, 'springs': 7645, 'square': 7646, 'squeeze': 7647, 'sreni': 7648, 'sri': 7649, 'srilanka': 7650, 'st': 7651, 'stabhan': 7652, 'stability': 7653, 'stabilize': 7654, 'staeg': 7655, 'stage': 7656, 'stages': 7657, 'stairs': 7658, 'stake': 7659, 'stakeholders': 7660, 'stalemate': 7661, 'stamp': 7662, 'stand': 7663, 'standard': 7664, 'standardisation': 7665, 'standards': 7666, 'standing': 7667, 'stands': 7668, 'stanley': 7669, 'stanzas': 7670, 'star': 7671, 'starch': 7672, 'stare': 7673, 'staring': 7674, 'stars': 7675, 'start': 7676, 'started': 7677, 'starting': 7678, 'startled': 7679, 'startling': 7680, 'starts': 7681, 'startup': 7682, 'start”': 7683, 'starvation': 7684, 'starving': 7685, 'state': 7686, 'stated': 7687, 'statement': 7688, 'states': 7689, 'static': 7690, 'station': 7691, 'stationery': 7692, 'statistic': 7693, 'statistical': 7694, 'statistics': 7695, 'stator': 7696, 'statue': 7697, 'status': 7698, 'stay': 7699, 'stayed': 7700, 'staying': 7701, 'staying”': 7702, 'stays': 7703, 'steal': 7704, 'stealing': 7705, 'steel': 7706, 'steeped': 7707, 'step': 7708, 'stephanie': 7709, 'steps': 7710, 'stereotypes': 7711, 'steve': 7712, 'sticks': 7713, 'sticky': 7714, 'still': 7715, 'stimulants': 7716, 'stolen': 7717, 'stomach': 7718, 'stone': 7719, 'stonenavratna': 7720, 'stones': 7721, 'stood': 7722, 'stop': 7723, 'stopped': 7724, 'stopping': 7725, 'storage': 7726, 'store': 7727, 'stored': 7728, 'stories': 7729, 'storiesgillu': 7730, 'storiespoems': 7731, 'stories”': 7732, 'story': 7733, 'storyteller': 7734, 'storywriter': 7735, 'story”': 7736, 'stove': 7737, 'straight': 7738, 'strange': 7739, 'straps': 7740, 'strategy': 7741, 'straw': 7742, 'streams': 7743, 'street': 7744, 'streets': 7745, 'streetside': 7746, 'strength': 7747, 'stress': 7748, 'stressful': 7749, 'stretch': 7750, 'stretched': 7751, 'stretch”': 7752, 'strikes': 7753, 'string': 7754, 'strong': 7755, 'stronger': 7756, 'strongest': 7757, 'struck': 7758, 'structural': 7759, 'structure': 7760, 'structures': 7761, 'struggle': 7762, 'strut”': 7763, 'stuck': 7764, 'student': 7765, 'students': 7766, 'studied': 7767, 'studies': 7768, 'study': 7769, 'studying': 7770, 'stuff': 7771, 'stuffed': 7772, 'stugaurd': 7773, 'stunned': 7774, 'stunting': 7775, 'stunts': 7776, 'stupa': 7777, 'stupid': 7778, 'stuttgart': 7779, 'style': 7780, 'sub': 7781, 'subcontinent': 7782, 'subdivision': 7783, 'subhas': 7784, 'subhash': 7785, 'subject': 7786, 'subjective': 7787, 'subjects': 7788, 'submachine': 7789, 'submerged': 7790, 'submissive': 7791, 'subordinate': 7792, 'subsaharan': 7793, 'subsection': 7794, 'subsidies': 7795, 'substance': 7796, 'substantial': 7797, 'subtitle': 7798, 'subtle': 7799, 'subtle”': 7800, 'succeed': 7801, 'succeeds': 7802, 'success': 7803, 'successes': 7804, 'successful': 7805, 'such': 7806, 'sucrose': 7807, 'sudden': 7808, 'suddenly': 7809, 'sudurpacchimachal': 7810, 'suffered': 7811, 'suffering': 7812, 'sufi': 7813, 'sufrefrishogsmgassgufiu': 7814, 'sugar': 7815, 'sugars': 7816, 'suggesting': 7817, 'suggestion': 7818, 'suggests': 7819, 'suitcase': 7820, 'suited': 7821, 'suits': 7822, 'sukha': 7823, 'sukkha': 7824, 'sultanpur': 7825, 'sulthanpur': 7826, 'sumiti': 7827, 'summary': 7828, 'summer': 7829, 'summit': 7830, 'sum”': 7831, 'sun': 7832, 'sundarakand': 7833, 'sundarban': 7834, 'sundarkaand': 7835, 'sunday': 7836, 'sunderban': 7837, 'sunderkand': 7838, 'sundervan': 7839, 'sunni': 7840, 'suns': 7841, 'super': 7842, 'superb': 7843, 'superconducting': 7844, 'supersite': 7845, 'superstar': 7846, 'superstition': 7847, 'supplement': 7848, 'supply': 7849, 'support': 7850, 'supported': 7851, 'supporters': 7852, 'supporting': 7853, 'suppress': 7854, 'suppresses': 7855, 'supremacy': 7856, 'supreme': 7857, 'sur': 7858, 'sura': 7859, 'suradasa': 7860, 'surah': 7861, 'suras': 7862, 'surawali': 7863, 'surdaas': 7864, 'surdas': 7865, 'surdasin': 7866, 'sure': 7867, 'surety': 7868, 'surface': 7869, 'surfaces': 7870, 'surgeon': 7871, 'surpoetry': 7872, 'surprise': 7873, 'surprised': 7874, 'surprisingly': 7875, 'surrender': 7876, 'surrounded': 7877, 'surrounding': 7878, 'surroundings': 7879, 'surs': 7880, 'sursaravali': 7881, 'sursarawali': 7882, 'survive': 7883, 'susamskritham': 7884, 'susanskritam': 7885, 'susanskritum': 7886, 'suspect': 7887, 'suspend': 7888, 'suspension': 7889, 'suss': 7890, 'sustain': 7891, 'sut': 7892, 'suta': 7893, 'suthr': 7894, 'suthru': 7895, 'sutra': 7896, 'swadesh': 7897, 'swami': 7898, 'swan': 7899, 'swap': 7900, 'swar': 7901, 'swarm': 7902, 'swastikas': 7903, 'swat': 7904, 'swatantra': 7905, 'swatantrata': 7906, 'swayamvar': 7907, 'swayamwar': 7908, 'swaying': 7909, 'swear': 7910, 'sweden': 7911, 'sweet': 7912, 'sweetmeats': 7913, 'sweets': 7914, 'swim': 7915, 'swine': 7916, 'swipe': 7917, 'swirl': 7918, 'switch': 7919, 'switzerland': 7920, 'sword': 7921, 'symbiosis': 7922, 'symbol': 7923, 'symbolic': 7924, 'symbolize': 7925, 'symbols': 7926, 'symptoms': 7927, 'syria': 7928, 'system': 7929, 'systems': 7930, 't': 7931, 'table': 7932, 'tag': 7933, 'tahd': 7934, 'tahkre': 7935, 'tahrir': 7936, 'tail': 7937, 'tailoring': 7938, 'taiwan': 7939, 'taj': 7940, 'tajmahal': 7941, 'tajmahals': 7942, 'tak': 7943, 'take': 7944, 'taken': 7945, 'takeoff': 7946, 'takes': 7947, 'takhti': 7948, 'taking': 7949, 'takneki': 7950, 'takur': 7951, 'talent': 7952, 'talented': 7953, 'talents': 7954, 'tales': 7955, 'taliban': 7956, 'talk': 7957, 'talked': 7958, 'talking': 7959, 'talks': 7960, 'tall': 7961, 'tamil': 7962, 'tandoori': 7963, 'tandori': 7964, 'tanks': 7965, 'tantramayata': 7966, 'tanzania': 7967, 'tape': 7968, 'taping': 7969, 'tapper': 7970, 'tapping': 7971, 'taptilok': 7972, 'target': 7973, 'targets': 7974, 'tarpaulin': 7975, 'task': 7976, 'tasks': 7977, 'taste': 7978, 'tasted': 7979, 'tattoo': 7980, 'taught': 7981, 'tavern': 7982, 'tawa': 7983, 'tax': 7984, 'taxes': 7985, 'taxidriver': 7986, 'taxonomy': 7987, 'taxpayers': 7988, 'tc': 7989, 'td': 7990, 'tea': 7991, 'teach': 7992, 'teacher': 7993, 'teachers': 7994, 'teaching': 7995, 'teachings': 7996, 'team': 7997, 'teamog': 7998, 'tears': 7999, 'teas': 8000, 'tech': 8001, 'technical': 8002, 'technician': 8003, 'technique': 8004, 'technological': 8005, 'technologies': 8006, 'technologists': 8007, 'technology': 8008, 'ted': 8009, 'tedcom': 8010, 'tedsters': 8011, 'tedtalk': 8012, 'tedtalks': 8013, 'tedwalk': 8014, 'teehari': 8015, 'teenage': 8016, 'teenagers': 8017, 'teeth': 8018, 'teflon': 8019, 'tehalka': 8020, 'tehalkahindi': 8021, 'tehran': 8022, 'tejo': 8023, 'tel': 8024, 'telecommunication': 8025, 'telegraph': 8026, 'telephone': 8027, 'telephones': 8028, 'telescope': 8029, 'telescopes': 8030, 'televised': 8031, 'television': 8032, 'telivajon': 8033, 'tell': 8034, 'telling': 8035, 'tells': 8036, 'telugu': 8037, 'temperataure': 8038, 'temperature': 8039, 'temple': 8040, 'temples': 8041, 'temporary': 8042, 'ten': 8043, 'tenacy': 8044, 'tenants': 8045, 'tend': 8046, 'tends': 8047, 'tendulkar': 8048, 'tenga': 8049, 'tennessee': 8050, 'tens': 8051, 'tense': 8052, 'tensor': 8053, 'tenth': 8054, 'tenure': 8055, 'teodorín': 8056, 'tera': 8057, 'term': 8058, 'terminal': 8059, 'terminology': 8060, 'termite': 8061, 'termites': 8062, 'terms': 8063, 'terorism': 8064, 'terrible': 8065, 'terrified': 8066, 'terriorist': 8067, 'territories': 8068, 'terror': 8069, 'terrorism': 8070, 'terrorist': 8071, 'terrorists': 8072, 'terry': 8073, 'test': 8074, 'tested': 8075, 'testimony': 8076, 'testing': 8077, 'tests': 8078, 'tetrapak': 8079, 'texas': 8080, 'text': 8081, 'textmessaging': 8082, 'textphone': 8083, 'texts': 8084, 'th': 8085, 'thackeray': 8086, 'thackerays': 8087, 'thaithireya': 8088, 'thakers': 8089, 'thakurjee': 8090, 'thakurji': 8091, 'than': 8092, 'thane': 8093, 'thank': 8094, 'thankfully': 8095, 'thanks': 8096, 'thanksgiving': 8097, 'that': 8098, 'thathiriya': 8099, 'thats': 8100, 'that”': 8101, 'the': 8102, 'thee': 8103, 'theft': 8104, 'their': 8105, 'them': 8106, 'theme': 8107, 'themes': 8108, 'themselves': 8109, 'them”': 8110, 'then': 8111, 'theoretical': 8112, 'theory': 8113, 'thepala': 8114, 'thepla': 8115, 'thera': 8116, 'therapist': 8117, 'therapists': 8118, 'there': 8119, 'therefore': 8120, 'therein': 8121, 'theres': 8122, 'there”': 8123, 'these': 8124, 'theseus': 8125, 'they': 8126, 'theyll': 8127, 'theyre': 8128, 'theyve': 8129, 'thickspan': 8130, 'thieves': 8131, 'thing': 8132, 'things': 8133, 'think': 8134, 'thinkful': 8135, 'thinking': 8136, 'thinks': 8137, 'third': 8138, 'thirds': 8139, 'thirty': 8140, 'this': 8141, 'this”': 8142, 'thomas': 8143, 'thorough': 8144, 'those': 8145, 'though': 8146, 'thought': 8147, 'thoughts': 8148, 'thousand': 8149, 'thousands': 8150, 'thread': 8151, 'threat': 8152, 'threatened': 8153, 'threats': 8154, 'three': 8155, 'threedimensional': 8156, 'threshold': 8157, 'thrice': 8158, 'thrill': 8159, 'thrilling': 8160, 'thrive': 8161, 'through': 8162, 'throughout': 8163, 'throwing': 8164, 'thumb': 8165, 'thumbs': 8166, 'thunderstorm': 8167, 'thupka': 8168, 'thursday': 8169, 'thus': 8170, 'th”': 8171, 'ti': 8172, 'tibet': 8173, 'ticket': 8174, 'ticket”': 8175, 'tickle': 8176, 'tide': 8177, 'tiger': 8178, 'tihari': 8179, 'tihri': 8180, 'till': 8181, 'tim': 8182, 'time': 8183, 'timely': 8184, 'times': 8185, 'time”': 8186, 'timing': 8187, 'tin': 8188, 'tiny': 8189, 'tip': 8190, 'tips': 8191, 'tired': 8192, 'tires': 8193, 'tiring': 8194, 'tissue': 8195, 'title': 8196, 'tiwan': 8197, 'tmple': 8198, 'to': 8199, 'tobacco': 8200, 'today': 8201, 'todays': 8202, 'toddy': 8203, 'together': 8204, 'toholikahindi': 8205, 'told': 8206, 'tolerance': 8207, 'tolerate': 8208, 'toll': 8209, 'tomb': 8210, 'tombs': 8211, 'tomorrow': 8212, 'ton': 8213, 'tone': 8214, 'tongue': 8215, 'tony': 8216, 'too': 8217, 'took': 8218, 'tool': 8219, 'tools': 8220, 'toothbrush': 8221, 'tooti': 8222, 'top': 8223, 'topic': 8224, 'topicmahabhart': 8225, 'topography': 8226, 'tor': 8227, 'torches': 8228, 'tornadoes': 8229, 'toronto': 8230, 'torture': 8231, 'tortured': 8232, 'total': 8233, 'totally': 8234, 'touch': 8235, 'touchb': 8236, 'touched': 8237, 'tough': 8238, 'toughness': 8239, 'touk': 8240, 'tour': 8241, 'tourism': 8242, 'tourist': 8243, 'tournaments': 8244, 'tournment': 8245, 'tours': 8246, 'towards': 8247, 'towering': 8248, 'towers': 8249, 'town': 8250, 'toyota': 8251, 'toys': 8252, 'to”': 8253, 'tr': 8254, 'traces': 8255, 'track': 8256, 'tracking': 8257, 'trade': 8258, 'tradeoff': 8259, 'tradeoffs': 8260, 'trading': 8261, 'trading”': 8262, 'tradition': 8263, 'traditional': 8264, 'traditions': 8265, 'traffic': 8266, 'trafficked': 8267, 'tragedies': 8268, 'tragedy': 8269, 'tragic': 8270, 'train': 8271, 'trained': 8272, 'training': 8273, 'traits': 8274, 'trance': 8275, 'transaction': 8276, 'transalation': 8277, 'transalator': 8278, 'transcends': 8279, 'transform': 8280, 'transformation': 8281, 'transformationchange': 8282, 'transformations': 8283, 'transformative': 8284, 'transformed': 8285, 'transforming': 8286, 'transition': 8287, 'translatation': 8288, 'translate': 8289, 'translated': 8290, 'translation': 8291, 'translations': 8292, 'translator': 8293, 'translitation': 8294, 'transliterater': 8295, 'transliteration': 8296, 'transliterator': 8297, 'translitration': 8298, 'transparency': 8299, 'transplant': 8300, 'transplanted': 8301, 'transport': 8302, 'trap': 8303, 'trapped': 8304, 'trash': 8305, 'trasilation': 8306, 'travel': 8307, 'traveled': 8308, 'traveler': 8309, 'travelers': 8310, 'traveling': 8311, 'travelling': 8312, 'travels': 8313, 'travelsunday': 8314, 'tread': 8315, 'treasure': 8316, 'treasury': 8317, 'treat': 8318, 'treated': 8319, 'treating': 8320, 'treatment': 8321, 'treatments': 8322, 'treaty': 8323, 'trebled': 8324, 'tree': 8325, 'trees': 8326, 'trial': 8327, 'trials': 8328, 'triangle': 8329, 'triangles': 8330, 'triangulates': 8331, 'tribal': 8332, 'tribenisangam': 8333, 'tribhagima': 8334, 'tribhangima': 8335, 'tribhuvan': 8336, 'tributaries': 8337, 'trick': 8338, 'tricks': 8339, 'tried': 8340, 'trigger': 8341, 'trinbhagima': 8342, 'trinidad': 8343, 'trinidots': 8344, 'trip': 8345, 'triumph': 8346, 'trivenisangam': 8347, 'trivial': 8348, 'trnibhagima': 8349, 'troop': 8350, 'troops': 8351, 'trophy': 8352, 'tropics': 8353, 'trouble': 8354, 'troubled': 8355, 'truck': 8356, 'true': 8357, 'truism': 8358, 'truly': 8359, 'trunk': 8360, 'trusslike': 8361, 'trust': 8362, 'trusted': 8363, 'trusting': 8364, 'truth': 8365, 'truths': 8366, 'trutinya': 8367, 'try': 8368, 'trying': 8369, 'tryst': 8370, 'tt': 8371, 'tube': 8372, 'tuberculosis': 8373, 'tue': 8374, 'tuesday': 8375, 'tulasidas': 8376, 'tulsi': 8377, 'tulsidas': 8378, 'tulsidass': 8379, 'tumor': 8380, 'tun': 8381, 'tungtap': 8382, 'tungtup': 8383, 'tunisian': 8384, 'tupeka': 8385, 'turin': 8386, 'turkey': 8387, 'turkish': 8388, 'turks': 8389, 'turn': 8390, 'turned': 8391, 'turning': 8392, 'turns': 8393, 'tuslidaas': 8394, 'tutoring': 8395, 'tv': 8396, 'twain': 8397, 'tweet': 8398, 'tweets': 8399, 'twelve': 8400, 'twenty': 8401, 'twice': 8402, 'twilight': 8403, 'twirl': 8404, 'twist': 8405, 'twitter': 8406, 'twittering': 8407, 'two': 8408, 'twostoreyed': 8409, 'tying': 8410, 'typad': 8411, 'type': 8412, 'typeaid': 8413, 'typed': 8414, 'typepad': 8415, 'types': 8416, 'typesetter': 8417, 'typical': 8418, 'typing': 8419, 'typist': 8420, 'tyre': 8421, 'u': 8422, 'uaall': 8423, 'ubiquitous': 8424, 'uc': 8425, 'udaipur': 8426, 'uday': 8427, 'udaypur': 8428, 'udhar': 8429, 'udhyadesh': 8430, 'udyam': 8431, 'uganda': 8432, 'ugly': 8433, 'uh': 8434, 'ujaala': 8435, 'ujala': 8436, 'ujalain': 8437, 'ujjain': 8438, 'uk': 8439, 'ultanpur': 8440, 'ultimate': 8441, 'ultimately': 8442, 'ultimatum': 8443, 'ultraviolet': 8444, 'ultyahi': 8445, 'um': 8446, 'umar': 8447, 'umbrella': 8448, 'umbrellas': 8449, 'umpire': 8450, 'umpires': 8451, 'un': 8452, 'unabated': 8453, 'unanimity': 8454, 'unbelievable': 8455, 'unbelievably': 8456, 'uncertain': 8457, 'unclassified': 8458, 'uncle': 8459, 'unclear': 8460, 'uncommon': 8461, 'unconsciously': 8462, 'uncovered': 8463, 'undaunted': 8464, 'under': 8465, 'underestimate': 8466, 'underestimating': 8467, 'underground': 8468, 'undermining': 8469, 'underneath': 8470, 'underpinned': 8471, 'underserved': 8472, 'understand': 8473, 'understanding': 8474, 'understated': 8475, 'understood': 8476, 'undiagnosed': 8477, 'undoubtedly': 8478, 'undp': 8479, 'unemployed': 8480, 'unemployment': 8481, 'unep': 8482, 'unexpectedness': 8483, 'unexploded': 8484, 'unfortunately': 8485, 'uni': 8486, 'unicod': 8487, 'unicode': 8488, 'unicoded': 8489, 'unicodith': 8490, 'unification': 8491, 'unified': 8492, 'unimaginable': 8493, 'unintended': 8494, 'uninvited': 8495, 'union': 8496, 'unionization': 8497, 'unionseekcomdiooexe': 8498, 'unionterritory': 8499, 'unique': 8500, 'uniqueness': 8501, 'unit': 8502, 'unite': 8503, 'united': 8504, 'unites': 8505, 'units': 8506, 'unity': 8507, 'univartha': 8508, 'universal': 8509, 'universe': 8510, 'universities': 8511, 'university': 8512, 'unknown': 8513, 'unlearnt': 8514, 'unleashes': 8515, 'unlike': 8516, 'unlikely': 8517, 'unlock': 8518, 'unmapped': 8519, 'unnao': 8520, 'unnav': 8521, 'unnayan': 8522, 'unnecessary': 8523, 'unorganized': 8524, 'unprecedented': 8525, 'unproven': 8526, 'unrealistic': 8527, 'unrest': 8528, 'unstable': 8529, 'untangle': 8530, 'until': 8531, 'untrusted': 8532, 'unusual': 8533, 'unwanted': 8534, 'unwraps': 8535, 'up': 8536, 'upalaanh': 8537, 'upanishad': 8538, 'upanishads': 8539, 'upenn': 8540, 'upload': 8541, 'uploading': 8542, 'upon': 8543, 'uppalbidhaya': 8544, 'upper': 8545, 'upright': 8546, 'uprising': 8547, 'upset': 8548, 'upswing': 8549, 'up”': 8550, 'urban': 8551, 'urge': 8552, 'url': 8553, 'urn': 8554, 'us': 8555, 'usage': 8556, 'usages': 8557, 'use': 8558, 'used': 8559, 'useful': 8560, 'usefull': 8561, 'useful”': 8562, 'user': 8563, 'users': 8564, 'uses': 8565, 'usgs': 8566, 'using': 8567, 'usuages': 8568, 'usual': 8569, 'usually': 8570, 'utah': 8571, 'utharakant': 8572, 'utharpradesh': 8573, 'utility': 8574, 'uttar': 8575, 'uttara': 8576, 'uttarakaand': 8577, 'uttarkand': 8578, 'uttarpradesh': 8579, 'utter': 8580, 'uttra': 8581, 'uv': 8582, 'uzrasoura': 8583, 'v': 8584, 'vaaman': 8585, 'vacation': 8586, 'vaccinated”': 8587, 'vada': 8588, 'vagina': 8589, 'vahma': 8590, 'vaidik': 8591, 'vaitarani': 8592, 'vaivart': 8593, 'vaivarta': 8594, 'vaivu': 8595, 'valley': 8596, 'valmiki': 8597, 'valuable': 8598, 'value': 8599, 'vaman': 8600, 'van': 8601, 'vani': 8602, 'vanished': 8603, 'vapor': 8604, 'varah': 8605, 'varan': 8606, 'varanasi': 8607, 'variable': 8608, 'varies': 8609, 'variety': 8610, 'various': 8611, 'varma': 8612, 'vastness': 8613, 'vastu': 8614, 'vastukala': 8615, 'vats': 8616, 'vayu': 8617, 'veba': 8618, 'vector': 8619, 'ved': 8620, 'veda': 8621, 'vedas': 8622, 'vedavidyacom': 8623, 'vedavidyadotcom': 8624, 'vedha': 8625, 'vedhas': 8626, 'vedic': 8627, 'vediceducationcom': 8628, 'vedvidyacom': 8629, 'vedvidyadotcom': 8630, 'veeru': 8631, 'vegetable': 8632, 'vegetarian': 8633, 'vegetarianism': 8634, 'vegetation': 8635, 'vehicle': 8636, 'vehicles': 8637, 'veil': 8638, 'velcro': 8639, 'venus': 8640, 'verma': 8641, 'vermas': 8642, 'vermont': 8643, 'verse': 8644, 'versebyverse': 8645, 'verses': 8646, 'version': 8647, 'versions': 8648, 'versus': 8649, 'vertical': 8650, 'very': 8651, 'vest': 8652, 'vhagalpur': 8653, 'vi': 8654, 'via': 8655, 'vibhajan': 8656, 'vibheeshan': 8657, 'vibhishan': 8658, 'vibration': 8659, 'vibrations': 8660, 'vice': 8661, 'victim': 8662, 'victimizing': 8663, 'victims': 8664, 'victionary': 8665, 'victoria': 8666, 'victory': 8667, 'video': 8668, 'videos': 8669, 'viedo': 8670, 'vietnam': 8671, 'view': 8672, 'views': 8673, 'vigorously': 8674, 'village': 8675, 'villages': 8676, 'villages”': 8677, 'vindaloo': 8678, 'vindalu': 8679, 'vine': 8680, 'vinoba': 8681, 'vinobha': 8682, 'vintage': 8683, 'vinyl': 8684, 'violate': 8685, 'violence': 8686, 'violent': 8687, 'virally': 8688, 'virat': 8689, 'virats': 8690, 'virginia': 8691, 'virginity': 8692, 'virgins': 8693, 'virtual': 8694, 'virtually': 8695, 'virtuous': 8696, 'viru': 8697, 'virus': 8698, 'viruses': 8699, 'visavis': 8700, 'vishist': 8701, 'vishnu': 8702, 'vishva': 8703, 'vishvabharti': 8704, 'vishwa': 8705, 'vishwahindi': 8706, 'visibility': 8707, 'vision': 8708, 'visionary': 8709, 'visions': 8710, 'visit': 8711, 'visited': 8712, 'visiting': 8713, 'visual': 8714, 'visualize': 8715, 'visually': 8716, 'vital': 8717, 'vitamin': 8718, 'vitamins': 8719, 'vivek': 8720, 'viveka': 8721, 'vivekanand': 8722, 'vivekananda': 8723, 'vivekanandas': 8724, 'vividh': 8725, 'vkdb': 8726, 'vocabulary': 8727, 'vocal': 8728, 'vogue': 8729, 'voice': 8730, 'voiceless': 8731, 'voices': 8732, 'volcano': 8733, 'voltage': 8734, 'voltaic': 8735, 'volume': 8736, 'voluntary': 8737, 'volunteer': 8738, 'volunteers': 8739, 'volvo': 8740, 'voting': 8741, 'vow': 8742, 'vowel': 8743, 'vowels': 8744, 'vrundaavan': 8745, 'vuitton': 8746, 'vulnerability': 8747, 'vulnerably': 8748, 'vyahalo': 8749, 'vyanjan': 8750, 'w': 8751, 'waaraah': 8752, 'wada': 8753, 'wag': 8754, 'wait': 8755, 'waiting': 8756, 'wake': 8757, 'walk': 8758, 'walked': 8759, 'walking': 8760, 'walks': 8761, 'wall': 8762, 'wallet': 8763, 'walls': 8764, 'walters': 8765, 'waltz': 8766, 'want': 8767, 'wanted': 8768, 'war': 8769, 'ward': 8770, 'warm': 8771, 'warming': 8772, 'warning': 8773, 'warrior': 8774, 'warrule': 8775, 'wars': 8776, 'wartime': 8777, 'was': 8778, 'wash': 8779, 'washington': 8780, 'washinton': 8781, 'wasnt': 8782, 'wasted': 8783, 'wasting': 8784, 'watch': 8785, 'watchcomputer': 8786, 'watched': 8787, 'watching': 8788, 'water': 8789, 'watered': 8790, 'waterpump': 8791, 'watson': 8792, 'watts': 8793, 'wave': 8794, 'waved': 8795, 'waves': 8796, 'way': 8797, 'wayne': 8798, 'ways': 8799, 'wayside': 8800, 'way”': 8801, 'we': 8802, 'weak': 8803, 'weakened': 8804, 'weakest': 8805, 'weaklings': 8806, 'weapon': 8807, 'wear': 8808, 'wearing': 8809, 'wears': 8810, 'weather': 8811, 'web': 8812, 'webcommunication': 8813, 'webpage': 8814, 'webpages': 8815, 'webs': 8816, 'website': 8817, 'websiteblog': 8818, 'websites': 8819, 'webworld': 8820, 'wed': 8821, 'wedduniya': 8822, 'wednesday': 8823, 'week': 8824, 'weekly': 8825, 'weeks': 8826, 'weigh': 8827, 'weighs': 8828, 'weight': 8829, 'weird': 8830, 'wekipedia': 8831, 'welcome': 8832, 'welcomed': 8833, 'well': 8834, 'wellestablished': 8835, 'wellintentioned': 8836, 'wellrested': 8837, 'wells': 8838, 'wellwisher': 8839, 'went': 8840, 'were': 8841, 'werent': 8842, 'west': 8843, 'western': 8844, 'wet”': 8845, 'weve': 8846, 'what': 8847, 'whatever': 8848, 'whats': 8849, 'whatsoever': 8850, 'wheat': 8851, 'wheel': 8852, 'when': 8853, 'where': 8854, 'whereas': 8855, 'wheres': 8856, 'wherever': 8857, 'whether': 8858, 'which': 8859, 'while': 8860, 'whimsy': 8861, 'whipping': 8862, 'whistling': 8863, 'white': 8864, 'who': 8865, 'whod': 8866, 'whodunnit': 8867, 'whole': 8868, 'wholehearted': 8869, 'whos': 8870, 'whose': 8871, 'whove': 8872, 'why': 8873, 'wicket': 8874, 'wictionary': 8875, 'wide': 8876, 'wielding': 8877, 'wields': 8878, 'wife': 8879, 'wifi': 8880, 'wiki': 8881, 'wikidictionary': 8882, 'wikimap': 8883, 'wikimapia': 8884, 'wikipedia': 8885, 'wikipediea': 8886, 'wikipiedea': 8887, 'wikiresource': 8888, 'wikisource': 8889, 'wikistraight': 8890, 'wiktionary': 8891, 'wild': 8892, 'wildly': 8893, 'wildscape': 8894, 'will': 8895, 'william': 8896, 'willing': 8897, 'willingness': 8898, 'will”': 8899, 'win': 8900, 'wind': 8901, 'winding': 8902, 'windmill': 8903, 'window': 8904, 'windows': 8905, 'wing': 8906, 'wings': 8907, 'winner': 8908, 'winning': 8909, 'wins': 8910, 'winter': 8911, 'win”': 8912, 'wire': 8913, 'wireless': 8914, 'wires': 8915, 'wisconsin': 8916, 'wisdom': 8917, 'wise': 8918, 'wish': 8919, 'with': 8920, 'withdrawal': 8921, 'withholding': 8922, 'within': 8923, 'without': 8924, 'withtheteacher': 8925, 'witness': 8926, 'wiz': 8927, 'wj': 8928, 'wk': 8929, 'wmap': 8930, 'woke': 8931, 'woman': 8932, 'womanhood': 8933, 'womans': 8934, 'womb': 8935, 'wombats': 8936, 'women': 8937, 'womens': 8938, 'won': 8939, 'wonder': 8940, 'wondered': 8941, 'wonderful': 8942, 'wondering': 8943, 'wondrous': 8944, 'wont': 8945, 'wooden': 8946, 'wool': 8947, 'wooo': 8948, 'word': 8949, 'wordily': 8950, 'wordings': 8951, 'wordkaam': 8952, 'wordless': 8953, 'wordnews': 8954, 'wordpress': 8955, 'words': 8956, 'wore': 8957, 'work': 8958, 'worked': 8959, 'worker': 8960, 'workers': 8961, 'working': 8962, 'worklife': 8963, 'workplace': 8964, 'works': 8965, 'workshop': 8966, 'workshops': 8967, 'works”': 8968, 'work”': 8969, 'world': 8970, 'worldbooks': 8971, 'worldhindi': 8972, 'worlds': 8973, 'worldwide': 8974, 'world”': 8975, 'worried': 8976, 'worry': 8977, 'worse': 8978, 'worsen': 8979, 'worship': 8980, 'worshiped': 8981, 'worth': 8982, 'worthiness': 8983, 'would': 8984, 'wouldnt': 8985, 'woven': 8986, 'wow': 8987, 'wowwww': 8988, 'wrap': 8989, 'wrapped': 8990, 'wretched': 8991, 'wring': 8992, 'writ': 8993, 'write': 8994, 'writer': 8995, 'writers': 8996, 'writing': 8997, 'writings': 8998, 'writs': 8999, 'written': 9000, 'wrong': 9001, 'wrong”': 9002, 'wrote': 9003, 'wshington': 9004, 'wwll': 9005, 'wyoming': 9006, 'xerox': 9007, 'xml': 9008, 'xrays': 9009, 'yadnya': 9010, 'yagna': 9011, 'yagnik': 9012, 'yagnya': 9013, 'yagya': 9014, 'yahoo': 9015, 'yajnik': 9016, 'yakhani': 9017, 'yakhni': 9018, 'yamini': 9019, 'yankee': 9020, 'yash': 9021, 'yashaarat': 9022, 'yashbhaarat': 9023, 'yashbharat': 9024, 'yatra': 9025, 'yatrasunday': 9026, 'yaunasan': 9027, 'yay': 9028, 'yayati': 9029, 'yb': 9030, 'ye': 9031, 'yeah': 9032, 'year': 9033, 'yearbook': 9034, 'yearold': 9035, 'yearolds': 9036, 'years': 9037, 'yearsold': 9038, 'year”': 9039, 'yekya': 9040, 'yes': 9041, 'yesterday': 9042, 'yet': 9043, 'yeta': 9044, 'ylang': 9045, 'yog': 9046, 'yogmahatma': 9047, 'yokohama': 9048, 'york': 9049, 'you': 9050, 'youd': 9051, 'youll': 9052, 'younasan': 9053, 'young': 9054, 'younger': 9055, 'youngness': 9056, 'your': 9057, 'youre': 9058, 'yours': 9059, 'yourself': 9060, 'yourselves': 9061, 'youth': 9062, 'youtube': 9063, 'youve': 9064, 'you”': 9065, 'yr': 9066, 'yudhhakand': 9067, 'yug': 9068, 'yuga': 9069, 'yuta': 9070, 'yuyu': 9071, 'zafar': 9072, 'zamin': 9073, 'zankar': 9074, 'zapalu': 9075, 'zarkan': 9076, 'zarkhand': 9077, 'zealots': 9078, 'zealwednesday': 9079, 'zee': 9080, 'zero': 9081, 'zip': 9082, 'zoology': 9083, 'zoom': 9084, 'zooming': 9085, 'zosh': 9086, 'zouche': 9087, 'µ': 9088, 'śaunakīya': 9089, 'μ': 9090, 'अलग': 9091, 'आचार': 9092, 'ऋ': 9093, 'कर': 9094, 'के': 9095, 'को': 9096, 'खुला': 9097, 'गणना': 9098, 'तक': 9099, 'दरअसल': 9100, 'निकाला': 9101, 'परिवर्तन': 9102, 'पाएँ': 9103, 'पाहुचने': 9104, 'पोजीशन': 9105, 'रख': 9106, 'रहे': 9107, 'लिए': 9108, 'वो': 9109, 'शिशु': 9110, 'श्वान': 9111, 'संहिता': 9112, 'सीखने': 9113, 'सुनते': 9114, 'है': 9115, 'हैं': 9116, 'होते': 9117, '“': 9118, '“a': 9119, '“absolutely': 9120, '“ah”': 9121, '“american': 9122, '“an': 9123, '“and': 9124, '“another': 9125, '“are': 9126, '“as': 9127, '“break': 9128, '“but”': 9129, '“can': 9130, '“come': 9131, '“decisive': 9132, '“dig': 9133, '“dont': 9134, '“education': 9135, '“ee”': 9136, '“egypt': 9137, '“elu': 9138, '“empathy': 9139, '“enough': 9140, '“e”': 9141, '“fallor': 9142, '“for': 9143, '“four': 9144, '“from': 9145, '“get': 9146, '“go': 9147, '“god': 9148, '“great”': 9149, '“have': 9150, '“heres': 9151, '“hes': 9152, '“hey': 9153, '“how': 9154, '“huh”': 9155, '“i': 9156, '“if': 9157, '“im': 9158, '“is': 9159, '“it': 9160, '“ive': 9161, '“just': 9162, '“leonardo': 9163, '“leonardo”': 9164, '“lets': 9165, '“like': 9166, '“listen': 9167, '“look': 9168, '“ma': 9169, '“man': 9170, '“marathon”': 9171, '“meen”': 9172, '“my': 9173, '“no': 9174, '“nonsense': 9175, '“not': 9176, '“now': 9177, '“no”': 9178, '“nyan': 9179, '“oh': 9180, '“oh”': 9181, '“ok': 9182, '“okay”': 9183, '“open': 9184, '“our': 9185, '“papi': 9186, '“playing”': 9187, '“please': 9188, '“popit”': 9189, '“rags': 9190, '“sex': 9191, '“shake': 9192, '“shhh”': 9193, '“stop”': 9194, '“thank': 9195, '“thats': 9196, '“the': 9197, '“us': 9198, '“we': 9199, '“well': 9200, '“were': 9201, '“what': 9202, '“whats': 9203, '“what”': 9204, '“which': 9205, '“whos': 9206, '“why': 9207, '“why”': 9208, '“wopp”': 9209, '“wow': 9210, '“yeah': 9211, '“yeah”': 9212, '“yes': 9213, '“yes”': 9214, '“you': 9215, '“youre': 9216, '“”': 9217, '“”appam“”': 9218, '“”baalkaand“”': 9219, '“”chini': 9220, '“”head': 9221, '“”idli“”': 9222, '“”jaisalmer“”': 9223, '“”keral“”': 9224, '“”main': 9225, '“”masoor': 9226, '“”premchand“”': 9227, '“”prime': 9228, '“”saints': 9229, '“”sambhar“”': 9230, '”': 9231, '♫': 9232}\n"
     ]
    }
   ],
   "source": [
    "print(input_token_index)"
   ]
  },
  {
   "cell_type": "code",
   "execution_count": 24,
   "metadata": {
    "colab": {
     "base_uri": "https://localhost:8080/"
    },
    "id": "xGhjS89yy15M",
    "outputId": "3772cf69-187a-4e20-a306-85d113d177a5"
   },
   "outputs": [
    {
     "data": {
      "text/plain": [
       "((16574,), (1842,))"
      ]
     },
     "execution_count": 24,
     "metadata": {},
     "output_type": "execute_result"
    }
   ],
   "source": [
    "from sklearn.model_selection import train_test_split\n",
    "X,y = data.english_sentence, data.hindi_sentence\n",
    "X_train,X_test,y_train,y_test = train_test_split(X,y,test_size=0.1,random_state=2)\n",
    "X_train.shape,X_test.shape"
   ]
  },
  {
   "cell_type": "code",
   "execution_count": 25,
   "metadata": {
    "id": "XgUs3sKRz-1Q"
   },
   "outputs": [],
   "source": [
    "# def generate_batch(X,y,batch_size):\n",
    "#   while True:\n",
    "#     for j in range(0,len(X),batch_size):\n",
    "#       encoder_input_data = np.zeros((batch_size,max_encoder_seq_length),\n",
    "#                                     dtype=\"float32\")\n",
    "#       decoder_input_data = np.zeros((batch_size,max_decoder_seq_length),\n",
    "#                                     dtype=\"float32\")\n",
    "#       decoder_target_data = np.zeros((batch_size,max_decoder_seq_length,num_decoder_tokens),\n",
    "#                                      dtype=\"float32\")\n",
    "\n",
    "#       for i,(input_text,target_text) in enumerate(zip(X[j:j+batch_size],y[j:j+batch_size])):\n",
    "#         for t, word in enumerate(input_text.split()):\n",
    "#           encoder_input_data[i,t] = input_token_index[word]\n",
    "\n",
    "#         for t,word in enumerate(target_text.split()):\n",
    "#           if t<len(target_text.split())-1:\n",
    "#             decoder_input_data[i,t] = target_token_index[word]\n",
    "#           if t>0:\n",
    "#             decoder_target_data[i,t-1,target_token_index[word]] = 1.\n",
    "\n",
    "#         yield([encoder_input_data,decoder_input_data],decoder_target_data)\n",
    "\n",
    "    \n",
    "    \n",
    "# def generate_batch(X, y, batch_size):\n",
    "#     while True:\n",
    "#         for j in range(0, len(X), batch_size):\n",
    "#             encoder_input_data = np.zeros((batch_size, max_encoder_seq_length), dtype=\"float32\")\n",
    "#             decoder_input_data = np.zeros((batch_size, max_decoder_seq_length), dtype=\"float32\")\n",
    "#             decoder_target_data = np.zeros((batch_size, max_decoder_seq_length, num_decoder_tokens), dtype=\"float32\")\n",
    "\n",
    "#             for i, (input_text, target_text) in enumerate(zip(X[j:j+batch_size], y[j:j+batch_size])):\n",
    "#                 for t, word in enumerate(input_text.split()):\n",
    "#                     if t < max_encoder_seq_length and word in input_token_index:\n",
    "#                         encoder_input_data[i, t] = input_token_index[word]\n",
    "\n",
    "#                 for t, word in enumerate(target_text.split()):\n",
    "#                     if t < max_decoder_seq_length and word in target_token_index:\n",
    "#                         decoder_input_data[i, t] = target_token_index[word]\n",
    "#                     if t > 0 and word in target_token_index:\n",
    "#                         decoder_target_data[i, t-1, target_token_index[word]] = 1.\n",
    "\n",
    "#             yield ([encoder_input_data, decoder_input_data], decoder_target_data)\n",
    "\n",
    "\n",
    "def generate_batch(X, y, batch_size):\n",
    "    while True:\n",
    "        for j in range(0, len(X), batch_size):\n",
    "            encoder_input_data = np.zeros((batch_size, max_encoder_seq_length), dtype=\"float32\")\n",
    "            decoder_input_data = np.zeros((batch_size, max_decoder_seq_length), dtype=\"float32\")\n",
    "            decoder_target_data = np.zeros((batch_size, max_decoder_seq_length, num_decoder_tokens), dtype=\"float32\")\n",
    "\n",
    "            for i, (input_text, target_text) in enumerate(zip(X[j:j+batch_size], y[j:j+batch_size])):\n",
    "                for t, word in enumerate(input_text.split()):\n",
    "                    if t < max_encoder_seq_length and word in input_token_index:\n",
    "                        encoder_input_data[i, t] = input_token_index[word]\n",
    "\n",
    "                for t, word in enumerate(target_text.split()):\n",
    "                    if t < max_decoder_seq_length and word in target_token_index:\n",
    "                        decoder_input_data[i, t] = target_token_index[word]\n",
    "                    if t > 0 and word in target_token_index:\n",
    "                        decoder_target_data[i, t-1, target_token_index[word]] = 1.\n",
    "\n",
    "            yield ([encoder_input_data, decoder_input_data], decoder_target_data)\n"
   ]
  },
  {
   "cell_type": "code",
   "execution_count": 38,
   "metadata": {
    "id": "smZoNhf4qy12"
   },
   "outputs": [],
   "source": [
    "latent_dim = 150"
   ]
  },
  {
   "cell_type": "code",
   "execution_count": 39,
   "metadata": {
    "id": "bz4PTQXSveuw"
   },
   "outputs": [],
   "source": [
    "# Encoder\n",
    "encoder_inputs = Input(shape = (None,))\n",
    "enc_emb = Embedding(num_encoder_tokens, latent_dim, mask_zero=True)(encoder_inputs)\n",
    "encoder_lstm = LSTM(latent_dim,return_state = True)\n",
    "encoder_outputs,state_h,state_c = encoder_lstm(enc_emb)\n",
    "encoder_states = [state_h,state_c]\n",
    "\n",
    "# Decoder\n",
    "decoder_inputs = Input(shape=(None,))\n",
    "dec_emb_layer = Embedding(num_decoder_tokens,latent_dim,mask_zero = True)\n",
    "dec_emb = dec_emb_layer(decoder_inputs)\n",
    "\n",
    "decoder_lstm = LSTM(latent_dim,return_sequences=True,return_state=True)\n",
    "decoder_outputs,_,_ = decoder_lstm(dec_emb,initial_state=encoder_states)\n",
    "decoder_dense = Dense(num_decoder_tokens,activation=\"softmax\")\n",
    "decoder_outputs = decoder_dense(decoder_outputs)"
   ]
  },
  {
   "cell_type": "code",
   "execution_count": 40,
   "metadata": {
    "colab": {
     "base_uri": "https://localhost:8080/"
    },
    "id": "1wtc5wkTxWsG",
    "outputId": "2daf76e6-ec8e-4f57-8c0b-8f0a351a01b2"
   },
   "outputs": [
    {
     "name": "stdout",
     "output_type": "stream",
     "text": [
      "Model: \"model_3\"\n",
      "__________________________________________________________________________________________________\n",
      " Layer (type)                Output Shape                 Param #   Connected to                  \n",
      "==================================================================================================\n",
      " input_5 (InputLayer)        [(None, None)]               0         []                            \n",
      "                                                                                                  \n",
      " input_6 (InputLayer)        [(None, None)]               0         []                            \n",
      "                                                                                                  \n",
      " embedding_2 (Embedding)     (None, None, 150)            1384800   ['input_5[0][0]']             \n",
      "                                                                                                  \n",
      " embedding_3 (Embedding)     (None, None, 150)            1286400   ['input_6[0][0]']             \n",
      "                                                                                                  \n",
      " lstm_2 (LSTM)               [(None, 150),                180600    ['embedding_2[0][0]']         \n",
      "                              (None, 150),                                                        \n",
      "                              (None, 150)]                                                        \n",
      "                                                                                                  \n",
      " lstm_3 (LSTM)               [(None, None, 150),          180600    ['embedding_3[0][0]',         \n",
      "                              (None, 150),                           'lstm_2[0][1]',              \n",
      "                              (None, 150)]                           'lstm_2[0][2]']              \n",
      "                                                                                                  \n",
      " dense_1 (Dense)             (None, None, 8576)           1294976   ['lstm_3[0][0]']              \n",
      "                                                                                                  \n",
      "==================================================================================================\n",
      "Total params: 4327376 (16.51 MB)\n",
      "Trainable params: 4327376 (16.51 MB)\n",
      "Non-trainable params: 0 (0.00 Byte)\n",
      "__________________________________________________________________________________________________\n"
     ]
    }
   ],
   "source": [
    "model = Model([encoder_inputs,decoder_inputs],decoder_outputs)\n",
    "model.compile(optimizer=\"adam\",loss=\"categorical_crossentropy\",metrics=[\"acc\"])\n",
    "model.summary()"
   ]
  },
  {
   "cell_type": "code",
   "execution_count": 41,
   "metadata": {
    "colab": {
     "base_uri": "https://localhost:8080/",
     "height": 976
    },
    "id": "ZO4thbTHzAW0",
    "outputId": "c3e98c9a-aac5-43ca-bda9-fc72688572f1"
   },
   "outputs": [
    {
     "name": "stdout",
     "output_type": "stream",
     "text": [
      "Epoch 1/20\n",
      "258/258 [==============================] - 74s 257ms/step - loss: 5.3076 - acc: 0.0343 - val_loss: 5.1598 - val_acc: 0.0408\n",
      "Epoch 2/20\n",
      "258/258 [==============================] - 61s 235ms/step - loss: 5.0181 - acc: 0.0385 - val_loss: 5.0442 - val_acc: 0.0442\n",
      "Epoch 3/20\n",
      "258/258 [==============================] - 51s 195ms/step - loss: 4.7372 - acc: 0.0410 - val_loss: 5.0397 - val_acc: 0.0448\n",
      "Epoch 4/20\n",
      "258/258 [==============================] - 60s 235ms/step - loss: 4.6275 - acc: 0.0423 - val_loss: 5.0259 - val_acc: 0.0492\n",
      "Epoch 5/20\n",
      "258/258 [==============================] - 51s 199ms/step - loss: 4.5674 - acc: 0.0468 - val_loss: 5.0062 - val_acc: 0.0499\n",
      "Epoch 6/20\n",
      "258/258 [==============================] - 60s 230ms/step - loss: 4.4757 - acc: 0.0482 - val_loss: 5.0296 - val_acc: 0.0549\n",
      "Epoch 7/20\n",
      "258/258 [==============================] - 51s 198ms/step - loss: 4.4215 - acc: 0.0513 - val_loss: 4.9856 - val_acc: 0.0556\n",
      "Epoch 8/20\n",
      "258/258 [==============================] - 60s 232ms/step - loss: 4.3372 - acc: 0.0528 - val_loss: 4.9962 - val_acc: 0.0562\n",
      "Epoch 9/20\n",
      "258/258 [==============================] - 52s 199ms/step - loss: 4.2765 - acc: 0.0574 - val_loss: 4.9888 - val_acc: 0.0598\n",
      "Epoch 10/20\n",
      "258/258 [==============================] - 56s 216ms/step - loss: 4.2011 - acc: 0.0609 - val_loss: 5.0153 - val_acc: 0.0610\n",
      "Epoch 11/20\n",
      "258/258 [==============================] - 45s 176ms/step - loss: 4.1400 - acc: 0.0670 - val_loss: 4.9474 - val_acc: 0.0634\n",
      "Epoch 12/20\n",
      "258/258 [==============================] - 44s 170ms/step - loss: 4.0680 - acc: 0.0684 - val_loss: 4.9821 - val_acc: 0.0695\n",
      "Epoch 13/20\n",
      "258/258 [==============================] - 36s 142ms/step - loss: 4.0110 - acc: 0.0753 - val_loss: 4.9390 - val_acc: 0.0701\n",
      "Epoch 14/20\n",
      "258/258 [==============================] - 45s 176ms/step - loss: 3.9405 - acc: 0.0754 - val_loss: 4.9936 - val_acc: 0.0710\n",
      "Epoch 15/20\n",
      "258/258 [==============================] - 47s 183ms/step - loss: 3.8820 - acc: 0.0838 - val_loss: 4.9263 - val_acc: 0.0739\n",
      "Epoch 16/20\n",
      "258/258 [==============================] - 57s 221ms/step - loss: 3.8200 - acc: 0.0865 - val_loss: 4.9806 - val_acc: 0.0731\n",
      "Epoch 17/20\n",
      "258/258 [==============================] - 49s 187ms/step - loss: 3.7590 - acc: 0.0935 - val_loss: 4.9258 - val_acc: 0.0798\n",
      "Epoch 18/20\n",
      "258/258 [==============================] - 57s 223ms/step - loss: 3.7000 - acc: 0.0987 - val_loss: 4.9736 - val_acc: 0.0784\n",
      "Epoch 19/20\n",
      "258/258 [==============================] - 49s 191ms/step - loss: 3.6434 - acc: 0.1057 - val_loss: 4.9411 - val_acc: 0.0859\n",
      "Epoch 20/20\n",
      "258/258 [==============================] - 58s 225ms/step - loss: 3.5858 - acc: 0.1106 - val_loss: 4.9656 - val_acc: 0.0833\n"
     ]
    },
    {
     "data": {
      "text/plain": [
       "<keras.src.callbacks.History at 0x7f6c0150da90>"
      ]
     },
     "execution_count": 41,
     "metadata": {},
     "output_type": "execute_result"
    }
   ],
   "source": [
    "train_samples = len(X_train)\n",
    "val_samples = len(X_test)\n",
    "batch_size = 64\n",
    "epochs = 20\n",
    "\n",
    "model.fit_generator(generator = generate_batch(X_train,y_train,32),\n",
    "                    steps_per_epoch = train_samples//batch_size,epochs=epochs,\n",
    "                    validation_data = generate_batch(X_test,y_test,batch_size=batch_size),\n",
    "                    validation_steps = val_samples//batch_size)"
   ]
  },
  {
   "cell_type": "code",
   "execution_count": 43,
   "metadata": {
    "id": "_BxZtiX20QQI"
   },
   "outputs": [],
   "source": [
    "model.save_weights('nmt_eng_hin_translation_trial_1.h5')"
   ]
  },
  {
   "cell_type": "code",
   "execution_count": 44,
   "metadata": {
    "id": "XSv6jOPxzYG-"
   },
   "outputs": [],
   "source": [
    "encoder_model = Model(encoder_inputs,encoder_states)"
   ]
  },
  {
   "cell_type": "code",
   "execution_count": 45,
   "metadata": {
    "id": "1Xa8KOLM353V"
   },
   "outputs": [],
   "source": [
    "# Decoder Setup\n",
    "decoder_state_input_h = Input(shape=(latent_dim,))\n",
    "decoder_state_input_c = Input(shape=(latent_dim,))\n",
    "decoder_states_inputs = [decoder_state_input_h,decoder_state_input_c]"
   ]
  },
  {
   "cell_type": "code",
   "execution_count": 46,
   "metadata": {
    "id": "Bbm2AExf4TtT"
   },
   "outputs": [],
   "source": [
    "dec_emb2 = dec_emb_layer(decoder_inputs)"
   ]
  },
  {
   "cell_type": "code",
   "execution_count": 47,
   "metadata": {
    "id": "3TShTadx4YZa"
   },
   "outputs": [],
   "source": [
    "# To predict the next word in the sequence, set the initial states to the states from the previous t\n",
    "decoder_outputs2,state_h2,state_c2 = decoder_lstm(dec_emb2,initial_state=decoder_states_inputs)\n",
    "decoder_states2 = [state_h2,state_c2]\n",
    "decoder_outputs = decoder_dense(decoder_outputs2) # A dense softmax layer to generate prob dist.\n",
    "\n",
    "# final decoder model\n",
    "decoder_model = Model([decoder_inputs] + decoder_states_inputs,[decoder_outputs2] + decoder_states2)"
   ]
  },
  {
   "cell_type": "code",
   "execution_count": 75,
   "metadata": {
    "id": "I4VFuba45KdX"
   },
   "outputs": [],
   "source": [
    "# def decode_sequence(input_seq):\n",
    "#   # Encode the input as state vector\n",
    "#   states_value = encoder_model.predict(input_seq)\n",
    "#   target_seq = np.zeros(1,1)\n",
    "#   # Populate the first character of target sequence with the staart character\n",
    "#   # Target_seq[0,0] = target_token_index[\"START_\"]\n",
    "#   # Sampling loop for a batch of sequences\n",
    "#   # (to simplify, here we asume a batch of size 1).\n",
    "#   stop_condition = False\n",
    "#   decode_sentence = ''\n",
    "#   while not stop_condition:\n",
    "#     output_tokens,h,c = decoder_model.predict([target_seq]+states_value)\n",
    "\n",
    "#     # Sample a token\n",
    "#     sampled_token_index = np.argmax(output_tokens[0,-1,:])\n",
    "#     sampled_char = reverse_target_char_index[sampled_token_index]\n",
    "#     decoded_sentence+=\"\"+sampled_char\n",
    "\n",
    "#     # Exit condition: either hit max length\n",
    "\n",
    "#     # or find stop character\n",
    "#     if(sampled_char == \"_END\" or len(decoded_sentence)>25):\n",
    "#       stop_condition = True\n",
    "#       # Update the target sequence (of length 1)/\n",
    "#       target_seq = np.zeros((1,1))\n",
    "#       target_seq[0,0] = sampled_token_index\n",
    "\n",
    "#       # Update states\n",
    "#       states_value = [h,c]\n",
    "#   return decoded_sentence\n",
    "\n",
    "\n",
    "\n",
    "\n",
    "\n",
    "\n",
    "def decode_sequence(input_seq):\n",
    "    # Encode the input as state vectors\n",
    "    states_value = encoder_model.predict(input_seq)\n",
    "    \n",
    "    # Generate empty target sequence of length 1\n",
    "    target_seq = np.zeros((1, 1))\n",
    "    \n",
    "    # Populate the first character of target sequence with the start character\n",
    "    #target_seq[0, 0] = target_token_index['START_']\n",
    "    \n",
    "    # Sampling loop for a batch of sequences (simplified for batch size of 1)\n",
    "    stop_condition = False\n",
    "    decoded_sentence = ''\n",
    "    \n",
    "    while not stop_condition:\n",
    "        output_tokens, h, c = decoder_model.predict([target_seq] + states_value)\n",
    "\n",
    "        # Sample a token\n",
    "        sampled_token_index = np.argmax(output_tokens[0, -1, :])\n",
    "        \n",
    "        # Map the token index to the corresponding character\n",
    "        sampled_char = reverse_target_char_index[sampled_token_index]\n",
    "\n",
    "        # Exit condition: either hit max length or find stop character\n",
    "        if sampled_char == '_END' or len(decoded_sentence) > 25:\n",
    "            stop_condition = True\n",
    "        else:\n",
    "            decoded_sentence += sampled_char\n",
    "\n",
    "        # Update the target sequence (of length 1)\n",
    "        target_seq = np.zeros((1, 1))\n",
    "        target_seq[0, 0] = sampled_token_index\n",
    "\n",
    "        # Update states\n",
    "        states_value = [h, c]\n",
    "\n",
    "    return decoded_sentence\n",
    "\n"
   ]
  },
  {
   "cell_type": "code",
   "execution_count": 76,
   "metadata": {
    "id": "l_jLvMkc8Lou"
   },
   "outputs": [],
   "source": [
    "val_gen = generate_batch(X_test,y_test,batch_size=1)\n",
    "k=-1"
   ]
  },
  {
   "cell_type": "code",
   "execution_count": 77,
   "metadata": {
    "colab": {
     "base_uri": "https://localhost:8080/",
     "height": 401
    },
    "id": "hbQV4tcO8Yv-",
    "outputId": "074d9c35-8bda-4121-b841-23e834a11660"
   },
   "outputs": [
    {
     "name": "stdout",
     "output_type": "stream",
     "text": [
      "1/1 [==============================] - 0s 30ms/step\n",
      "1/1 [==============================] - 0s 34ms/step\n"
     ]
    },
    {
     "ename": "KeyError",
     "evalue": "0",
     "output_type": "error",
     "traceback": [
      "\u001B[0;31m---------------------------------------------------------------------------\u001B[0m",
      "\u001B[0;31mKeyError\u001B[0m                                  Traceback (most recent call last)",
      "\u001B[0;32m/tmp/ipykernel_4988/3779615197.py\u001B[0m in \u001B[0;36m<module>\u001B[0;34m\u001B[0m\n\u001B[1;32m      1\u001B[0m \u001B[0mk\u001B[0m\u001B[0;34m+=\u001B[0m\u001B[0;36m2\u001B[0m\u001B[0;34m\u001B[0m\u001B[0;34m\u001B[0m\u001B[0m\n\u001B[1;32m      2\u001B[0m \u001B[0;34m(\u001B[0m\u001B[0minput_seq\u001B[0m\u001B[0;34m,\u001B[0m\u001B[0mactual_output\u001B[0m\u001B[0;34m)\u001B[0m\u001B[0;34m,\u001B[0m\u001B[0m_\u001B[0m \u001B[0;34m=\u001B[0m \u001B[0mnext\u001B[0m\u001B[0;34m(\u001B[0m\u001B[0mval_gen\u001B[0m\u001B[0;34m)\u001B[0m\u001B[0;34m\u001B[0m\u001B[0;34m\u001B[0m\u001B[0m\n\u001B[0;32m----> 3\u001B[0;31m \u001B[0mdecoded_sentence\u001B[0m \u001B[0;34m=\u001B[0m \u001B[0mdecode_sequence\u001B[0m\u001B[0;34m(\u001B[0m\u001B[0minput_seq\u001B[0m\u001B[0;34m)\u001B[0m\u001B[0;34m\u001B[0m\u001B[0;34m\u001B[0m\u001B[0m\n\u001B[0m\u001B[1;32m      4\u001B[0m \u001B[0mprint\u001B[0m\u001B[0;34m(\u001B[0m\u001B[0;34m\"Input English sentence:\"\u001B[0m\u001B[0;34m,\u001B[0m \u001B[0mX_test\u001B[0m\u001B[0;34m[\u001B[0m\u001B[0mk\u001B[0m\u001B[0;34m:\u001B[0m\u001B[0mk\u001B[0m\u001B[0;34m+\u001B[0m\u001B[0;36m1\u001B[0m\u001B[0;34m]\u001B[0m\u001B[0;34m.\u001B[0m\u001B[0mvalues\u001B[0m\u001B[0;34m[\u001B[0m\u001B[0;36m0\u001B[0m\u001B[0;34m]\u001B[0m\u001B[0;34m)\u001B[0m\u001B[0;34m\u001B[0m\u001B[0;34m\u001B[0m\u001B[0m\n\u001B[1;32m      5\u001B[0m \u001B[0mprint\u001B[0m\u001B[0;34m(\u001B[0m\u001B[0;34m\"Actual Hindi Translation:\"\u001B[0m\u001B[0;34m,\u001B[0m \u001B[0my_test\u001B[0m\u001B[0;34m[\u001B[0m\u001B[0mk\u001B[0m\u001B[0;34m:\u001B[0m\u001B[0mk\u001B[0m\u001B[0;34m+\u001B[0m\u001B[0;36m1\u001B[0m\u001B[0;34m]\u001B[0m\u001B[0;34m.\u001B[0m\u001B[0mvalues\u001B[0m\u001B[0;34m[\u001B[0m\u001B[0;36m0\u001B[0m\u001B[0;34m]\u001B[0m\u001B[0;34m)\u001B[0m\u001B[0;34m\u001B[0m\u001B[0;34m\u001B[0m\u001B[0m\n",
      "\u001B[0;32m/tmp/ipykernel_4988/1600703047.py\u001B[0m in \u001B[0;36mdecode_sequence\u001B[0;34m(input_seq)\u001B[0m\n\u001B[1;32m     56\u001B[0m \u001B[0;34m\u001B[0m\u001B[0m\n\u001B[1;32m     57\u001B[0m         \u001B[0;31m# Map the token index to the corresponding character\u001B[0m\u001B[0;34m\u001B[0m\u001B[0;34m\u001B[0m\u001B[0m\n\u001B[0;32m---> 58\u001B[0;31m         \u001B[0msampled_char\u001B[0m \u001B[0;34m=\u001B[0m \u001B[0mreverse_target_char_index\u001B[0m\u001B[0;34m[\u001B[0m\u001B[0msampled_token_index\u001B[0m\u001B[0;34m]\u001B[0m\u001B[0;34m\u001B[0m\u001B[0;34m\u001B[0m\u001B[0m\n\u001B[0m\u001B[1;32m     59\u001B[0m \u001B[0;34m\u001B[0m\u001B[0m\n\u001B[1;32m     60\u001B[0m         \u001B[0;31m# Exit condition: either hit max length or find stop character\u001B[0m\u001B[0;34m\u001B[0m\u001B[0;34m\u001B[0m\u001B[0m\n",
      "\u001B[0;31mKeyError\u001B[0m: 0"
     ]
    }
   ],
   "source": [
    "k+=2\n",
    "(input_seq,actual_output),_ = next(val_gen)\n",
    "decoded_sentence = decode_sequence(input_seq)\n",
    "print(\"Input English sentence:\", X_test[k:k+1].values[0])\n",
    "print(\"Actual Hindi Translation:\", y_test[k:k+1].values[0])\n",
    "print(\"predicted Hindi Translation:\",decoded_sentence[:])"
   ]
  },
  {
   "cell_type": "code",
   "execution_count": null,
   "metadata": {
    "id": "ntV_DZuH8bdP"
   },
   "outputs": [],
   "source": []
  }
 ],
 "metadata": {
  "colab": {
   "provenance": []
  },
  "kernelspec": {
   "display_name": "Python 3 (ipykernel)",
   "language": "python",
   "name": "python3"
  },
  "language_info": {
   "codemirror_mode": {
    "name": "ipython",
    "version": 3
   },
   "file_extension": ".py",
   "mimetype": "text/x-python",
   "name": "python",
   "nbconvert_exporter": "python",
   "pygments_lexer": "ipython3",
   "version": "3.9.15"
  }
 },
 "nbformat": 4,
 "nbformat_minor": 1
}
